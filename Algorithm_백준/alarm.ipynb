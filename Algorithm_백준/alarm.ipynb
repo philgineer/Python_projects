{
 "cells": [
  {
   "cell_type": "code",
   "execution_count": null,
   "metadata": {},
   "outputs": [],
   "source": [
    "list(map(int,input().split()))"
   ]
  },
  {
   "cell_type": "code",
   "execution_count": null,
   "metadata": {},
   "outputs": [],
   "source": [
    "H, M = list(map(int,input().split()))"
   ]
  },
  {
   "cell_type": "code",
   "execution_count": null,
   "metadata": {},
   "outputs": [],
   "source": [
    "H, M"
   ]
  },
  {
   "cell_type": "code",
   "execution_count": null,
   "metadata": {},
   "outputs": [],
   "source": [
    "if M > 60:\n",
    "    H = H + 1\n",
    "    M = M - 60"
   ]
  },
  {
   "cell_type": "code",
   "execution_count": null,
   "metadata": {},
   "outputs": [],
   "source": [
    "H, M"
   ]
  },
  {
   "cell_type": "code",
   "execution_count": null,
   "metadata": {},
   "outputs": [],
   "source": [
    "if M >= 60:\n",
    "    H = H + 1\n",
    "    M = M - 60\n",
    "\n",
    "if H >= 24:\n",
    "    H = H - 24\n",
    "\n",
    "if H < 0:\n",
    "    H = H + 24"
   ]
  },
  {
   "cell_type": "code",
   "execution_count": null,
   "metadata": {},
   "outputs": [],
   "source": [
    "H, M"
   ]
  },
  {
   "cell_type": "code",
   "execution_count": 2,
   "metadata": {},
   "outputs": [
    {
     "name": "stdout",
     "output_type": "stream",
     "text": [
      "20 43\n",
      "19 58\n"
     ]
    }
   ],
   "source": [
    "H, M = list(map(int,input().split()))\n",
    "\n",
    "M = M - 45\n",
    "\n",
    "if M >= 60:\n",
    "    H = H + 1\n",
    "    M = M - 60\n",
    "\n",
    "if M < 0:\n",
    "    H = H - 1\n",
    "    M = M + 60\n",
    "    \n",
    "if H >= 24:\n",
    "    H = H - 24\n",
    "\n",
    "if H < 0:\n",
    "    H = H + 24\n",
    "    \n",
    "print(H, M)"
   ]
  },
  {
   "cell_type": "code",
   "execution_count": null,
   "metadata": {},
   "outputs": [],
   "source": []
  }
 ],
 "metadata": {
  "kernelspec": {
   "display_name": "Python 3",
   "language": "python",
   "name": "python3"
  },
  "language_info": {
   "codemirror_mode": {
    "name": "ipython",
    "version": 3
   },
   "file_extension": ".py",
   "mimetype": "text/x-python",
   "name": "python",
   "nbconvert_exporter": "python",
   "pygments_lexer": "ipython3",
   "version": "3.6.8"
  }
 },
 "nbformat": 4,
 "nbformat_minor": 2
}
