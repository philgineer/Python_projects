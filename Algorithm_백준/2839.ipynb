{
 "cells": [
  {
   "cell_type": "code",
   "execution_count": 10,
   "metadata": {},
   "outputs": [
    {
     "data": {
      "text/plain": [
       "6"
      ]
     },
     "execution_count": 10,
     "metadata": {},
     "output_type": "execute_result"
    }
   ],
   "source": [
    "19//3"
   ]
  },
  {
   "cell_type": "code",
   "execution_count": 12,
   "metadata": {},
   "outputs": [
    {
     "data": {
      "text/plain": [
       "1"
      ]
     },
     "execution_count": 12,
     "metadata": {},
     "output_type": "execute_result"
    }
   ],
   "source": [
    "(3903%5)//3"
   ]
  },
  {
   "cell_type": "code",
   "execution_count": 9,
   "metadata": {},
   "outputs": [
    {
     "data": {
      "text/plain": [
       "0"
      ]
     },
     "execution_count": 9,
     "metadata": {},
     "output_type": "execute_result"
    }
   ],
   "source": [
    "(43%5)%3"
   ]
  },
  {
   "cell_type": "code",
   "execution_count": 24,
   "metadata": {},
   "outputs": [
    {
     "name": "stdout",
     "output_type": "stream",
     "text": [
      "11\n",
      "-1\n"
     ]
    }
   ],
   "source": [
    "n=int(input())\n",
    "if (n%5)%3 == 0:\n",
    "    print((n//5)+(n%5)//3)\n",
    "elif (n%10)%3 == 0:\n",
    "    print((n//10)+(n%10)//3)\n",
    "else:\n",
    "    print(-1)"
   ]
  },
  {
   "cell_type": "code",
   "execution_count": 32,
   "metadata": {},
   "outputs": [
    {
     "data": {
      "text/plain": [
       "18"
      ]
     },
     "execution_count": 32,
     "metadata": {},
     "output_type": "execute_result"
    }
   ],
   "source": [
    "n=99\n",
    "a=(n//15)*3\n",
    "a"
   ]
  },
  {
   "cell_type": "code",
   "execution_count": 30,
   "metadata": {},
   "outputs": [
    {
     "data": {
      "text/plain": [
       "9"
      ]
     },
     "execution_count": 30,
     "metadata": {},
     "output_type": "execute_result"
    }
   ],
   "source": [
    "b=n%15\n",
    "b"
   ]
  },
  {
   "cell_type": "code",
   "execution_count": null,
   "metadata": {},
   "outputs": [],
   "source": [
    "3 3\n",
    "\n",
    "5 5\n",
    "\n",
    "6 33\n",
    " \n",
    "8 5 3\n",
    "\n",
    "9 333\n",
    "10 55\n",
    "11 5 33\n",
    "\n",
    "12 3333\n",
    "13 55 3\n",
    "14 5 333\n",
    "\n",
    "16\n",
    "19\n",
    "22\n",
    "\n",
    "n-10"
   ]
  },
  {
   "cell_type": "code",
   "execution_count": 33,
   "metadata": {},
   "outputs": [],
   "source": [
    "c = [1, 2, 3, 4]"
   ]
  },
  {
   "cell_type": "code",
   "execution_count": 34,
   "metadata": {},
   "outputs": [
    {
     "data": {
      "text/plain": [
       "False"
      ]
     },
     "execution_count": 34,
     "metadata": {},
     "output_type": "execute_result"
    }
   ],
   "source": [
    "4 == c"
   ]
  },
  {
   "cell_type": "code",
   "execution_count": 53,
   "metadata": {},
   "outputs": [
    {
     "name": "stdout",
     "output_type": "stream",
     "text": [
      "18\n",
      "4\n"
     ]
    }
   ],
   "source": [
    "n=int(input())\n",
    "\n",
    "a=(n//15)*3\n",
    "b=n%15\n",
    "if b%3==0:\n",
    "    print(a+(b//3))\n",
    "elif (b-5)%3==0:\n",
    "    print(a+1+(b-5)//3)\n",
    "elif b==13:\n",
    "    print(a+3)\n",
    "elif n>5:\n",
    "    a=3*(n-5)//15\n",
    "    b=(n-5)%15\n",
    "    if b%3==0:\n",
    "        print(a+(b//3))\n",
    "    elif (b-5)%3==0:\n",
    "        print(a+1+(b-5)//3)\n",
    "    elif b==13:\n",
    "        print(a+3)\n",
    "    elif n>10:\n",
    "        a=3*(n-10)//15\n",
    "        b=(n-10)%15\n",
    "        if b%3==0:\n",
    "            print(a+(b//3))\n",
    "        elif (b-5)%3==0:\n",
    "            print(a+1+(b-5)//3)\n",
    "        elif b==13:\n",
    "            print(a+3)\n",
    "        else:\n",
    "            print(-1)\n",
    "    else:\n",
    "        print(-1)\n",
    "else:\n",
    "    print(-1)"
   ]
  },
  {
   "cell_type": "markdown",
   "metadata": {},
   "source": [
    "# 내 정답"
   ]
  },
  {
   "cell_type": "code",
   "execution_count": 70,
   "metadata": {},
   "outputs": [
    {
     "name": "stdout",
     "output_type": "stream",
     "text": [
      "14\n",
      "4\n"
     ]
    }
   ],
   "source": [
    "n=int(input())\n",
    "if n%5==0:\n",
    "    print(n//5)\n",
    "elif n%5==1:\n",
    "    if n>5:\n",
    "        print(n//5 +1)\n",
    "    else:\n",
    "        print(-1)\n",
    "elif n%5==2:\n",
    "    if n>10:\n",
    "        print(n//5 +2)\n",
    "    else:\n",
    "        print(-1)\n",
    "elif n%5==3:\n",
    "    print(n//5 +1)\n",
    "elif n%5==4:\n",
    "    if n>5:\n",
    "        print(n//5 +2)\n",
    "    else:\n",
    "        print(-1)"
   ]
  },
  {
   "cell_type": "markdown",
   "metadata": {},
   "source": [
    "# 1등"
   ]
  },
  {
   "cell_type": "code",
   "execution_count": null,
   "metadata": {},
   "outputs": [],
   "source": [
    "n=int(input())\n",
    "print(-(n in[4,7])or n-2*n//5*2)"
   ]
  },
  {
   "cell_type": "markdown",
   "metadata": {},
   "source": [
    "# 2등"
   ]
  },
  {
   "cell_type": "code",
   "execution_count": 81,
   "metadata": {},
   "outputs": [
    {
     "name": "stdout",
     "output_type": "stream",
     "text": [
      "14\n",
      "4\n"
     ]
    }
   ],
   "source": [
    "n=int(input());print(-1if n in [1,2,4,7] else n//5+n%5-n%5//3*2)"
   ]
  },
  {
   "cell_type": "markdown",
   "metadata": {},
   "source": [
    "# 3등"
   ]
  },
  {
   "cell_type": "code",
   "execution_count": null,
   "metadata": {},
   "outputs": [],
   "source": [
    "i=int(input());c=0\n",
    "while i%5:i-=3;c+=1\n",
    "print(-1 if i<0 else i//5+c)"
   ]
  },
  {
   "cell_type": "markdown",
   "metadata": {},
   "source": [
    "# 10등"
   ]
  },
  {
   "cell_type": "code",
   "execution_count": null,
   "metadata": {},
   "outputs": [],
   "source": [
    "x = int(input());\n",
    "if x==7 or x==4:\n",
    "  print(\"-1\")\n",
    "else:\n",
    "  Re=[0,1,2,1,2];\n",
    "  print(int(x/5)+Re[x%5]);"
   ]
  }
 ],
 "metadata": {
  "kernelspec": {
   "display_name": "Python 3",
   "language": "python",
   "name": "python3"
  },
  "language_info": {
   "codemirror_mode": {
    "name": "ipython",
    "version": 3
   },
   "file_extension": ".py",
   "mimetype": "text/x-python",
   "name": "python",
   "nbconvert_exporter": "python",
   "pygments_lexer": "ipython3",
   "version": "3.6.8"
  }
 },
 "nbformat": 4,
 "nbformat_minor": 2
}
