{
 "cells": [
  {
   "cell_type": "code",
   "execution_count": null,
   "metadata": {},
   "outputs": [],
   "source": [
    "\n",
    "def sigma(x):\n",
    "    if x==0:\n",
    "        return 0\n",
    "    else:\n",
    "        return sigma(x-1) + x"
   ]
  },
  {
   "cell_type": "code",
   "execution_count": null,
   "metadata": {},
   "outputs": [],
   "source": [
    "sigma(5)"
   ]
  },
  {
   "cell_type": "code",
   "execution_count": null,
   "metadata": {},
   "outputs": [],
   "source": [
    "def dsig(x):\n",
    "    return sigma(x) + sigma(x-1)"
   ]
  },
  {
   "cell_type": "code",
   "execution_count": null,
   "metadata": {},
   "outputs": [],
   "source": [
    "dsig(1)"
   ]
  },
  {
   "cell_type": "code",
   "execution_count": null,
   "metadata": {},
   "outputs": [],
   "source": [
    "dsig(2)"
   ]
  },
  {
   "cell_type": "code",
   "execution_count": null,
   "metadata": {},
   "outputs": [],
   "source": [
    "dsig(3)"
   ]
  },
  {
   "cell_type": "code",
   "execution_count": null,
   "metadata": {},
   "outputs": [],
   "source": [
    "dsig(4)"
   ]
  },
  {
   "cell_type": "code",
   "execution_count": null,
   "metadata": {},
   "outputs": [],
   "source": [
    "x,y = map(int, input().split())\n",
    "n=y-x"
   ]
  },
  {
   "cell_type": "code",
   "execution_count": null,
   "metadata": {},
   "outputs": [],
   "source": [
    "i = 1\n",
    "while True:\n",
    "    if dsig(i) <= n:\n",
    "        i+=1\n",
    "    else:\n",
    "        k = i-1\n",
    "        res = n-dsig(k)\n",
    "        print(k, res)\n",
    "        \n",
    "        a = 2*k-1\n",
    "        print(a)\n",
    "        break"
   ]
  },
  {
   "cell_type": "code",
   "execution_count": null,
   "metadata": {},
   "outputs": [],
   "source": [
    "while True:\n",
    "    if k == 0:\n",
    "        print('a:', a, 'k:', k, 'res:', res)\n",
    "        if res == 1:\n",
    "            res-=1\n",
    "            a+=1\n",
    "            print('a:', a, 'k:', k, 'res:', res)\n",
    "        break\n",
    "    if res == 0:\n",
    "        print('a:', a, 'k:', k, 'res:', res)\n",
    "        break\n",
    "    if k <= res:\n",
    "        a+=1\n",
    "        res-=k\n",
    "        k-=1\n",
    "    else:\n",
    "        k-=1\n"
   ]
  },
  {
   "cell_type": "code",
   "execution_count": 19,
   "metadata": {},
   "outputs": [
    {
     "name": "stdout",
     "output_type": "stream",
     "text": [
      "0 5\n",
      "4\n"
     ]
    }
   ],
   "source": [
    "x,y = map(int, input().split())\n",
    "n=y-x\n",
    "\n",
    "def sigma(x):\n",
    "    if x==0:\n",
    "        return 0\n",
    "    else:\n",
    "        return sigma(x-1) + x\n",
    "\n",
    "def dsig(x):\n",
    "    return sigma(x) + sigma(x-1)\n",
    "    \n",
    "if n == 1:\n",
    "    print(1)\n",
    "\n",
    "else:\n",
    "    i = 1\n",
    "    while True:\n",
    "        if dsig(i) <= n:\n",
    "            i+=1\n",
    "        else:\n",
    "            k = i-1\n",
    "            res = n-dsig(k)\n",
    "            a = 2*k-1\n",
    "            break\n",
    "\n",
    "    if res-res//k == 0:\n",
    "        print(a + res//k)\n",
    "    else:\n",
    "        print(a + res//k + 1)"
   ]
  },
  {
   "cell_type": "code",
   "execution_count": 13,
   "metadata": {},
   "outputs": [
    {
     "data": {
      "text/plain": [
       "0"
      ]
     },
     "execution_count": 13,
     "metadata": {},
     "output_type": "execute_result"
    }
   ],
   "source": [
    "4//5"
   ]
  },
  {
   "cell_type": "code",
   "execution_count": null,
   "metadata": {},
   "outputs": [],
   "source": []
  }
 ],
 "metadata": {
  "kernelspec": {
   "display_name": "Python 3",
   "language": "python",
   "name": "python3"
  },
  "language_info": {
   "codemirror_mode": {
    "name": "ipython",
    "version": 3
   },
   "file_extension": ".py",
   "mimetype": "text/x-python",
   "name": "python",
   "nbconvert_exporter": "python",
   "pygments_lexer": "ipython3",
   "version": "3.6.8"
  }
 },
 "nbformat": 4,
 "nbformat_minor": 2
}
