{
 "cells": [
  {
   "cell_type": "code",
   "execution_count": null,
   "metadata": {},
   "outputs": [],
   "source": [
    "a = 'MisdifljqklDdfjlsdFsndflnd'"
   ]
  },
  {
   "cell_type": "code",
   "execution_count": null,
   "metadata": {},
   "outputs": [],
   "source": [
    "a"
   ]
  },
  {
   "cell_type": "code",
   "execution_count": null,
   "metadata": {},
   "outputs": [],
   "source": [
    "a.lower()"
   ]
  },
  {
   "cell_type": "code",
   "execution_count": null,
   "metadata": {},
   "outputs": [],
   "source": [
    "a.values_count()"
   ]
  },
  {
   "cell_type": "code",
   "execution_count": null,
   "metadata": {
    "scrolled": false
   },
   "outputs": [],
   "source": [
    "list(a)"
   ]
  },
  {
   "cell_type": "code",
   "execution_count": null,
   "metadata": {},
   "outputs": [],
   "source": [
    "import pandas as pd"
   ]
  },
  {
   "cell_type": "code",
   "execution_count": null,
   "metadata": {},
   "outputs": [],
   "source": [
    "b = pd.value_counts(list(a))"
   ]
  },
  {
   "cell_type": "code",
   "execution_count": null,
   "metadata": {},
   "outputs": [],
   "source": [
    "b"
   ]
  },
  {
   "cell_type": "code",
   "execution_count": null,
   "metadata": {},
   "outputs": [],
   "source": [
    "b[0]"
   ]
  },
  {
   "cell_type": "code",
   "execution_count": null,
   "metadata": {},
   "outputs": [],
   "source": [
    "b[1]"
   ]
  },
  {
   "cell_type": "code",
   "execution_count": null,
   "metadata": {},
   "outputs": [],
   "source": [
    "b.index[0]"
   ]
  },
  {
   "cell_type": "code",
   "execution_count": 43,
   "metadata": {},
   "outputs": [
    {
     "name": "stdout",
     "output_type": "stream",
     "text": [
      "sdlkfjlkqmlkfmklfmlkdnflkdsfklmfdafjjfqoiejpoqmpogjqdpofmkfsndlkfnklSDNKLFSNLKFSDNLKFNSDLKFnsdklfnwlkdfnKLSDFNLKSD\n",
      "?\n"
     ]
    }
   ],
   "source": [
    "a = input().upper()\n",
    "import pandas\n",
    "b = pandas.value_counts(list(a))\n",
    "if b[0]==b[1]:\n",
    "    print('?')\n",
    "else:\n",
    "    print(b.index[0])"
   ]
  },
  {
   "cell_type": "code",
   "execution_count": 44,
   "metadata": {
    "scrolled": true
   },
   "outputs": [
    {
     "data": {
      "text/plain": [
       "['S',\n",
       " 'D',\n",
       " 'L',\n",
       " 'K',\n",
       " 'F',\n",
       " 'J',\n",
       " 'L',\n",
       " 'K',\n",
       " 'Q',\n",
       " 'M',\n",
       " 'L',\n",
       " 'K',\n",
       " 'F',\n",
       " 'M',\n",
       " 'K',\n",
       " 'L',\n",
       " 'F',\n",
       " 'M',\n",
       " 'L',\n",
       " 'K',\n",
       " 'D',\n",
       " 'N',\n",
       " 'F',\n",
       " 'L',\n",
       " 'K',\n",
       " 'D',\n",
       " 'S',\n",
       " 'F',\n",
       " 'K',\n",
       " 'L',\n",
       " 'M',\n",
       " 'F',\n",
       " 'D',\n",
       " 'A',\n",
       " 'F',\n",
       " 'J',\n",
       " 'J',\n",
       " 'F',\n",
       " 'Q',\n",
       " 'O',\n",
       " 'I',\n",
       " 'E',\n",
       " 'J',\n",
       " 'P',\n",
       " 'O',\n",
       " 'Q',\n",
       " 'M',\n",
       " 'P',\n",
       " 'O',\n",
       " 'G',\n",
       " 'J',\n",
       " 'Q',\n",
       " 'D',\n",
       " 'P',\n",
       " 'O',\n",
       " 'F',\n",
       " 'M',\n",
       " 'K',\n",
       " 'F',\n",
       " 'S',\n",
       " 'N',\n",
       " 'D',\n",
       " 'L',\n",
       " 'K',\n",
       " 'F',\n",
       " 'N',\n",
       " 'K',\n",
       " 'L',\n",
       " 'S',\n",
       " 'D',\n",
       " 'N',\n",
       " 'K',\n",
       " 'L',\n",
       " 'F',\n",
       " 'S',\n",
       " 'N',\n",
       " 'L',\n",
       " 'K',\n",
       " 'F',\n",
       " 'S',\n",
       " 'D',\n",
       " 'N',\n",
       " 'L',\n",
       " 'K',\n",
       " 'F',\n",
       " 'N',\n",
       " 'S',\n",
       " 'D',\n",
       " 'L',\n",
       " 'K',\n",
       " 'F',\n",
       " 'N',\n",
       " 'S',\n",
       " 'D',\n",
       " 'K',\n",
       " 'L',\n",
       " 'F',\n",
       " 'N',\n",
       " 'W',\n",
       " 'L',\n",
       " 'K',\n",
       " 'D',\n",
       " 'F',\n",
       " 'N',\n",
       " 'K',\n",
       " 'L',\n",
       " 'S',\n",
       " 'D',\n",
       " 'F',\n",
       " 'N',\n",
       " 'L',\n",
       " 'K',\n",
       " 'S',\n",
       " 'D']"
      ]
     },
     "execution_count": 44,
     "metadata": {},
     "output_type": "execute_result"
    }
   ],
   "source": [
    "list(a)"
   ]
  },
  {
   "cell_type": "code",
   "execution_count": 45,
   "metadata": {},
   "outputs": [
    {
     "data": {
      "text/plain": [
       "{'A',\n",
       " 'D',\n",
       " 'E',\n",
       " 'F',\n",
       " 'G',\n",
       " 'I',\n",
       " 'J',\n",
       " 'K',\n",
       " 'L',\n",
       " 'M',\n",
       " 'N',\n",
       " 'O',\n",
       " 'P',\n",
       " 'Q',\n",
       " 'S',\n",
       " 'W'}"
      ]
     },
     "execution_count": 45,
     "metadata": {},
     "output_type": "execute_result"
    }
   ],
   "source": [
    "set(a)"
   ]
  },
  {
   "cell_type": "code",
   "execution_count": 46,
   "metadata": {},
   "outputs": [],
   "source": [
    "num = []\n",
    "for i in ['A','B','C','D','E','F','G','H','I','J','K','L','M','N','O','P','Q','R','S','T','U','V','W','X','Y','Z']:\n",
    "    num.append(list(a).count(i))"
   ]
  },
  {
   "cell_type": "code",
   "execution_count": 47,
   "metadata": {
    "scrolled": true
   },
   "outputs": [
    {
     "data": {
      "text/plain": [
       "[1,\n",
       " 0,\n",
       " 0,\n",
       " 13,\n",
       " 1,\n",
       " 18,\n",
       " 1,\n",
       " 0,\n",
       " 1,\n",
       " 5,\n",
       " 18,\n",
       " 17,\n",
       " 6,\n",
       " 11,\n",
       " 4,\n",
       " 3,\n",
       " 4,\n",
       " 0,\n",
       " 10,\n",
       " 0,\n",
       " 0,\n",
       " 0,\n",
       " 1,\n",
       " 0,\n",
       " 0,\n",
       " 0]"
      ]
     },
     "execution_count": 47,
     "metadata": {},
     "output_type": "execute_result"
    }
   ],
   "source": [
    "num"
   ]
  },
  {
   "cell_type": "code",
   "execution_count": 53,
   "metadata": {},
   "outputs": [
    {
     "data": {
      "text/plain": [
       "18"
      ]
     },
     "execution_count": 53,
     "metadata": {},
     "output_type": "execute_result"
    }
   ],
   "source": [
    "max(num)"
   ]
  },
  {
   "cell_type": "code",
   "execution_count": 71,
   "metadata": {},
   "outputs": [
    {
     "data": {
      "text/plain": [
       "2"
      ]
     },
     "execution_count": 71,
     "metadata": {},
     "output_type": "execute_result"
    }
   ],
   "source": [
    "num.count(max(num))"
   ]
  },
  {
   "cell_type": "code",
   "execution_count": 69,
   "metadata": {},
   "outputs": [
    {
     "data": {
      "text/plain": [
       "5"
      ]
     },
     "execution_count": 69,
     "metadata": {},
     "output_type": "execute_result"
    }
   ],
   "source": [
    "num.index(18)"
   ]
  },
  {
   "cell_type": "code",
   "execution_count": 70,
   "metadata": {},
   "outputs": [
    {
     "data": {
      "text/plain": [
       "18"
      ]
     },
     "execution_count": 70,
     "metadata": {},
     "output_type": "execute_result"
    }
   ],
   "source": [
    "num[5]"
   ]
  },
  {
   "cell_type": "code",
   "execution_count": 74,
   "metadata": {},
   "outputs": [
    {
     "data": {
      "text/plain": [
       "5"
      ]
     },
     "execution_count": 74,
     "metadata": {},
     "output_type": "execute_result"
    }
   ],
   "source": [
    "num.index(max(num))"
   ]
  },
  {
   "cell_type": "code",
   "execution_count": 75,
   "metadata": {},
   "outputs": [
    {
     "name": "stdout",
     "output_type": "stream",
     "text": [
      "?\n"
     ]
    }
   ],
   "source": [
    "if num.count(max(num))>=2:\n",
    "    print('?')\n",
    "else:\n",
    "    print(list(a)[num.index(max(num))])"
   ]
  },
  {
   "cell_type": "markdown",
   "metadata": {},
   "source": [
    "# 내 정답"
   ]
  },
  {
   "cell_type": "code",
   "execution_count": 82,
   "metadata": {},
   "outputs": [
    {
     "name": "stdout",
     "output_type": "stream",
     "text": [
      "zZa\n",
      "Z\n"
     ]
    }
   ],
   "source": [
    "a = input().upper()\n",
    "num = []\n",
    "alphabet=['A','B','C','D','E','F','G','H','I','J','K','L','M','N','O','P','Q','R','S','T','U','V','W','X','Y','Z']\n",
    "for i in alphabet:\n",
    "    num.append(list(a).count(i))\n",
    "if num.count(max(num))>=2:\n",
    "    print('?')\n",
    "else:\n",
    "    print(alphabet[num.index(max(num))])"
   ]
  },
  {
   "cell_type": "markdown",
   "metadata": {},
   "source": [
    "# 순위권 답"
   ]
  },
  {
   "cell_type": "code",
   "execution_count": 83,
   "metadata": {},
   "outputs": [
    {
     "name": "stdout",
     "output_type": "stream",
     "text": [
      "Missisipi\n",
      "I\n"
     ]
    }
   ],
   "source": [
    "s = input().upper()\n",
    "l = [s.count(chr(c)) for c in range(65, 91)]\n",
    "\n",
    "m = max(l)\n",
    "if l.count(m) == 1:\n",
    "    print(chr(l.index(m)+65))\n",
    "else:\n",
    "    print('?')"
   ]
  },
  {
   "cell_type": "code",
   "execution_count": 88,
   "metadata": {},
   "outputs": [
    {
     "data": {
      "text/plain": [
       "'A'"
      ]
     },
     "execution_count": 88,
     "metadata": {},
     "output_type": "execute_result"
    }
   ],
   "source": [
    "chr(65)"
   ]
  },
  {
   "cell_type": "code",
   "execution_count": 89,
   "metadata": {},
   "outputs": [
    {
     "data": {
      "text/plain": [
       "'['"
      ]
     },
     "execution_count": 89,
     "metadata": {},
     "output_type": "execute_result"
    }
   ],
   "source": [
    "chr(91)"
   ]
  },
  {
   "cell_type": "code",
   "execution_count": 90,
   "metadata": {},
   "outputs": [
    {
     "data": {
      "text/plain": [
       "'Z'"
      ]
     },
     "execution_count": 90,
     "metadata": {},
     "output_type": "execute_result"
    }
   ],
   "source": [
    "chr(90)"
   ]
  },
  {
   "cell_type": "code",
   "execution_count": 92,
   "metadata": {},
   "outputs": [
    {
     "data": {
      "text/plain": [
       "1"
      ]
     },
     "execution_count": 92,
     "metadata": {},
     "output_type": "execute_result"
    }
   ],
   "source": [
    "a.count(chr(65))"
   ]
  },
  {
   "cell_type": "code",
   "execution_count": 93,
   "metadata": {},
   "outputs": [
    {
     "name": "stdout",
     "output_type": "stream",
     "text": [
      "dkfjk\n"
     ]
    }
   ],
   "source": [
    "a = input().upper()\n",
    "l = [a.count(chr(c)) for c in range(65,91)]"
   ]
  },
  {
   "cell_type": "code",
   "execution_count": 94,
   "metadata": {
    "scrolled": true
   },
   "outputs": [
    {
     "data": {
      "text/plain": [
       "[0, 0, 0, 1, 0, 1, 0, 0, 0, 1, 2, 0, 0, 0, 0, 0, 0, 0, 0, 0, 0, 0, 0, 0, 0, 0]"
      ]
     },
     "execution_count": 94,
     "metadata": {},
     "output_type": "execute_result"
    }
   ],
   "source": [
    "l"
   ]
  },
  {
   "cell_type": "markdown",
   "metadata": {},
   "source": [
    "### 내가 풀었던 방법과 원리는 거의 같다. 나는 단지 chr 함수를 몰랐고, ==1일 때 출력 else print ? 라는 조금 더 간단한 풀이를 생각 못했을 뿐. 스스로의 풀이에 아주 만족한다. 근데 고작 저 차이에 속도는 무려 8배 정도..."
   ]
  },
  {
   "cell_type": "code",
   "execution_count": null,
   "metadata": {},
   "outputs": [],
   "source": []
  }
 ],
 "metadata": {
  "kernelspec": {
   "display_name": "Python 3",
   "language": "python",
   "name": "python3"
  },
  "language_info": {
   "codemirror_mode": {
    "name": "ipython",
    "version": 3
   },
   "file_extension": ".py",
   "mimetype": "text/x-python",
   "name": "python",
   "nbconvert_exporter": "python",
   "pygments_lexer": "ipython3",
   "version": "3.6.8"
  }
 },
 "nbformat": 4,
 "nbformat_minor": 2
}
