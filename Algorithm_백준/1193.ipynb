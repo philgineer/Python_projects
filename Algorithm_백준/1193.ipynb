{
 "cells": [
  {
   "cell_type": "code",
   "execution_count": 7,
   "metadata": {},
   "outputs": [
    {
     "name": "stdout",
     "output_type": "stream",
     "text": [
      "5\n",
      "6\n",
      "7\n",
      "8\n"
     ]
    }
   ],
   "source": [
    "for i in [5,6,7,8]:\n",
    "    print(i)"
   ]
  },
  {
   "cell_type": "code",
   "execution_count": 14,
   "metadata": {},
   "outputs": [
    {
     "name": "stdout",
     "output_type": "stream",
     "text": [
      "10 55\n"
     ]
    }
   ],
   "source": [
    "k = 0\n",
    "\n",
    "for i in range(10):\n",
    "    i += 1\n",
    "    k += i\n",
    "print(i, k)"
   ]
  },
  {
   "cell_type": "code",
   "execution_count": 58,
   "metadata": {},
   "outputs": [],
   "source": [
    "def fac(n):\n",
    "    k=0\n",
    "    for i in range(n):\n",
    "        i+=1\n",
    "        k+=i\n",
    "    return k"
   ]
  },
  {
   "cell_type": "code",
   "execution_count": 63,
   "metadata": {
    "scrolled": false
   },
   "outputs": [
    {
     "name": "stdout",
     "output_type": "stream",
     "text": [
      "9\n",
      "4\n"
     ]
    }
   ],
   "source": [
    "x = int(input())\n",
    "\n",
    "m = 1\n",
    "while fac(m) < x:\n",
    "    m += 1\n",
    "print(m)"
   ]
  },
  {
   "cell_type": "code",
   "execution_count": 64,
   "metadata": {
    "scrolled": true
   },
   "outputs": [
    {
     "name": "stdout",
     "output_type": "stream",
     "text": [
      "3/2\n"
     ]
    }
   ],
   "source": [
    "if m%2 == 0:\n",
    "    a=1\n",
    "    b=m\n",
    "    c = x-fac(m-1)-1\n",
    "    print(\"%d/%d\" %(a+c, b-c))\n",
    "    \n",
    "else:\n",
    "    a=m\n",
    "    b=1\n",
    "    c = x-fac(m-1)-1\n",
    "    print(\"%d/%d\" %(a-c, b+c))"
   ]
  },
  {
   "cell_type": "code",
   "execution_count": 86,
   "metadata": {},
   "outputs": [
    {
     "name": "stdout",
     "output_type": "stream",
     "text": [
      "10\n",
      "4/1\n"
     ]
    }
   ],
   "source": [
    "x = int(input())\n",
    "\n",
    "def fac(n):\n",
    "    k=0\n",
    "    for i in range(n):\n",
    "        i+=1\n",
    "        k+=i\n",
    "    return k\n",
    "\n",
    "m = 1\n",
    "while fac(m) < x:\n",
    "    m += 1\n",
    "\n",
    "c = x-fac(m-1)-1\n",
    "if m%2 == 0:\n",
    "    a=1\n",
    "    b=m\n",
    "    print(\"%d/%d\" %(1+c, m-c))\n",
    "else:\n",
    "    a=m\n",
    "    b=1\n",
    "    print(\"%d/%d\" %(m-c, 1+c))"
   ]
  },
  {
   "cell_type": "markdown",
   "metadata": {},
   "source": [
    "1+2+...+n = 이거 가우스 문제...하\n",
    "(1+n)n/2\n",
    "1+2+...+10 = (1+10)*5"
   ]
  },
  {
   "cell_type": "code",
   "execution_count": 82,
   "metadata": {},
   "outputs": [
    {
     "data": {
      "text/plain": [
       "10"
      ]
     },
     "execution_count": 82,
     "metadata": {},
     "output_type": "execute_result"
    }
   ],
   "source": [
    "x"
   ]
  },
  {
   "cell_type": "code",
   "execution_count": 88,
   "metadata": {},
   "outputs": [
    {
     "data": {
      "text/plain": [
       "55"
      ]
     },
     "execution_count": 88,
     "metadata": {},
     "output_type": "execute_result"
    }
   ],
   "source": [
    "n = int(x*(x+1)/2)\n",
    "n"
   ]
  },
  {
   "cell_type": "code",
   "execution_count": 93,
   "metadata": {},
   "outputs": [],
   "source": [
    "def g(m):\n",
    "    return int(m*(m+1)/2)"
   ]
  },
  {
   "cell_type": "code",
   "execution_count": 103,
   "metadata": {},
   "outputs": [
    {
     "name": "stdout",
     "output_type": "stream",
     "text": [
      "10\n",
      "4/1\n"
     ]
    }
   ],
   "source": [
    "def g(m):\n",
    "    return int(m*(m+1)/2)\n",
    "\n",
    "x = int(input())\n",
    "\n",
    "m = 1\n",
    "while g(m) < x:\n",
    "    m += 1\n",
    "\n",
    "c = x-(g(m-1))-1\n",
    "if m%2 == 0:\n",
    "    a=1\n",
    "    b=m\n",
    "    print(\"%d/%d\" %(1+c, m-c))\n",
    "else:\n",
    "    a=m\n",
    "    b=1\n",
    "    print(\"%d/%d\" %(m-c, 1+c))"
   ]
  },
  {
   "cell_type": "markdown",
   "metadata": {},
   "source": [
    "## 내 최종 정답"
   ]
  },
  {
   "cell_type": "code",
   "execution_count": 107,
   "metadata": {},
   "outputs": [
    {
     "name": "stdout",
     "output_type": "stream",
     "text": [
      "14\n",
      "2/4\n"
     ]
    }
   ],
   "source": [
    "def g(m):\n",
    "    return int(m*(m+1)/2)\n",
    "x = int(input())\n",
    "m = 1\n",
    "while g(m) < x:\n",
    "    m += 1\n",
    "c = x-(g(m-1))-1\n",
    "if m%2 == 0:\n",
    "    print(\"%d/%d\" %(1+c, m-c))\n",
    "else:\n",
    "    print(\"%d/%d\" %(m-c, 1+c))"
   ]
  }
 ],
 "metadata": {
  "kernelspec": {
   "display_name": "Python 3",
   "language": "python",
   "name": "python3"
  },
  "language_info": {
   "codemirror_mode": {
    "name": "ipython",
    "version": 3
   },
   "file_extension": ".py",
   "mimetype": "text/x-python",
   "name": "python",
   "nbconvert_exporter": "python",
   "pygments_lexer": "ipython3",
   "version": "3.6.8"
  }
 },
 "nbformat": 4,
 "nbformat_minor": 2
}
