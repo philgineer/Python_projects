{
 "cells": [
  {
   "cell_type": "markdown",
   "metadata": {},
   "source": [
    "## Dental image CNN classification\n",
    "\n",
    "- cats&dogs script를 참고하고 CNN은 keras로 간편하게 구축했지만, 자력으로 처음부터 끝까지 코딩짜서 완성하고 성공시킴!\n",
    "\n",
    "- 200개가 안되는 training set으로 CNN 학습 결과, test set accuracy 71%가 나옴.\n",
    "\n",
    "- 근데 강사님 피드백: resnet 쓰면 99%도 나옴 (코드도 간단)"
   ]
  },
  {
   "cell_type": "code",
   "execution_count": 1,
   "metadata": {},
   "outputs": [
    {
     "name": "stdout",
     "output_type": "stream",
     "text": [
      "1.13.1\n",
      "2.2.4-tf\n"
     ]
    }
   ],
   "source": [
    "import tensorflow as tf\n",
    "from tensorflow import keras\n",
    "from tensorflow.keras.utils import to_categorical\n",
    "import numpy as np\n",
    "import matplotlib.pyplot as plt\n",
    "import os\n",
    "import cv2\n",
    "from random import shuffle\n",
    "from tqdm import tqdm\n",
    "import glob\n",
    "from PIL import Image\n",
    "\n",
    "tf.enable_eager_execution()\n",
    "print(tf.__version__)\n",
    "print(keras.__version__)"
   ]
  },
  {
   "cell_type": "code",
   "execution_count": 4,
   "metadata": {},
   "outputs": [],
   "source": [
    "TRAIN_DIR = './train/'\n",
    "TEST_DIR = './test/'\n",
    "\n",
    "IM_WIDTH = 50\n",
    "IM_HEIGHT = 50"
   ]
  },
  {
   "cell_type": "markdown",
   "metadata": {},
   "source": [
    "- cured   = 0\n",
    "- decay   = 1\n",
    "- healthy = 2"
   ]
  },
  {
   "cell_type": "code",
   "execution_count": 14,
   "metadata": {},
   "outputs": [
    {
     "name": "stdout",
     "output_type": "stream",
     "text": [
      "./train/cured/\n",
      "./train/decayed/\n",
      "./train/healthy/\n"
     ]
    }
   ],
   "source": [
    "for i in ['cured/', 'decayed/', 'healthy/']:\n",
    "    print(TRAIN_DIR + i)"
   ]
  },
  {
   "cell_type": "code",
   "execution_count": 19,
   "metadata": {},
   "outputs": [],
   "source": [
    "def read_images(directory, resize_to=(50,50)):\n",
    "    images = []\n",
    "    labels = []\n",
    "    \n",
    "    for i in ['cured/', 'decayed/', 'healthy/']:\n",
    "        \n",
    "    \n",
    "        for f in tqdm(os.listdir(directory + i)):         #tqdm: progress bar 표시\n",
    "\n",
    "            #디렉토리 이름과 파일 이름을 연결.\n",
    "            #directory: ./cats_dogs/train/\n",
    "            #f: cat.0.jpg\n",
    "            #path: ./cats_dogs/train/cat.0.jpg\n",
    "            path = os.path.join(directory + i, f)\n",
    "\n",
    "            im = Image.open(path)\n",
    "            im = im.resize(resize_to)\n",
    "\n",
    "            im = np.array(im) / 255.0   # 이미지 파일에 저장된 RGB 값은 0~255 사이로 저장되어 있음.ㅁ\n",
    "            im = im.astype('float32')\n",
    "\n",
    "            images.append(im)  # images에 im 추가\n",
    "\n",
    "            label = 0 if 'cured' in path else 1 if 'decayed' in path else 2\n",
    "            labels.append(label)\n",
    "\n",
    "    #label을 one hot encoding 처리\n",
    "    num = np.unique(labels, axis=0)\n",
    "    num = num.shape[0]\n",
    "    labels = np.eye(num)[labels]\n",
    "\n",
    "    return np.array(images), np.array(labels)"
   ]
  },
  {
   "cell_type": "code",
   "execution_count": 20,
   "metadata": {},
   "outputs": [
    {
     "name": "stderr",
     "output_type": "stream",
     "text": [
      "100%|██████████████████████████████████████████████████████████████████████████████████| 50/50 [00:00<00:00, 70.36it/s]\n",
      "100%|██████████████████████████████████████████████████████████████████████████████████| 50/50 [00:00<00:00, 99.47it/s]\n",
      "100%|██████████████████████████████████████████████████████████████████████████████████| 50/50 [00:00<00:00, 90.32it/s]\n"
     ]
    }
   ],
   "source": [
    "X_train, y_train = read_images(directory = TRAIN_DIR, resize_to=(IM_WIDTH, IM_HEIGHT))"
   ]
  },
  {
   "cell_type": "code",
   "execution_count": 21,
   "metadata": {},
   "outputs": [
    {
     "data": {
      "text/plain": [
       "array([[[[0.85490197, 0.4745098 , 0.4117647 ],\n",
       "         [0.8352941 , 0.5058824 , 0.40392157],\n",
       "         [0.8627451 , 0.49411765, 0.39215687],\n",
       "         ...,\n",
       "         [0.8862745 , 0.6901961 , 0.48235294],\n",
       "         [0.8862745 , 0.6666667 , 0.42745098],\n",
       "         [0.88235295, 0.62352943, 0.33333334]],\n",
       "\n",
       "        [[0.85882354, 0.47843137, 0.41568628],\n",
       "         [0.8509804 , 0.5058824 , 0.4117647 ],\n",
       "         [0.87058824, 0.5137255 , 0.40784314],\n",
       "         ...,\n",
       "         [0.88235295, 0.6862745 , 0.45490196],\n",
       "         [0.8901961 , 0.654902  , 0.41960785],\n",
       "         [0.87058824, 0.6039216 , 0.31764707]],\n",
       "\n",
       "        [[0.8666667 , 0.49803922, 0.4       ],\n",
       "         [0.8784314 , 0.5176471 , 0.41960785],\n",
       "         [0.87058824, 0.5294118 , 0.41960785],\n",
       "         ...,\n",
       "         [0.8745098 , 0.65882355, 0.40784314],\n",
       "         [0.88235295, 0.6313726 , 0.3529412 ],\n",
       "         [0.8509804 , 0.5686275 , 0.24705882]],\n",
       "\n",
       "        ...,\n",
       "\n",
       "        [[0.99607843, 0.5529412 , 0.41960785],\n",
       "         [0.99215686, 0.5686275 , 0.41568628],\n",
       "         [0.99215686, 0.58431375, 0.4392157 ],\n",
       "         ...,\n",
       "         [0.75686276, 0.36862746, 0.2784314 ],\n",
       "         [0.7607843 , 0.36862746, 0.26666668],\n",
       "         [0.75686276, 0.3254902 , 0.21960784]],\n",
       "\n",
       "        [[0.9882353 , 0.5686275 , 0.39607844],\n",
       "         [0.98039216, 0.5764706 , 0.40784314],\n",
       "         [0.972549  , 0.5921569 , 0.42745098],\n",
       "         ...,\n",
       "         [0.7529412 , 0.38431373, 0.28627452],\n",
       "         [0.7921569 , 0.3764706 , 0.28235295],\n",
       "         [0.7294118 , 0.30588236, 0.20392157]],\n",
       "\n",
       "        [[0.9882353 , 0.5568628 , 0.4117647 ],\n",
       "         [0.9843137 , 0.5764706 , 0.43137255],\n",
       "         [0.9764706 , 0.59607846, 0.45882353],\n",
       "         ...,\n",
       "         [0.7490196 , 0.38039216, 0.27058825],\n",
       "         [0.78431374, 0.3529412 , 0.2627451 ],\n",
       "         [0.7254902 , 0.30980393, 0.20784314]]],\n",
       "\n",
       "\n",
       "       [[[0.43529412, 0.25882354, 0.24705882],\n",
       "         [0.39215687, 0.21176471, 0.21176471],\n",
       "         [0.41568628, 0.23921569, 0.22745098],\n",
       "         ...,\n",
       "         [0.16470589, 0.05490196, 0.05098039],\n",
       "         [0.16470589, 0.07450981, 0.05098039],\n",
       "         [0.21176471, 0.09019608, 0.07843138]],\n",
       "\n",
       "        [[0.39607844, 0.22352941, 0.21960784],\n",
       "         [0.4117647 , 0.21176471, 0.23137255],\n",
       "         [0.4       , 0.23921569, 0.21568628],\n",
       "         ...,\n",
       "         [0.16862746, 0.05882353, 0.05490196],\n",
       "         [0.18431373, 0.06666667, 0.05882353],\n",
       "         [0.23529412, 0.09803922, 0.11372549]],\n",
       "\n",
       "        [[0.40784314, 0.21176471, 0.20784314],\n",
       "         [0.41960785, 0.23137255, 0.21568628],\n",
       "         [0.40784314, 0.22745098, 0.22745098],\n",
       "         ...,\n",
       "         [0.18431373, 0.08235294, 0.07843138],\n",
       "         [0.24705882, 0.11372549, 0.10980392],\n",
       "         [0.24313726, 0.12156863, 0.10980392]],\n",
       "\n",
       "        ...,\n",
       "\n",
       "        [[0.7764706 , 0.5176471 , 0.52156866],\n",
       "         [0.7764706 , 0.5254902 , 0.5294118 ],\n",
       "         [0.74509805, 0.49411765, 0.49803922],\n",
       "         ...,\n",
       "         [0.5529412 , 0.35686275, 0.36078432],\n",
       "         [0.54901963, 0.36078432, 0.3529412 ],\n",
       "         [0.5686275 , 0.38039216, 0.37254903]],\n",
       "\n",
       "        [[0.7764706 , 0.50980395, 0.5137255 ],\n",
       "         [0.7529412 , 0.49411765, 0.50980395],\n",
       "         [0.7372549 , 0.49411765, 0.49803922],\n",
       "         ...,\n",
       "         [0.54509807, 0.35686275, 0.34901962],\n",
       "         [0.54901963, 0.37254903, 0.38431373],\n",
       "         [0.56078434, 0.38039216, 0.38039216]],\n",
       "\n",
       "        [[0.75686276, 0.49803922, 0.5019608 ],\n",
       "         [0.7529412 , 0.49803922, 0.5137255 ],\n",
       "         [0.7372549 , 0.47843137, 0.4862745 ],\n",
       "         ...,\n",
       "         [0.5803922 , 0.3882353 , 0.4       ],\n",
       "         [0.6039216 , 0.44705883, 0.4509804 ],\n",
       "         [0.5411765 , 0.3764706 , 0.38039216]]],\n",
       "\n",
       "\n",
       "       [[[0.3372549 , 0.14509805, 0.12941177],\n",
       "         [0.34117648, 0.16862746, 0.16470589],\n",
       "         [0.3529412 , 0.17254902, 0.18039216],\n",
       "         ...,\n",
       "         [0.654902  , 0.5019608 , 0.38039216],\n",
       "         [0.6509804 , 0.48235294, 0.34901962],\n",
       "         [0.67058825, 0.47843137, 0.31764707]],\n",
       "\n",
       "        [[0.34117648, 0.15294118, 0.14509805],\n",
       "         [0.36862746, 0.19215687, 0.18039216],\n",
       "         [0.36862746, 0.19607843, 0.2       ],\n",
       "         ...,\n",
       "         [0.65882355, 0.48235294, 0.36078432],\n",
       "         [0.6627451 , 0.46666667, 0.36078432],\n",
       "         [0.6156863 , 0.4627451 , 0.29411766]],\n",
       "\n",
       "        [[0.3647059 , 0.16862746, 0.16470589],\n",
       "         [0.36078432, 0.1882353 , 0.19215687],\n",
       "         [0.37254903, 0.18431373, 0.1764706 ],\n",
       "         ...,\n",
       "         [0.61960787, 0.4745098 , 0.36078432],\n",
       "         [0.6313726 , 0.4627451 , 0.3372549 ],\n",
       "         [0.6431373 , 0.45882353, 0.34901962]],\n",
       "\n",
       "        ...,\n",
       "\n",
       "        [[0.48235294, 0.34509805, 0.3372549 ],\n",
       "         [0.41960785, 0.3019608 , 0.27058825],\n",
       "         [0.5019608 , 0.38039216, 0.4       ],\n",
       "         ...,\n",
       "         [0.34509805, 0.15294118, 0.13725491],\n",
       "         [0.36862746, 0.18431373, 0.15294118],\n",
       "         [0.41960785, 0.18431373, 0.18431373]],\n",
       "\n",
       "        [[0.56078434, 0.5137255 , 0.52156866],\n",
       "         [0.52156866, 0.42745098, 0.47843137],\n",
       "         [0.44313726, 0.30980393, 0.3019608 ],\n",
       "         ...,\n",
       "         [0.36862746, 0.1764706 , 0.16078432],\n",
       "         [0.39607844, 0.20784314, 0.20784314],\n",
       "         [0.42352942, 0.21568628, 0.2       ]],\n",
       "\n",
       "        [[0.4627451 , 0.36078432, 0.37254903],\n",
       "         [0.4745098 , 0.37254903, 0.36862746],\n",
       "         [0.53333336, 0.41568628, 0.40784314],\n",
       "         ...,\n",
       "         [0.37254903, 0.16078432, 0.16078432],\n",
       "         [0.40784314, 0.19607843, 0.19607843],\n",
       "         [0.41960785, 0.21176471, 0.19607843]]],\n",
       "\n",
       "\n",
       "       ...,\n",
       "\n",
       "\n",
       "       [[[0.47058824, 0.12941177, 0.10196079],\n",
       "         [0.49411765, 0.14509805, 0.12156863],\n",
       "         [0.49803922, 0.14901961, 0.1254902 ],\n",
       "         ...,\n",
       "         [0.6509804 , 0.4       , 0.2627451 ],\n",
       "         [0.64705884, 0.3882353 , 0.2627451 ],\n",
       "         [0.6392157 , 0.35686275, 0.25882354]],\n",
       "\n",
       "        [[0.45882353, 0.1254902 , 0.09803922],\n",
       "         [0.48235294, 0.14117648, 0.11372549],\n",
       "         [0.49803922, 0.14117648, 0.12156863],\n",
       "         ...,\n",
       "         [0.6313726 , 0.34901962, 0.2509804 ],\n",
       "         [0.6392157 , 0.34901962, 0.2509804 ],\n",
       "         [0.61960787, 0.3137255 , 0.22352941]],\n",
       "\n",
       "        [[0.4392157 , 0.13333334, 0.08627451],\n",
       "         [0.47058824, 0.13725491, 0.11764706],\n",
       "         [0.49019608, 0.14117648, 0.11764706],\n",
       "         ...,\n",
       "         [0.6039216 , 0.32941177, 0.22745098],\n",
       "         [0.61960787, 0.3137255 , 0.22745098],\n",
       "         [0.62352943, 0.29803923, 0.23529412]],\n",
       "\n",
       "        ...,\n",
       "\n",
       "        [[0.40784314, 0.09803922, 0.07843138],\n",
       "         [0.42352942, 0.09019608, 0.07058824],\n",
       "         [0.44313726, 0.09411765, 0.07058824],\n",
       "         ...,\n",
       "         [0.6156863 , 0.27450982, 0.23921569],\n",
       "         [0.6039216 , 0.2627451 , 0.22745098],\n",
       "         [0.5882353 , 0.24705882, 0.21176471]],\n",
       "\n",
       "        [[0.40784314, 0.09803922, 0.07843138],\n",
       "         [0.42352942, 0.09019608, 0.07058824],\n",
       "         [0.44313726, 0.09411765, 0.07058824],\n",
       "         ...,\n",
       "         [0.60784316, 0.26666668, 0.23137255],\n",
       "         [0.6       , 0.25882354, 0.22352941],\n",
       "         [0.59607846, 0.25490198, 0.21960784]],\n",
       "\n",
       "        [[0.39607844, 0.08627451, 0.06666667],\n",
       "         [0.41960785, 0.08627451, 0.06666667],\n",
       "         [0.4509804 , 0.10196079, 0.07843138],\n",
       "         ...,\n",
       "         [0.5921569 , 0.2509804 , 0.21568628],\n",
       "         [0.5921569 , 0.2509804 , 0.21568628],\n",
       "         [0.6       , 0.25882354, 0.22352941]]],\n",
       "\n",
       "\n",
       "       [[[0.4       , 0.21176471, 0.13333334],\n",
       "         [0.47843137, 0.3137255 , 0.2509804 ],\n",
       "         [0.49019608, 0.34901962, 0.28627452],\n",
       "         ...,\n",
       "         [0.5372549 , 0.29411766, 0.23529412],\n",
       "         [0.54509807, 0.3019608 , 0.2509804 ],\n",
       "         [0.56078434, 0.3137255 , 0.25490198]],\n",
       "\n",
       "        [[0.35686275, 0.12156863, 0.02745098],\n",
       "         [0.4       , 0.20392157, 0.11372549],\n",
       "         [0.46666667, 0.3019608 , 0.23921569],\n",
       "         ...,\n",
       "         [0.53333336, 0.29803923, 0.25490198],\n",
       "         [0.5411765 , 0.29803923, 0.23921569],\n",
       "         [0.5411765 , 0.29803923, 0.23921569]],\n",
       "\n",
       "        [[0.34901962, 0.11372549, 0.07058824],\n",
       "         [0.34509805, 0.10588235, 0.03137255],\n",
       "         [0.4117647 , 0.19607843, 0.11372549],\n",
       "         ...,\n",
       "         [0.53333336, 0.29803923, 0.25490198],\n",
       "         [0.52156866, 0.29411766, 0.23921569],\n",
       "         [0.5529412 , 0.30588236, 0.24705882]],\n",
       "\n",
       "        ...,\n",
       "\n",
       "        [[0.47058824, 0.14509805, 0.11372549],\n",
       "         [0.4862745 , 0.17254902, 0.12941177],\n",
       "         [0.52156866, 0.21176471, 0.15294118],\n",
       "         ...,\n",
       "         [0.44313726, 0.18431373, 0.12941177],\n",
       "         [0.4627451 , 0.2       , 0.13725491],\n",
       "         [0.4745098 , 0.2       , 0.16078432]],\n",
       "\n",
       "        [[0.46666667, 0.1254902 , 0.09019608],\n",
       "         [0.5058824 , 0.16470589, 0.12941177],\n",
       "         [0.50980395, 0.20392157, 0.15686275],\n",
       "         ...,\n",
       "         [0.45882353, 0.16078432, 0.10980392],\n",
       "         [0.4509804 , 0.16078432, 0.10980392],\n",
       "         [0.4509804 , 0.18431373, 0.13333334]],\n",
       "\n",
       "        [[0.47058824, 0.12156863, 0.09019608],\n",
       "         [0.49411765, 0.17254902, 0.1254902 ],\n",
       "         [0.5176471 , 0.19607843, 0.14901961],\n",
       "         ...,\n",
       "         [0.4862745 , 0.21568628, 0.10196079],\n",
       "         [0.43529412, 0.15686275, 0.08627451],\n",
       "         [0.4392157 , 0.16470589, 0.1254902 ]]],\n",
       "\n",
       "\n",
       "       [[[0.54509807, 0.23137255, 0.1882353 ],\n",
       "         [0.53333336, 0.21176471, 0.16470589],\n",
       "         [0.5294118 , 0.2       , 0.15686275],\n",
       "         ...,\n",
       "         [0.6745098 , 0.52156866, 0.36078432],\n",
       "         [0.7058824 , 0.54901963, 0.4117647 ],\n",
       "         [0.70980394, 0.5568628 , 0.44313726]],\n",
       "\n",
       "        [[0.5411765 , 0.21568628, 0.18431373],\n",
       "         [0.53333336, 0.20392157, 0.16078432],\n",
       "         [0.5372549 , 0.19607843, 0.15686275],\n",
       "         ...,\n",
       "         [0.68235296, 0.54901963, 0.4117647 ],\n",
       "         [0.6901961 , 0.5529412 , 0.43529412],\n",
       "         [0.7058824 , 0.57254905, 0.4627451 ]],\n",
       "\n",
       "        [[0.5411765 , 0.21960784, 0.17254902],\n",
       "         [0.5372549 , 0.19607843, 0.15686275],\n",
       "         [0.5254902 , 0.18039216, 0.14117648],\n",
       "         ...,\n",
       "         [0.69803923, 0.5568628 , 0.45490196],\n",
       "         [0.70980394, 0.5686275 , 0.4745098 ],\n",
       "         [0.7137255 , 0.5921569 , 0.50980395]],\n",
       "\n",
       "        ...,\n",
       "\n",
       "        [[0.5294118 , 0.14509805, 0.10196079],\n",
       "         [0.5254902 , 0.14117648, 0.10588235],\n",
       "         [0.5254902 , 0.16078432, 0.12941177],\n",
       "         ...,\n",
       "         [0.5372549 , 0.13725491, 0.11764706],\n",
       "         [0.52156866, 0.11764706, 0.09803922],\n",
       "         [0.5137255 , 0.1254902 , 0.10588235]],\n",
       "\n",
       "        [[0.5568628 , 0.20392157, 0.17254902],\n",
       "         [0.54509807, 0.15294118, 0.09411765],\n",
       "         [0.5372549 , 0.16470589, 0.09411765],\n",
       "         ...,\n",
       "         [0.53333336, 0.12941177, 0.09411765],\n",
       "         [0.5176471 , 0.13725491, 0.10196079],\n",
       "         [0.49803922, 0.13725491, 0.09411765]],\n",
       "\n",
       "        [[0.54509807, 0.20392157, 0.12941177],\n",
       "         [0.5647059 , 0.21960784, 0.14117648],\n",
       "         [0.5647059 , 0.2784314 , 0.14901961],\n",
       "         ...,\n",
       "         [0.54509807, 0.13333334, 0.11764706],\n",
       "         [0.5254902 , 0.14117648, 0.09019608],\n",
       "         [0.50980395, 0.12156863, 0.09803922]]]], dtype=float32)"
      ]
     },
     "execution_count": 21,
     "metadata": {},
     "output_type": "execute_result"
    }
   ],
   "source": [
    "X_train"
   ]
  },
  {
   "cell_type": "code",
   "execution_count": 23,
   "metadata": {
    "scrolled": true
   },
   "outputs": [
    {
     "data": {
      "text/plain": [
       "array([[[0.85490197, 0.4745098 , 0.4117647 ],\n",
       "        [0.8352941 , 0.5058824 , 0.40392157],\n",
       "        [0.8627451 , 0.49411765, 0.39215687],\n",
       "        ...,\n",
       "        [0.8862745 , 0.6901961 , 0.48235294],\n",
       "        [0.8862745 , 0.6666667 , 0.42745098],\n",
       "        [0.88235295, 0.62352943, 0.33333334]],\n",
       "\n",
       "       [[0.85882354, 0.47843137, 0.41568628],\n",
       "        [0.8509804 , 0.5058824 , 0.4117647 ],\n",
       "        [0.87058824, 0.5137255 , 0.40784314],\n",
       "        ...,\n",
       "        [0.88235295, 0.6862745 , 0.45490196],\n",
       "        [0.8901961 , 0.654902  , 0.41960785],\n",
       "        [0.87058824, 0.6039216 , 0.31764707]],\n",
       "\n",
       "       [[0.8666667 , 0.49803922, 0.4       ],\n",
       "        [0.8784314 , 0.5176471 , 0.41960785],\n",
       "        [0.87058824, 0.5294118 , 0.41960785],\n",
       "        ...,\n",
       "        [0.8745098 , 0.65882355, 0.40784314],\n",
       "        [0.88235295, 0.6313726 , 0.3529412 ],\n",
       "        [0.8509804 , 0.5686275 , 0.24705882]],\n",
       "\n",
       "       ...,\n",
       "\n",
       "       [[0.99607843, 0.5529412 , 0.41960785],\n",
       "        [0.99215686, 0.5686275 , 0.41568628],\n",
       "        [0.99215686, 0.58431375, 0.4392157 ],\n",
       "        ...,\n",
       "        [0.75686276, 0.36862746, 0.2784314 ],\n",
       "        [0.7607843 , 0.36862746, 0.26666668],\n",
       "        [0.75686276, 0.3254902 , 0.21960784]],\n",
       "\n",
       "       [[0.9882353 , 0.5686275 , 0.39607844],\n",
       "        [0.98039216, 0.5764706 , 0.40784314],\n",
       "        [0.972549  , 0.5921569 , 0.42745098],\n",
       "        ...,\n",
       "        [0.7529412 , 0.38431373, 0.28627452],\n",
       "        [0.7921569 , 0.3764706 , 0.28235295],\n",
       "        [0.7294118 , 0.30588236, 0.20392157]],\n",
       "\n",
       "       [[0.9882353 , 0.5568628 , 0.4117647 ],\n",
       "        [0.9843137 , 0.5764706 , 0.43137255],\n",
       "        [0.9764706 , 0.59607846, 0.45882353],\n",
       "        ...,\n",
       "        [0.7490196 , 0.38039216, 0.27058825],\n",
       "        [0.78431374, 0.3529412 , 0.2627451 ],\n",
       "        [0.7254902 , 0.30980393, 0.20784314]]], dtype=float32)"
      ]
     },
     "execution_count": 23,
     "metadata": {},
     "output_type": "execute_result"
    }
   ],
   "source": [
    "a = X_train[0]\n",
    "a"
   ]
  },
  {
   "cell_type": "code",
   "execution_count": 36,
   "metadata": {},
   "outputs": [
    {
     "name": "stdout",
     "output_type": "stream",
     "text": [
      "(50, 50, 3)\n"
     ]
    },
    {
     "data": {
      "image/png": "[encoded data removed]",
      "text/plain": [
       "<Figure size 432x288 with 1 Axes>"
      ]
     },
     "metadata": {
      "needs_background": "light"
     },
     "output_type": "display_data"
    }
   ],
   "source": [
    "print(a.shape)\n",
    "plt.imshow(a)\n",
    "plt.show()"
   ]
  },
  {
   "cell_type": "code",
   "execution_count": 32,
   "metadata": {},
   "outputs": [
    {
     "data": {
      "text/plain": [
       "array([1., 0., 0.])"
      ]
     },
     "execution_count": 32,
     "metadata": {},
     "output_type": "execute_result"
    }
   ],
   "source": [
    "y_train[0]"
   ]
  },
  {
   "cell_type": "code",
   "execution_count": 38,
   "metadata": {
    "scrolled": true
   },
   "outputs": [
    {
     "data": {
      "text/plain": [
       "array([[[0.28627452, 0.04705882, 0.03529412],\n",
       "        [0.30588236, 0.05490196, 0.05490196],\n",
       "        [0.28627452, 0.04705882, 0.03529412],\n",
       "        ...,\n",
       "        [0.58431375, 0.19215687, 0.12941177],\n",
       "        [0.5921569 , 0.20784314, 0.10196079],\n",
       "        [0.6       , 0.27058825, 0.12941177]],\n",
       "\n",
       "       [[0.27450982, 0.03529412, 0.03137255],\n",
       "        [0.30588236, 0.05490196, 0.05490196],\n",
       "        [0.30588236, 0.05098039, 0.04313726],\n",
       "        ...,\n",
       "        [0.6       , 0.22745098, 0.15686275],\n",
       "        [0.5921569 , 0.20392157, 0.12941177],\n",
       "        [0.5647059 , 0.1882353 , 0.09019608]],\n",
       "\n",
       "       [[0.30588236, 0.05490196, 0.04705882],\n",
       "        [0.3137255 , 0.05882353, 0.03529412],\n",
       "        [0.3254902 , 0.07058824, 0.0627451 ],\n",
       "        ...,\n",
       "        [0.6117647 , 0.21568628, 0.1764706 ],\n",
       "        [0.5921569 , 0.21176471, 0.14509805],\n",
       "        [0.5686275 , 0.1764706 , 0.08627451]],\n",
       "\n",
       "       ...,\n",
       "\n",
       "       [[0.54509807, 0.19215687, 0.15686275],\n",
       "        [0.56078434, 0.1764706 , 0.1254902 ],\n",
       "        [0.5647059 , 0.18039216, 0.12941177],\n",
       "        ...,\n",
       "        [0.4117647 , 0.08235294, 0.08235294],\n",
       "        [0.42745098, 0.11372549, 0.08627451],\n",
       "        [0.41568628, 0.10588235, 0.08627451]],\n",
       "\n",
       "       [[0.56078434, 0.18431373, 0.13725491],\n",
       "        [0.5529412 , 0.17254902, 0.13725491],\n",
       "        [0.5529412 , 0.1764706 , 0.12941177],\n",
       "        ...,\n",
       "        [0.4117647 , 0.09803922, 0.07058824],\n",
       "        [0.42745098, 0.10196079, 0.07843138],\n",
       "        [0.41568628, 0.10196079, 0.06666667]],\n",
       "\n",
       "       [[0.5411765 , 0.18039216, 0.12941177],\n",
       "        [0.5647059 , 0.18431373, 0.14901961],\n",
       "        [0.5764706 , 0.19215687, 0.14117648],\n",
       "        ...,\n",
       "        [0.40784314, 0.10196079, 0.0627451 ],\n",
       "        [0.43137255, 0.10588235, 0.07450981],\n",
       "        [0.41568628, 0.10196079, 0.05882353]]], dtype=float32)"
      ]
     },
     "execution_count": 38,
     "metadata": {},
     "output_type": "execute_result"
    }
   ],
   "source": [
    "X_train[100]"
   ]
  },
  {
   "cell_type": "code",
   "execution_count": 39,
   "metadata": {},
   "outputs": [
    {
     "data": {
      "image/png": "[encoded data removed]",
      "text/plain": [
       "<Figure size 432x288 with 1 Axes>"
      ]
     },
     "metadata": {
      "needs_background": "light"
     },
     "output_type": "display_data"
    }
   ],
   "source": [
    "plt.imshow(X_train[100])\n",
    "plt.show()"
   ]
  },
  {
   "cell_type": "code",
   "execution_count": 40,
   "metadata": {},
   "outputs": [
    {
     "data": {
      "text/plain": [
       "array([0., 0., 1.])"
      ]
     },
     "execution_count": 40,
     "metadata": {},
     "output_type": "execute_result"
    }
   ],
   "source": [
    "y_train[100]"
   ]
  },
  {
   "cell_type": "code",
   "execution_count": 41,
   "metadata": {},
   "outputs": [
    {
     "data": {
      "text/plain": [
       "(150, 50, 50, 3)"
      ]
     },
     "execution_count": 41,
     "metadata": {},
     "output_type": "execute_result"
    }
   ],
   "source": [
    "X_train.shape"
   ]
  },
  {
   "cell_type": "code",
   "execution_count": 42,
   "metadata": {},
   "outputs": [
    {
     "data": {
      "text/plain": [
       "(150, 3)"
      ]
     },
     "execution_count": 42,
     "metadata": {},
     "output_type": "execute_result"
    }
   ],
   "source": [
    "y_train.shape"
   ]
  },
  {
   "cell_type": "code",
   "execution_count": 49,
   "metadata": {},
   "outputs": [],
   "source": [
    "def create_model():\n",
    "    model = keras.Sequential()\n",
    "    model.add(keras.layers.Conv2D(filters=32, kernel_size=5, activation=tf.nn.relu, padding='SAME',\n",
    "                                  input_shape=(50, 50, 3)))\n",
    "    model.add(keras.layers.MaxPool2D(padding='SAME'))\n",
    "    model.add(keras.layers.Conv2D(filters=64, kernel_size=5, activation=tf.nn.relu, padding='SAME'))\n",
    "    model.add(keras.layers.MaxPool2D(padding='SAME'))\n",
    "    model.add(keras.layers.Conv2D(filters=128, kernel_size=5, activation=tf.nn.relu, padding='SAME'))\n",
    "    model.add(keras.layers.MaxPool2D(padding='SAME'))\n",
    "    model.add(keras.layers.Conv2D(filters=64, kernel_size=5, activation=tf.nn.relu, padding='SAME'))\n",
    "    model.add(keras.layers.MaxPool2D(padding='SAME'))\n",
    "    model.add(keras.layers.Conv2D(filters=32, kernel_size=5, activation=tf.nn.relu, padding='SAME'))\n",
    "    model.add(keras.layers.MaxPool2D(padding='SAME'))\n",
    "    model.add(keras.layers.Flatten())\n",
    "    model.add(keras.layers.Dense(1024, activation=tf.nn.relu))\n",
    "    model.add(keras.layers.Dropout(0.8))\n",
    "    model.add(keras.layers.Dense(3))\n",
    "    return model"
   ]
  },
  {
   "cell_type": "code",
   "execution_count": 50,
   "metadata": {},
   "outputs": [
    {
     "name": "stdout",
     "output_type": "stream",
     "text": [
      "_________________________________________________________________\n",
      "Layer (type)                 Output Shape              Param #   \n",
      "=================================================================\n",
      "conv2d_5 (Conv2D)            (None, 50, 50, 32)        2432      \n",
      "_________________________________________________________________\n",
      "max_pooling2d_5 (MaxPooling2 (None, 25, 25, 32)        0         \n",
      "_________________________________________________________________\n",
      "conv2d_6 (Conv2D)            (None, 25, 25, 64)        51264     \n",
      "_________________________________________________________________\n",
      "max_pooling2d_6 (MaxPooling2 (None, 13, 13, 64)        0         \n",
      "_________________________________________________________________\n",
      "conv2d_7 (Conv2D)            (None, 13, 13, 128)       204928    \n",
      "_________________________________________________________________\n",
      "max_pooling2d_7 (MaxPooling2 (None, 7, 7, 128)         0         \n",
      "_________________________________________________________________\n",
      "conv2d_8 (Conv2D)            (None, 7, 7, 64)          204864    \n",
      "_________________________________________________________________\n",
      "max_pooling2d_8 (MaxPooling2 (None, 4, 4, 64)          0         \n",
      "_________________________________________________________________\n",
      "conv2d_9 (Conv2D)            (None, 4, 4, 32)          51232     \n",
      "_________________________________________________________________\n",
      "max_pooling2d_9 (MaxPooling2 (None, 2, 2, 32)          0         \n",
      "_________________________________________________________________\n",
      "flatten_1 (Flatten)          (None, 128)               0         \n",
      "_________________________________________________________________\n",
      "dense_2 (Dense)              (None, 1024)              132096    \n",
      "_________________________________________________________________\n",
      "dropout_1 (Dropout)          (None, 1024)              0         \n",
      "_________________________________________________________________\n",
      "dense_3 (Dense)              (None, 3)                 3075      \n",
      "=================================================================\n",
      "Total params: 649,891\n",
      "Trainable params: 649,891\n",
      "Non-trainable params: 0\n",
      "_________________________________________________________________\n"
     ]
    }
   ],
   "source": [
    "model = create_model()\n",
    "model.summary()"
   ]
  },
  {
   "cell_type": "code",
   "execution_count": 51,
   "metadata": {},
   "outputs": [],
   "source": [
    "optimizer = tf.train.AdamOptimizer(0.001)"
   ]
  },
  {
   "cell_type": "code",
   "execution_count": 54,
   "metadata": {},
   "outputs": [
    {
     "name": "stdout",
     "output_type": "stream",
     "text": [
      "step: 0 Loss: 1.0126 accuracy: 0.4800\n",
      "step: 1 Loss: 1.0015 accuracy: 0.4733\n",
      "step: 2 Loss: 0.9441 accuracy: 0.5733\n",
      "step: 3 Loss: 0.8640 accuracy: 0.6267\n",
      "step: 4 Loss: 1.0035 accuracy: 0.4867\n",
      "step: 5 Loss: 0.8697 accuracy: 0.6067\n",
      "step: 6 Loss: 0.8465 accuracy: 0.6600\n",
      "step: 7 Loss: 0.8842 accuracy: 0.5733\n",
      "step: 8 Loss: 0.8514 accuracy: 0.5867\n",
      "step: 9 Loss: 0.7789 accuracy: 0.6933\n",
      "step: 10 Loss: 0.7720 accuracy: 0.6733\n",
      "step: 11 Loss: 0.8305 accuracy: 0.6467\n",
      "step: 12 Loss: 0.6813 accuracy: 0.6867\n",
      "step: 13 Loss: 0.7217 accuracy: 0.6800\n",
      "step: 14 Loss: 0.7352 accuracy: 0.6867\n",
      "step: 15 Loss: 0.6380 accuracy: 0.7067\n",
      "step: 16 Loss: 0.7018 accuracy: 0.7067\n",
      "step: 17 Loss: 0.6388 accuracy: 0.7333\n",
      "step: 18 Loss: 0.6272 accuracy: 0.7400\n",
      "step: 19 Loss: 0.6047 accuracy: 0.7400\n",
      "step: 20 Loss: 0.5585 accuracy: 0.7733\n",
      "step: 21 Loss: 0.5270 accuracy: 0.7733\n",
      "step: 22 Loss: 0.5808 accuracy: 0.7733\n",
      "step: 23 Loss: 0.5178 accuracy: 0.7733\n",
      "step: 24 Loss: 0.5694 accuracy: 0.7267\n",
      "step: 25 Loss: 0.6041 accuracy: 0.7267\n",
      "step: 26 Loss: 0.5888 accuracy: 0.7200\n",
      "step: 27 Loss: 0.5075 accuracy: 0.8133\n",
      "step: 28 Loss: 0.5691 accuracy: 0.7800\n",
      "step: 29 Loss: 0.4939 accuracy: 0.7867\n"
     ]
    }
   ],
   "source": [
    "for step in range(30):\n",
    "\n",
    "    with tf.GradientTape() as tape:\n",
    "        hypothesis = model(X_train, training=True)\n",
    "        cost = tf.reduce_mean(tf.nn.softmax_cross_entropy_with_logits_v2(logits=hypothesis,\n",
    "                                                                         labels=y_train))\n",
    "        grads = tape.gradient(cost, model.variables)\n",
    "\n",
    "    optimizer.apply_gradients(zip(grads, model.variables))\n",
    "    correct_prediction = tf.equal(tf.argmax(hypothesis, 1), tf.argmax(y_train, 1))\n",
    "    accuracy = tf.reduce_mean(tf.cast(correct_prediction, tf.float32))\n",
    "\n",
    "    print('step: {} Loss: {:.4f} accuracy: {:.4f}'.format(step, cost, accuracy))"
   ]
  },
  {
   "cell_type": "code",
   "execution_count": 55,
   "metadata": {},
   "outputs": [
    {
     "name": "stderr",
     "output_type": "stream",
     "text": [
      "100%|██████████████████████████████████████████████████████████████████████████████████| 20/20 [00:00<00:00, 99.75it/s]\n",
      "100%|█████████████████████████████████████████████████████████████████████████████████| 20/20 [00:00<00:00, 130.39it/s]\n",
      "100%|██████████████████████████████████████████████████████████████████████████████████| 20/20 [00:00<00:00, 74.31it/s]\n"
     ]
    }
   ],
   "source": [
    "X_test, y_test = read_images(directory = TEST_DIR, resize_to=(IM_WIDTH, IM_HEIGHT))"
   ]
  },
  {
   "cell_type": "code",
   "execution_count": 56,
   "metadata": {},
   "outputs": [
    {
     "data": {
      "image/png": "[encoded data removed]",
      "text/plain": [
       "<Figure size 432x288 with 1 Axes>"
      ]
     },
     "metadata": {
      "needs_background": "light"
     },
     "output_type": "display_data"
    }
   ],
   "source": [
    "plt.imshow(X_test[0])\n",
    "plt.show()"
   ]
  },
  {
   "cell_type": "code",
   "execution_count": 57,
   "metadata": {},
   "outputs": [
    {
     "data": {
      "text/plain": [
       "array([1., 0., 0.])"
      ]
     },
     "execution_count": 57,
     "metadata": {},
     "output_type": "execute_result"
    }
   ],
   "source": [
    "y_test[0]"
   ]
  },
  {
   "cell_type": "code",
   "execution_count": 58,
   "metadata": {
    "scrolled": true
   },
   "outputs": [
    {
     "data": {
      "text/plain": [
       "<tf.Tensor: id=12668, shape=(60, 3), dtype=float32, numpy=\n",
       "array([[ 1.1097419e+00,  7.0066255e-01, -2.2875719e+00],\n",
       "       [-5.8639061e-01,  1.4027593e-01,  4.5302114e-01],\n",
       "       [-4.0310916e-01, -3.3163434e-01,  6.9814026e-01],\n",
       "       [-8.8674057e-01,  1.1867419e+00, -4.8006603e-01],\n",
       "       [ 8.7835945e-02, -8.8141787e-01,  8.3817947e-01],\n",
       "       [-2.0756638e+00,  2.0608850e+00,  1.2799226e-02],\n",
       "       [ 2.1542460e-01, -9.7272980e-01,  7.5306678e-01],\n",
       "       [-1.2855593e+00,  2.9268935e+00, -1.8750719e+00],\n",
       "       [-4.0957648e-01,  1.8057287e-01,  2.1584320e-01],\n",
       "       [ 3.3960053e-01, -1.2867570e+00,  9.1700935e-01],\n",
       "       [ 5.0974554e-01,  7.2307396e-01, -1.5743226e+00],\n",
       "       [ 1.3077425e+00, -1.7108324e+00,  2.7964038e-01],\n",
       "       [ 4.6205705e-01, -1.1806021e+00,  6.8062413e-01],\n",
       "       [ 2.8729801e+00, -4.4679064e-01, -2.9755232e+00],\n",
       "       [ 2.9557678e-01, -1.0977665e+00,  8.1506485e-01],\n",
       "       [ 4.8129630e+00, -2.7315097e+00, -2.5837126e+00],\n",
       "       [ 5.8669586e+00, -4.5690079e+00, -1.7702671e+00],\n",
       "       [ 2.7897208e+00,  1.6059944e-01, -3.6968269e+00],\n",
       "       [ 2.2973619e+00,  1.4412147e-01, -3.1367595e+00],\n",
       "       [-2.3999397e-01,  3.6601651e-01, -2.4726433e-01],\n",
       "       [-4.0069059e-01,  1.0372989e+00, -1.0051615e+00],\n",
       "       [-7.8197789e-01, -1.8539056e-01,  8.9643240e-01],\n",
       "       [-1.0768502e+00,  9.7391748e-01,  1.0678482e-01],\n",
       "       [-2.0716724e+00,  4.2927370e+00, -2.4694328e+00],\n",
       "       [-2.2387674e+00,  4.7164330e+00, -2.7392237e+00],\n",
       "       [-2.1762203e-01,  8.7325150e-01, -8.8124079e-01],\n",
       "       [-3.5445578e-02, -9.8092186e-01,  9.8995280e-01],\n",
       "       [-5.1891100e-01,  3.4323734e-01,  8.7271869e-02],\n",
       "       [ 2.0012970e-01,  9.8160183e-01, -1.5475570e+00],\n",
       "       [-1.1328081e+00,  1.1339406e+00, -1.3883254e-01],\n",
       "       [-1.0256803e+00,  1.4224319e+00, -3.2467952e-01],\n",
       "       [-1.8842716e+00,  2.3293250e+00, -5.8514732e-01],\n",
       "       [-1.3515779e+00,  1.4863219e+00, -8.6745963e-02],\n",
       "       [-1.1115576e+00,  1.3998811e+00, -3.5639226e-01],\n",
       "       [-6.0449642e-01,  4.1581815e-01,  1.7106609e-02],\n",
       "       [-1.3291770e+00,  1.3054435e+00,  4.1172817e-02],\n",
       "       [-1.3812155e+00,  1.0390407e+00,  1.6679397e-01],\n",
       "       [-9.2315835e-01,  5.8681583e-01,  2.5795731e-01],\n",
       "       [-9.4359702e-01,  1.0964140e+00, -1.5892045e-01],\n",
       "       [-7.2592515e-01,  3.0871919e-01,  3.8619295e-01],\n",
       "       [ 5.1841205e-01, -2.3994074e+00,  2.0829690e+00],\n",
       "       [ 6.1530608e-01, -2.1433527e+00,  1.4624190e+00],\n",
       "       [ 2.6792616e-01, -1.3492556e+00,  1.0945834e+00],\n",
       "       [-5.1688951e-01, -4.3296240e-02,  5.3791320e-01],\n",
       "       [-6.6151232e-02, -1.3063639e+00,  1.3792365e+00],\n",
       "       [ 5.4768306e-01, -1.6613481e+00,  1.0944405e+00],\n",
       "       [ 4.7826335e-01, -1.3754475e+00,  8.8468170e-01],\n",
       "       [ 4.5681372e-01, -1.5162904e+00,  1.0447903e+00],\n",
       "       [-3.3367798e-03, -8.8925624e-01,  8.6518610e-01],\n",
       "       [ 7.4811634e-03, -8.6527002e-01,  8.8082814e-01],\n",
       "       [ 5.8445156e-01, -1.8263476e+00,  1.1619134e+00],\n",
       "       [-5.5279940e-01, -4.8500103e-01,  9.8039716e-01],\n",
       "       [ 5.3467101e-01, -2.0869291e+00,  1.4738921e+00],\n",
       "       [-5.5232924e-01, -3.2558692e-01,  8.6085391e-01],\n",
       "       [-1.5962908e-01, -9.5893395e-01,  1.0744522e+00],\n",
       "       [-5.7480186e-02, -1.2964396e+00,  1.3663929e+00],\n",
       "       [ 2.5816965e-01, -1.7728294e+00,  1.4936731e+00],\n",
       "       [-3.9855269e-01, -8.8655335e-01,  1.2145873e+00],\n",
       "       [ 1.0931085e+00, -1.6707472e+00,  4.9886054e-01],\n",
       "       [-2.7058959e-01, -8.0300504e-01,  1.0518501e+00]], dtype=float32)>"
      ]
     },
     "execution_count": 58,
     "metadata": {},
     "output_type": "execute_result"
    }
   ],
   "source": [
    "predict = model(X_test, training=False)\n",
    "predict # 이미지가 0~1 각각에 해당하는 확률이 저장되어 있음"
   ]
  },
  {
   "cell_type": "code",
   "execution_count": 59,
   "metadata": {},
   "outputs": [
    {
     "data": {
      "text/plain": [
       "<tf.Tensor: id=12671, shape=(60,), dtype=int64, numpy=\n",
       "array([0, 2, 2, 1, 2, 1, 2, 1, 2, 2, 1, 0, 2, 0, 2, 0, 0, 0, 0, 1, 1, 2,\n",
       "       1, 1, 1, 1, 2, 1, 1, 1, 1, 1, 1, 1, 1, 1, 1, 1, 1, 2, 2, 2, 2, 2,\n",
       "       2, 2, 2, 2, 2, 2, 2, 2, 2, 2, 2, 2, 2, 2, 0, 2], dtype=int64)>"
      ]
     },
     "execution_count": 59,
     "metadata": {},
     "output_type": "execute_result"
    }
   ],
   "source": [
    "predict=tf.argmax(predict, 1)  # 가장 확률 높은 col의 index를 predict에 저장\n",
    "predict"
   ]
  },
  {
   "cell_type": "code",
   "execution_count": 68,
   "metadata": {
    "scrolled": true
   },
   "outputs": [
    {
     "data": {
      "text/plain": [
       "array([[1., 0., 0.],\n",
       "       [0., 0., 1.],\n",
       "       [0., 0., 1.],\n",
       "       [0., 1., 0.],\n",
       "       [0., 0., 1.],\n",
       "       [0., 1., 0.],\n",
       "       [0., 0., 1.],\n",
       "       [0., 1., 0.],\n",
       "       [0., 0., 1.],\n",
       "       [0., 0., 1.],\n",
       "       [0., 1., 0.],\n",
       "       [1., 0., 0.],\n",
       "       [0., 0., 1.],\n",
       "       [1., 0., 0.],\n",
       "       [0., 0., 1.],\n",
       "       [1., 0., 0.],\n",
       "       [1., 0., 0.],\n",
       "       [1., 0., 0.],\n",
       "       [1., 0., 0.],\n",
       "       [0., 1., 0.],\n",
       "       [0., 1., 0.],\n",
       "       [0., 0., 1.],\n",
       "       [0., 1., 0.],\n",
       "       [0., 1., 0.],\n",
       "       [0., 1., 0.],\n",
       "       [0., 1., 0.],\n",
       "       [0., 0., 1.],\n",
       "       [0., 1., 0.],\n",
       "       [0., 1., 0.],\n",
       "       [0., 1., 0.],\n",
       "       [0., 1., 0.],\n",
       "       [0., 1., 0.],\n",
       "       [0., 1., 0.],\n",
       "       [0., 1., 0.],\n",
       "       [0., 1., 0.],\n",
       "       [0., 1., 0.],\n",
       "       [0., 1., 0.],\n",
       "       [0., 1., 0.],\n",
       "       [0., 1., 0.],\n",
       "       [0., 0., 1.],\n",
       "       [0., 0., 1.],\n",
       "       [0., 0., 1.],\n",
       "       [0., 0., 1.],\n",
       "       [0., 0., 1.],\n",
       "       [0., 0., 1.],\n",
       "       [0., 0., 1.],\n",
       "       [0., 0., 1.],\n",
       "       [0., 0., 1.],\n",
       "       [0., 0., 1.],\n",
       "       [0., 0., 1.],\n",
       "       [0., 0., 1.],\n",
       "       [0., 0., 1.],\n",
       "       [0., 0., 1.],\n",
       "       [0., 0., 1.],\n",
       "       [0., 0., 1.],\n",
       "       [0., 0., 1.],\n",
       "       [0., 0., 1.],\n",
       "       [0., 0., 1.],\n",
       "       [1., 0., 0.],\n",
       "       [0., 0., 1.]])"
      ]
     },
     "execution_count": 68,
     "metadata": {},
     "output_type": "execute_result"
    }
   ],
   "source": [
    "onehot_predict = np.eye(3)[predict]\n",
    "onehot_predict"
   ]
  },
  {
   "cell_type": "code",
   "execution_count": 84,
   "metadata": {},
   "outputs": [
    {
     "name": "stdout",
     "output_type": "stream",
     "text": [
      "accuracy 0.7166666666666667\n",
      "r2_score 0.1499999999999996\n"
     ]
    }
   ],
   "source": [
    "from sklearn.metrics import accuracy_score, r2_score, confusion_matrix, mean_squared_error\n",
    "\n",
    "print('accuracy', accuracy_score(y_test, onehot_predict))\n",
    "print('r2_score', r2_score(y_test, onehot_predict))"
   ]
  },
  {
   "cell_type": "code",
   "execution_count": 81,
   "metadata": {},
   "outputs": [
    {
     "data": {
      "text/plain": [
       "<tf.Tensor: id=12998, shape=(60,), dtype=int64, numpy=\n",
       "array([0, 0, 0, 0, 0, 0, 0, 0, 0, 0, 0, 0, 0, 0, 0, 0, 0, 0, 0, 0, 1, 1,\n",
       "       1, 1, 1, 1, 1, 1, 1, 1, 1, 1, 1, 1, 1, 1, 1, 1, 1, 1, 2, 2, 2, 2,\n",
       "       2, 2, 2, 2, 2, 2, 2, 2, 2, 2, 2, 2, 2, 2, 2, 2], dtype=int64)>"
      ]
     },
     "execution_count": 81,
     "metadata": {},
     "output_type": "execute_result"
    }
   ],
   "source": [
    "y_true = tf.argmax(y_test,1)\n",
    "y_true"
   ]
  },
  {
   "cell_type": "code",
   "execution_count": 82,
   "metadata": {},
   "outputs": [
    {
     "data": {
      "text/plain": [
       "array([[ 7,  5,  8],\n",
       "       [ 0, 17,  3],\n",
       "       [ 1,  0, 19]], dtype=int64)"
      ]
     },
     "execution_count": 82,
     "metadata": {},
     "output_type": "execute_result"
    }
   ],
   "source": [
    "confusion_matrix(y_true, predict)"
   ]
  },
  {
   "cell_type": "code",
   "execution_count": 85,
   "metadata": {
    "scrolled": true
   },
   "outputs": [
    {
     "data": {
      "text/plain": [
       "0.7333333333333333"
      ]
     },
     "execution_count": 85,
     "metadata": {},
     "output_type": "execute_result"
    }
   ],
   "source": [
    "mean_squared_error(y_true, predict)"
   ]
  }
 ],
 "metadata": {
  "kernelspec": {
   "display_name": "Python 3",
   "language": "python",
   "name": "python3"
  },
  "language_info": {
   "codemirror_mode": {
    "name": "ipython",
    "version": 3
   },
   "file_extension": ".py",
   "mimetype": "text/x-python",
   "name": "python",
   "nbconvert_exporter": "python",
   "pygments_lexer": "ipython3",
   "version": "3.6.8"
  }
 },
 "nbformat": 4,
 "nbformat_minor": 2
}
