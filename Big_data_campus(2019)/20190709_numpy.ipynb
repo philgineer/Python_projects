{
 "cells": [
  {
   "cell_type": "markdown",
   "metadata": {},
   "source": [
    "## Numpy"
   ]
  },
  {
   "cell_type": "code",
   "execution_count": 1,
   "metadata": {},
   "outputs": [],
   "source": [
    "import numpy as np"
   ]
  },
  {
   "cell_type": "code",
   "execution_count": 32,
   "metadata": {},
   "outputs": [
    {
     "data": {
      "text/plain": [
       "array([1., 4., 5., 8.], dtype=float32)"
      ]
     },
     "execution_count": 32,
     "metadata": {},
     "output_type": "execute_result"
    }
   ],
   "source": [
    "test_array = np.array([1,4,5,8], np.float32)  # 기본 실수 64bit(개당 8bytes). float32는 4bytes\n",
    "test_array"
   ]
  },
  {
   "cell_type": "code",
   "execution_count": 7,
   "metadata": {},
   "outputs": [
    {
     "data": {
      "text/plain": [
       "'C:\\\\ProgramData\\\\Anaconda3\\\\lib\\\\site-packages\\\\numpy\\\\__init__.py'"
      ]
     },
     "execution_count": 7,
     "metadata": {},
     "output_type": "execute_result"
    }
   ],
   "source": [
    "np.__file__  # 어딨는지"
   ]
  },
  {
   "cell_type": "code",
   "execution_count": 31,
   "metadata": {},
   "outputs": [
    {
     "data": {
      "text/plain": [
       "array([[0, 1, 2],\n",
       "       [3, 4, 5],\n",
       "       [6, 7, 8]])"
      ]
     },
     "execution_count": 31,
     "metadata": {},
     "output_type": "execute_result"
    }
   ],
   "source": [
    "np.array([range(i, i + 3) for i in [0, 3, 6]])"
   ]
  },
  {
   "cell_type": "code",
   "execution_count": 34,
   "metadata": {},
   "outputs": [
    {
     "data": {
      "text/plain": [
       "array([0, 1, 2, 3, 4, 5, 6, 7, 8])"
      ]
     },
     "execution_count": 34,
     "metadata": {},
     "output_type": "execute_result"
    }
   ],
   "source": [
    "np.array(range(9))"
   ]
  },
  {
   "cell_type": "code",
   "execution_count": 36,
   "metadata": {},
   "outputs": [
    {
     "data": {
      "text/plain": [
       "array([0., 1., 2., 3., 4., 5., 6., 7., 8.])"
      ]
     },
     "execution_count": 36,
     "metadata": {},
     "output_type": "execute_result"
    }
   ],
   "source": [
    "np.array([0, 1, 2, 3, 4, 5, 6, 7, '8'], float)"
   ]
  },
  {
   "cell_type": "code",
   "execution_count": 38,
   "metadata": {},
   "outputs": [
    {
     "data": {
      "text/plain": [
       "numpy.float64"
      ]
     },
     "execution_count": 38,
     "metadata": {},
     "output_type": "execute_result"
    }
   ],
   "source": [
    "type(Out[36][3])"
   ]
  },
  {
   "cell_type": "code",
   "execution_count": 39,
   "metadata": {},
   "outputs": [
    {
     "data": {
      "text/plain": [
       "array([1., 4., 5., 8.], dtype=float32)"
      ]
     },
     "execution_count": 39,
     "metadata": {},
     "output_type": "execute_result"
    }
   ],
   "source": [
    "test_array"
   ]
  },
  {
   "cell_type": "code",
   "execution_count": 40,
   "metadata": {},
   "outputs": [
    {
     "data": {
      "text/plain": [
       "dtype('float32')"
      ]
     },
     "execution_count": 40,
     "metadata": {},
     "output_type": "execute_result"
    }
   ],
   "source": [
    "test_array.dtype"
   ]
  },
  {
   "cell_type": "code",
   "execution_count": 42,
   "metadata": {},
   "outputs": [
    {
     "data": {
      "text/plain": [
       "numpy.ndarray"
      ]
     },
     "execution_count": 42,
     "metadata": {},
     "output_type": "execute_result"
    }
   ],
   "source": [
    "type(test_array)"
   ]
  },
  {
   "cell_type": "code",
   "execution_count": 43,
   "metadata": {},
   "outputs": [
    {
     "data": {
      "text/plain": [
       "(4,)"
      ]
     },
     "execution_count": 43,
     "metadata": {},
     "output_type": "execute_result"
    }
   ],
   "source": [
    "test_array.shape"
   ]
  },
  {
   "cell_type": "code",
   "execution_count": 44,
   "metadata": {},
   "outputs": [
    {
     "data": {
      "text/plain": [
       "numpy.float32"
      ]
     },
     "execution_count": 44,
     "metadata": {},
     "output_type": "execute_result"
    }
   ],
   "source": [
    "type(test_array[3])"
   ]
  },
  {
   "cell_type": "code",
   "execution_count": 52,
   "metadata": {},
   "outputs": [
    {
     "data": {
      "text/plain": [
       "(3, 4)"
      ]
     },
     "execution_count": 52,
     "metadata": {},
     "output_type": "execute_result"
    }
   ],
   "source": [
    "matrix = [[1, 2, 5, 8],\n",
    "         [1, 2, 5, 8],\n",
    "         [1, 2, 5, 8]]\n",
    "np.array(matrix, int).shape   # = (행, 열)"
   ]
  },
  {
   "cell_type": "code",
   "execution_count": 55,
   "metadata": {},
   "outputs": [
    {
     "data": {
      "text/plain": [
       "(5, 3, 4)"
      ]
     },
     "execution_count": 55,
     "metadata": {},
     "output_type": "execute_result"
    }
   ],
   "source": [
    "tensor = [[[1, 2, 5, 8], [1, 2, 5, 8], [1, 2, 5, 8]],\n",
    "          [[1, 2, 5, 8], [1, 2, 5, 8], [1, 2, 5, 8]],\n",
    "          [[1, 2, 5, 8], [1, 2, 5, 8], [1, 2, 5, 8]],\n",
    "          [[1, 2, 5, 8], [1, 2, 5, 8], [1, 2, 5, 8]],\n",
    "          [[1, 2, 5, 8], [1, 2, 5, 8], [1, 2, 5, 8]]]\n",
    "np.array(tensor, int).shape  # (몇 개, 행, 열)"
   ]
  },
  {
   "cell_type": "code",
   "execution_count": 56,
   "metadata": {},
   "outputs": [
    {
     "data": {
      "text/plain": [
       "3"
      ]
     },
     "execution_count": 56,
     "metadata": {},
     "output_type": "execute_result"
    }
   ],
   "source": [
    "np.array(tensor, int).ndim"
   ]
  },
  {
   "cell_type": "code",
   "execution_count": 57,
   "metadata": {},
   "outputs": [
    {
     "data": {
      "text/plain": [
       "60"
      ]
     },
     "execution_count": 57,
     "metadata": {},
     "output_type": "execute_result"
    }
   ],
   "source": [
    "np.array(tensor, int).size"
   ]
  },
  {
   "cell_type": "code",
   "execution_count": 59,
   "metadata": {},
   "outputs": [
    {
     "data": {
      "text/plain": [
       "24"
      ]
     },
     "execution_count": 59,
     "metadata": {},
     "output_type": "execute_result"
    }
   ],
   "source": [
    "np.array([[1, 2, 3], [4.5, \"5\", \"6\"]], dtype=np.float32).nbytes  #32bits = 4bytes. 6x4bytes = 24)"
   ]
  },
  {
   "cell_type": "code",
   "execution_count": 60,
   "metadata": {},
   "outputs": [
    {
     "data": {
      "text/plain": [
       "6"
      ]
     },
     "execution_count": 60,
     "metadata": {},
     "output_type": "execute_result"
    }
   ],
   "source": [
    "np.array([[1, 2, 3], [4.5, \"5\", \"6\"]], dtype=np.int8).nbytes  #8bits = 1bytes. 6x1 = 6"
   ]
  },
  {
   "cell_type": "markdown",
   "metadata": {},
   "source": [
    "## reshape"
   ]
  },
  {
   "cell_type": "code",
   "execution_count": 79,
   "metadata": {},
   "outputs": [],
   "source": [
    "test_matrix = [[1, 2, 3, 4], [1, 2, 3, 4]]"
   ]
  },
  {
   "cell_type": "code",
   "execution_count": 80,
   "metadata": {},
   "outputs": [],
   "source": [
    "a = np.array(test_matrix)"
   ]
  },
  {
   "cell_type": "code",
   "execution_count": 81,
   "metadata": {},
   "outputs": [
    {
     "data": {
      "text/plain": [
       "(2, 4)"
      ]
     },
     "execution_count": 81,
     "metadata": {},
     "output_type": "execute_result"
    }
   ],
   "source": [
    "a.shape"
   ]
  },
  {
   "cell_type": "code",
   "execution_count": 82,
   "metadata": {},
   "outputs": [
    {
     "data": {
      "text/plain": [
       "dtype('int32')"
      ]
     },
     "execution_count": 82,
     "metadata": {},
     "output_type": "execute_result"
    }
   ],
   "source": [
    "a.dtype"
   ]
  },
  {
   "cell_type": "code",
   "execution_count": 83,
   "metadata": {},
   "outputs": [
    {
     "data": {
      "text/plain": [
       "array([[1, 2, 3, 4],\n",
       "       [1, 2, 3, 4]])"
      ]
     },
     "execution_count": 83,
     "metadata": {},
     "output_type": "execute_result"
    }
   ],
   "source": [
    "a"
   ]
  },
  {
   "cell_type": "code",
   "execution_count": 84,
   "metadata": {},
   "outputs": [
    {
     "data": {
      "text/plain": [
       "array([1, 2, 3, 4, 1, 2, 3, 4])"
      ]
     },
     "execution_count": 84,
     "metadata": {},
     "output_type": "execute_result"
    }
   ],
   "source": [
    "a.reshape(8,)"
   ]
  },
  {
   "cell_type": "code",
   "execution_count": 85,
   "metadata": {},
   "outputs": [
    {
     "data": {
      "text/plain": [
       "array([[1, 2],\n",
       "       [3, 4],\n",
       "       [1, 2],\n",
       "       [3, 4]])"
      ]
     },
     "execution_count": 85,
     "metadata": {},
     "output_type": "execute_result"
    }
   ],
   "source": [
    "a.reshape(4,2)"
   ]
  },
  {
   "cell_type": "code",
   "execution_count": 86,
   "metadata": {},
   "outputs": [
    {
     "data": {
      "text/plain": [
       "array([[[1, 2],\n",
       "        [3, 4]],\n",
       "\n",
       "       [[1, 2],\n",
       "        [3, 4]]])"
      ]
     },
     "execution_count": 86,
     "metadata": {},
     "output_type": "execute_result"
    }
   ],
   "source": [
    "a.reshape(2,2,2)"
   ]
  },
  {
   "cell_type": "code",
   "execution_count": 87,
   "metadata": {},
   "outputs": [
    {
     "data": {
      "text/plain": [
       "array([[1, 2],\n",
       "       [3, 4],\n",
       "       [1, 2],\n",
       "       [3, 4]])"
      ]
     },
     "execution_count": 87,
     "metadata": {},
     "output_type": "execute_result"
    }
   ],
   "source": [
    "a.reshape(-1, 2)   # -1: size를 기반으로 row 개수 선정"
   ]
  },
  {
   "cell_type": "code",
   "execution_count": 88,
   "metadata": {
    "scrolled": true
   },
   "outputs": [
    {
     "data": {
      "text/plain": [
       "array([[1, 2, 3, 4],\n",
       "       [1, 2, 3, 4]])"
      ]
     },
     "execution_count": 88,
     "metadata": {},
     "output_type": "execute_result"
    }
   ],
   "source": [
    "a.reshape(2, -1)"
   ]
  },
  {
   "cell_type": "code",
   "execution_count": 91,
   "metadata": {},
   "outputs": [
    {
     "data": {
      "text/plain": [
       "array([[[1],\n",
       "        [2]],\n",
       "\n",
       "       [[3],\n",
       "        [4]],\n",
       "\n",
       "       [[1],\n",
       "        [2]],\n",
       "\n",
       "       [[3],\n",
       "        [4]]])"
      ]
     },
     "execution_count": 91,
     "metadata": {},
     "output_type": "execute_result"
    }
   ],
   "source": [
    "a.reshape(-1, 2, 1)"
   ]
  },
  {
   "cell_type": "code",
   "execution_count": 93,
   "metadata": {},
   "outputs": [
    {
     "data": {
      "text/plain": [
       "array([1, 2, 3, 4, 1, 2, 3, 4])"
      ]
     },
     "execution_count": 93,
     "metadata": {},
     "output_type": "execute_result"
    }
   ],
   "source": [
    "a.flatten()"
   ]
  },
  {
   "cell_type": "markdown",
   "metadata": {},
   "source": [
    "## indexing & slicing"
   ]
  },
  {
   "cell_type": "code",
   "execution_count": 94,
   "metadata": {},
   "outputs": [],
   "source": [
    "a = np.array([[1, 2, 3], [4.5, 5, 6]], int)"
   ]
  },
  {
   "cell_type": "code",
   "execution_count": 95,
   "metadata": {},
   "outputs": [
    {
     "data": {
      "text/plain": [
       "array([[1, 2, 3],\n",
       "       [4, 5, 6]])"
      ]
     },
     "execution_count": 95,
     "metadata": {},
     "output_type": "execute_result"
    }
   ],
   "source": [
    "a"
   ]
  },
  {
   "cell_type": "code",
   "execution_count": 96,
   "metadata": {},
   "outputs": [
    {
     "name": "stdout",
     "output_type": "stream",
     "text": [
      "[[1 2 3]\n",
      " [4 5 6]]\n"
     ]
    }
   ],
   "source": [
    "print(a)"
   ]
  },
  {
   "cell_type": "code",
   "execution_count": 97,
   "metadata": {},
   "outputs": [
    {
     "data": {
      "text/plain": [
       "1"
      ]
     },
     "execution_count": 97,
     "metadata": {},
     "output_type": "execute_result"
    }
   ],
   "source": [
    "a[0][0]"
   ]
  },
  {
   "cell_type": "code",
   "execution_count": 98,
   "metadata": {},
   "outputs": [
    {
     "data": {
      "text/plain": [
       "1"
      ]
     },
     "execution_count": 98,
     "metadata": {},
     "output_type": "execute_result"
    }
   ],
   "source": [
    "a[0,0]"
   ]
  },
  {
   "cell_type": "code",
   "execution_count": 101,
   "metadata": {},
   "outputs": [
    {
     "data": {
      "text/plain": [
       "array([[12,  2,  3],\n",
       "       [ 4,  5,  6]])"
      ]
     },
     "execution_count": 101,
     "metadata": {},
     "output_type": "execute_result"
    }
   ],
   "source": [
    "a[0,0] = 12\n",
    "a"
   ]
  },
  {
   "cell_type": "code",
   "execution_count": 102,
   "metadata": {},
   "outputs": [
    {
     "data": {
      "text/plain": [
       "array([[5, 2, 3],\n",
       "       [4, 5, 6]])"
      ]
     },
     "execution_count": 102,
     "metadata": {},
     "output_type": "execute_result"
    }
   ],
   "source": [
    "a[0][0] = 5\n",
    "a"
   ]
  },
  {
   "cell_type": "code",
   "execution_count": 109,
   "metadata": {},
   "outputs": [
    {
     "data": {
      "text/plain": [
       "array([[ 1,  2,  3,  4,  5],\n",
       "       [ 6,  7,  8,  9, 10]])"
      ]
     },
     "execution_count": 109,
     "metadata": {},
     "output_type": "execute_result"
    }
   ],
   "source": [
    "a = np.array([[1,2,3,4,5], [6,7,8,9,10]], int)\n",
    "a"
   ]
  },
  {
   "cell_type": "code",
   "execution_count": 105,
   "metadata": {},
   "outputs": [
    {
     "data": {
      "text/plain": [
       "array([[ 3,  4,  5],\n",
       "       [ 8,  9, 10]])"
      ]
     },
     "execution_count": 105,
     "metadata": {},
     "output_type": "execute_result"
    }
   ],
   "source": [
    "a[:, 2:] # 전체 row, 2열 이상"
   ]
  },
  {
   "cell_type": "code",
   "execution_count": 106,
   "metadata": {},
   "outputs": [
    {
     "data": {
      "text/plain": [
       "array([ 8,  9, 10])"
      ]
     },
     "execution_count": 106,
     "metadata": {},
     "output_type": "execute_result"
    }
   ],
   "source": [
    "a[1, 2:]"
   ]
  },
  {
   "cell_type": "code",
   "execution_count": 107,
   "metadata": {},
   "outputs": [
    {
     "data": {
      "text/plain": [
       "array([7, 8])"
      ]
     },
     "execution_count": 107,
     "metadata": {},
     "output_type": "execute_result"
    }
   ],
   "source": [
    "a[1, 1:3]"
   ]
  },
  {
   "cell_type": "code",
   "execution_count": 110,
   "metadata": {},
   "outputs": [
    {
     "data": {
      "text/plain": [
       "array([[ 6,  7,  8,  9, 10]])"
      ]
     },
     "execution_count": 110,
     "metadata": {},
     "output_type": "execute_result"
    }
   ],
   "source": [
    "a[1:3] # 1 Row ~ 2 Row 전체"
   ]
  },
  {
   "cell_type": "code",
   "execution_count": 111,
   "metadata": {},
   "outputs": [
    {
     "data": {
      "text/plain": [
       "array([[1, 2, 5, 8],\n",
       "       [1, 2, 5, 8]])"
      ]
     },
     "execution_count": 111,
     "metadata": {},
     "output_type": "execute_result"
    }
   ],
   "source": [
    "test_example = np.array([[1, 2, 5, 8], [1, 2, 5, 8], [1, 2, 5, 8], [1, 2, 5, 8]], int)\n",
    "test_example[:2, :]"
   ]
  },
  {
   "cell_type": "code",
   "execution_count": 112,
   "metadata": {},
   "outputs": [
    {
     "data": {
      "text/plain": [
       "array([1, 2])"
      ]
     },
     "execution_count": 112,
     "metadata": {},
     "output_type": "execute_result"
    }
   ],
   "source": [
    "test_example[1, :2]"
   ]
  },
  {
   "cell_type": "code",
   "execution_count": 117,
   "metadata": {},
   "outputs": [
    {
     "data": {
      "text/plain": [
       "array([[ 1,  2,  3,  4,  5],\n",
       "       [ 6,  7,  8,  9, 10]])"
      ]
     },
     "execution_count": 117,
     "metadata": {},
     "output_type": "execute_result"
    }
   ],
   "source": [
    "test_example = np.array([[1, 2, 3, 4, 5], [6, 7, 8, 9, 10]], int)\n",
    "test_example"
   ]
  },
  {
   "cell_type": "code",
   "execution_count": 119,
   "metadata": {},
   "outputs": [
    {
     "data": {
      "text/plain": [
       "array([[ 3,  4,  5],\n",
       "       [ 8,  9, 10]])"
      ]
     },
     "execution_count": 119,
     "metadata": {},
     "output_type": "execute_result"
    }
   ],
   "source": [
    "test_example[:, 2:]  # 전체 row, 2 col 이상"
   ]
  },
  {
   "cell_type": "code",
   "execution_count": 120,
   "metadata": {},
   "outputs": [
    {
     "data": {
      "text/plain": [
       "array([7, 8])"
      ]
     },
     "execution_count": 120,
     "metadata": {},
     "output_type": "execute_result"
    }
   ],
   "source": [
    "test_example[1, 1:3]"
   ]
  },
  {
   "cell_type": "code",
   "execution_count": 121,
   "metadata": {},
   "outputs": [
    {
     "data": {
      "text/plain": [
       "array([[ 6,  7,  8,  9, 10]])"
      ]
     },
     "execution_count": 121,
     "metadata": {},
     "output_type": "execute_result"
    }
   ],
   "source": [
    "test_example[1:3]"
   ]
  },
  {
   "cell_type": "code",
   "execution_count": 123,
   "metadata": {},
   "outputs": [
    {
     "data": {
      "text/plain": [
       "array([ 0,  1,  2,  3,  4,  5,  6,  7,  8,  9, 10, 11, 12, 13, 14])"
      ]
     },
     "execution_count": 123,
     "metadata": {},
     "output_type": "execute_result"
    }
   ],
   "source": [
    "arr = np.arange(15)\n",
    "arr"
   ]
  },
  {
   "cell_type": "code",
   "execution_count": 125,
   "metadata": {},
   "outputs": [
    {
     "data": {
      "text/plain": [
       "array([ 0,  1,  2,  3,  4,  5,  6,  7,  8,  9, 10, 11, 12, 13, 14])"
      ]
     },
     "execution_count": 125,
     "metadata": {},
     "output_type": "execute_result"
    }
   ],
   "source": [
    "np.array(range(15))  # 다른 방법!"
   ]
  },
  {
   "cell_type": "code",
   "execution_count": 134,
   "metadata": {},
   "outputs": [
    {
     "data": {
      "text/plain": [
       "array([[ 0,  1,  2,  3,  4],\n",
       "       [ 5,  6,  7,  8,  9],\n",
       "       [10, 11, 12, 13, 14]])"
      ]
     },
     "execution_count": 134,
     "metadata": {},
     "output_type": "execute_result"
    }
   ],
   "source": [
    "arr = arr.reshape(-1, 5)\n",
    "arr"
   ]
  },
  {
   "cell_type": "code",
   "execution_count": 135,
   "metadata": {},
   "outputs": [
    {
     "data": {
      "text/plain": [
       "array([[ 0,  2,  4],\n",
       "       [ 5,  7,  9],\n",
       "       [10, 12, 14]])"
      ]
     },
     "execution_count": 135,
     "metadata": {},
     "output_type": "execute_result"
    }
   ],
   "source": [
    "# arr[start : stop : step]\n",
    "arr[:, ::2]"
   ]
  },
  {
   "cell_type": "code",
   "execution_count": 136,
   "metadata": {},
   "outputs": [
    {
     "data": {
      "text/plain": [
       "array([[ 0,  3],\n",
       "       [10, 13]])"
      ]
     },
     "execution_count": 136,
     "metadata": {},
     "output_type": "execute_result"
    }
   ],
   "source": [
    "arr[::2, ::3]"
   ]
  },
  {
   "cell_type": "code",
   "execution_count": 137,
   "metadata": {},
   "outputs": [
    {
     "data": {
      "text/plain": [
       "array([ 0,  1,  2,  3,  4,  5,  6,  7,  8,  9, 10, 11, 12, 13, 14, 15, 16,\n",
       "       17, 18, 19, 20, 21, 22, 23, 24, 25, 26, 27, 28, 29])"
      ]
     },
     "execution_count": 137,
     "metadata": {},
     "output_type": "execute_result"
    }
   ],
   "source": [
    "np.arange(30)"
   ]
  },
  {
   "cell_type": "code",
   "execution_count": 140,
   "metadata": {},
   "outputs": [
    {
     "data": {
      "text/plain": [
       "array([ 0. ,  1.5,  3. ,  4.5,  6. ,  7.5,  9. , 10.5, 12. , 13.5, 15. ,\n",
       "       16.5, 18. , 19.5, 21. , 22.5, 24. , 25.5, 27. , 28.5])"
      ]
     },
     "execution_count": 140,
     "metadata": {},
     "output_type": "execute_result"
    }
   ],
   "source": [
    "np.arange(0, 30, 1.5) # start, stop, step"
   ]
  },
  {
   "cell_type": "code",
   "execution_count": 141,
   "metadata": {},
   "outputs": [
    {
     "data": {
      "text/plain": [
       "array([[ 0,  1,  2,  3,  4,  5],\n",
       "       [ 6,  7,  8,  9, 10, 11],\n",
       "       [12, 13, 14, 15, 16, 17],\n",
       "       [18, 19, 20, 21, 22, 23],\n",
       "       [24, 25, 26, 27, 28, 29]])"
      ]
     },
     "execution_count": 141,
     "metadata": {},
     "output_type": "execute_result"
    }
   ],
   "source": [
    "np.arange(30).reshape(5, 6)"
   ]
  },
  {
   "cell_type": "code",
   "execution_count": 142,
   "metadata": {},
   "outputs": [
    {
     "data": {
      "text/plain": [
       "array([0, 0, 0, 0, 0, 0, 0, 0, 0, 0], dtype=int8)"
      ]
     },
     "execution_count": 142,
     "metadata": {},
     "output_type": "execute_result"
    }
   ],
   "source": [
    "np.zeros(shape = (10, ), dtype = np.int8)"
   ]
  },
  {
   "cell_type": "code",
   "execution_count": 143,
   "metadata": {},
   "outputs": [
    {
     "data": {
      "text/plain": [
       "array([[0., 0., 0., 0., 0.],\n",
       "       [0., 0., 0., 0., 0.]])"
      ]
     },
     "execution_count": 143,
     "metadata": {},
     "output_type": "execute_result"
    }
   ],
   "source": [
    "np.zeros((2, 5))"
   ]
  },
  {
   "cell_type": "code",
   "execution_count": 158,
   "metadata": {},
   "outputs": [
    {
     "data": {
      "text/plain": [
       "array([ 92,   0,  63,   0,  63,   0,  92,   0,  67,   0,  58,   0,  92,\n",
       "         0,  80,   0, 114,   0, 111,   0, 103,   0, 114,   0,  97,   0,\n",
       "       109,   0,  68,   0,  97,   0, 116,   0,  97,   0,  92,   0,  65,\n",
       "         0, 110,   0,  97,   0,  99,   0, 111,   0, 110,   0, 100,   0,\n",
       "        97,   0,  51,   0,  92,   0, 108,   0, 105,   0,  98,   0,  92,\n",
       "         0, 115,   0, 105,   0, 116,   0, 101,   0,  45,   0, 112,   0,\n",
       "        97,   0,  99,   0, 107,   0,  97,   0, 103,   0, 101,   0, 115,\n",
       "         0,  92,   0, 109,   0, 107,   0, 108,   0,  95,   0, 102,   0,\n",
       "       102,   0, 116,   0,  92,   0,  95,   0, 110,   0, 117,   0, 109,\n",
       "         0, 112,   0, 121,   0,  95,   0, 102,   0, 102,   0, 116,   0,\n",
       "        46,   0, 112,   0, 121,   0,   0,   0, 121,   0], dtype=int8)"
      ]
     },
     "execution_count": 158,
     "metadata": {},
     "output_type": "execute_result"
    }
   ],
   "source": [
    "np.empty(shape=(140, ), dtype=np.int8) # shape만 주어지고 비어 있는 ndarray 생성.\n",
    "                    # memory initialization이 되지 않아서 원래 메모리에 저장되어 있던 쓰래기 값 반환"
   ]
  },
  {
   "cell_type": "code",
   "execution_count": 161,
   "metadata": {},
   "outputs": [
    {
     "data": {
      "text/plain": [
       "array([[1, 1, 1, 1, 1, 1],\n",
       "       [1, 1, 1, 1, 1, 1],\n",
       "       [1, 1, 1, 1, 1, 1],\n",
       "       [1, 1, 1, 1, 1, 1],\n",
       "       [1, 1, 1, 1, 1, 1]])"
      ]
     },
     "execution_count": 161,
     "metadata": {},
     "output_type": "execute_result"
    }
   ],
   "source": [
    "# something_like: 기존 ndarray의 shape 크기 만큼\n",
    "\n",
    "test_matrix = np.arange(30).reshape(5, 6)\n",
    "np.ones_like(test_matrix)"
   ]
  },
  {
   "cell_type": "code",
   "execution_count": 177,
   "metadata": {},
   "outputs": [
    {
     "data": {
      "text/plain": [
       "array([[0, 0, 0, 0, 0, 0],\n",
       "       [0, 0, 0, 0, 0, 0],\n",
       "       [0, 0, 0, 0, 0, 0],\n",
       "       [0, 0, 0, 0, 0, 0],\n",
       "       [0, 0, 0, 0, 0, 0]])"
      ]
     },
     "execution_count": 177,
     "metadata": {},
     "output_type": "execute_result"
    }
   ],
   "source": [
    "np.zeros_like(test_matrix)"
   ]
  },
  {
   "cell_type": "code",
   "execution_count": 176,
   "metadata": {},
   "outputs": [
    {
     "data": {
      "text/plain": [
       "array([[6, 6, 6, 6],\n",
       "       [6, 6, 6, 6],\n",
       "       [6, 6, 6, 6],\n",
       "       [6, 6, 6, 6]])"
      ]
     },
     "execution_count": 176,
     "metadata": {},
     "output_type": "execute_result"
    }
   ],
   "source": [
    "np.full((4,4), 6)"
   ]
  },
  {
   "cell_type": "code",
   "execution_count": 179,
   "metadata": {
    "scrolled": true
   },
   "outputs": [
    {
     "data": {
      "text/plain": [
       "array([[6, 6, 6, 6, 6, 6],\n",
       "       [6, 6, 6, 6, 6, 6],\n",
       "       [6, 6, 6, 6, 6, 6],\n",
       "       [6, 6, 6, 6, 6, 6],\n",
       "       [6, 6, 6, 6, 6, 6]])"
      ]
     },
     "execution_count": 179,
     "metadata": {},
     "output_type": "execute_result"
    }
   ],
   "source": [
    "np.full_like(test_matrix, 6)"
   ]
  },
  {
   "cell_type": "code",
   "execution_count": 165,
   "metadata": {},
   "outputs": [
    {
     "data": {
      "text/plain": [
       "array([[1, 0, 0],\n",
       "       [0, 1, 0],\n",
       "       [0, 0, 1]], dtype=int8)"
      ]
     },
     "execution_count": 165,
     "metadata": {},
     "output_type": "execute_result"
    }
   ],
   "source": [
    "# 단위 행렬(i 행렬. unit matrix)\n",
    "\n",
    "np.identity(n=3, dtype=np.int8)"
   ]
  },
  {
   "cell_type": "code",
   "execution_count": 166,
   "metadata": {},
   "outputs": [
    {
     "data": {
      "text/plain": [
       "array([[1., 0., 0., 0., 0.],\n",
       "       [0., 1., 0., 0., 0.],\n",
       "       [0., 0., 1., 0., 0.],\n",
       "       [0., 0., 0., 1., 0.],\n",
       "       [0., 0., 0., 0., 1.]])"
      ]
     },
     "execution_count": 166,
     "metadata": {},
     "output_type": "execute_result"
    }
   ],
   "source": [
    "np.identity(5)"
   ]
  },
  {
   "cell_type": "code",
   "execution_count": 167,
   "metadata": {},
   "outputs": [
    {
     "data": {
      "text/plain": [
       "array([[1, 0, 0, 0, 0],\n",
       "       [0, 1, 0, 0, 0],\n",
       "       [0, 0, 1, 0, 0]], dtype=int8)"
      ]
     },
     "execution_count": 167,
     "metadata": {},
     "output_type": "execute_result"
    }
   ],
   "source": [
    "# eye: 대각선이 1인 행렬.\n",
    "\n",
    "np.eye(N=3, M=5, dtype=np.int8)"
   ]
  },
  {
   "cell_type": "code",
   "execution_count": 186,
   "metadata": {},
   "outputs": [
    {
     "data": {
      "text/plain": [
       "array([[ 0,  1,  2,  3],\n",
       "       [ 4,  5,  6,  7],\n",
       "       [ 8,  9, 10, 11],\n",
       "       [12, 13, 14, 15]])"
      ]
     },
     "execution_count": 186,
     "metadata": {},
     "output_type": "execute_result"
    }
   ],
   "source": [
    "# diag: 대각 행렬의 값 추출\n",
    "\n",
    "matrix = np.arange(16).reshape(4, 4)\n",
    "matrix"
   ]
  },
  {
   "cell_type": "code",
   "execution_count": 187,
   "metadata": {},
   "outputs": [
    {
     "data": {
      "text/plain": [
       "array([ 0,  5, 10, 15])"
      ]
     },
     "execution_count": 187,
     "metadata": {},
     "output_type": "execute_result"
    }
   ],
   "source": [
    "np.diag(matrix)"
   ]
  },
  {
   "cell_type": "code",
   "execution_count": 188,
   "metadata": {},
   "outputs": [
    {
     "data": {
      "text/plain": [
       "array([ 1,  6, 11])"
      ]
     },
     "execution_count": 188,
     "metadata": {},
     "output_type": "execute_result"
    }
   ],
   "source": [
    "np.diag(matrix, k = 1)"
   ]
  },
  {
   "cell_type": "code",
   "execution_count": 189,
   "metadata": {},
   "outputs": [
    {
     "data": {
      "text/plain": [
       "array([[0.05678448, 0.23106968, 0.31286013, 0.93932668, 0.17898024],\n",
       "       [0.94114537, 0.5109531 , 0.07469965, 0.33684671, 0.24915629]])"
      ]
     },
     "execution_count": 189,
     "metadata": {},
     "output_type": "execute_result"
    }
   ],
   "source": [
    "# random sampling\n",
    "\n",
    "np.random.uniform(0, 1, 10).reshape(2, 5) # 균등 분포"
   ]
  },
  {
   "cell_type": "code",
   "execution_count": 197,
   "metadata": {},
   "outputs": [
    {
     "data": {
      "text/plain": [
       "array([0.21095471, 0.14866118, 0.94802045, 0.70403475, 0.84684186,\n",
       "       0.17848164, 0.67975154, 0.73942646, 0.05303861, 0.11244995,\n",
       "       0.95973215, 0.88616941, 0.83258099, 0.44235835, 0.98105432,\n",
       "       0.25768527, 0.88043657, 0.99580767, 0.80958142, 0.50856571,\n",
       "       0.19741021, 0.27857512, 0.93524818, 0.54788306, 0.63327608,\n",
       "       0.93647376, 0.63080535, 0.29688807, 0.78114882, 0.88714605,\n",
       "       0.73569231, 0.21263902, 0.06041457, 0.07841262, 0.50386048,\n",
       "       0.77431855, 0.19145384, 0.96323597, 0.8320991 , 0.38755287,\n",
       "       0.11917942, 0.11904844, 0.97708807, 0.73076576, 0.77140261,\n",
       "       0.34569332, 0.60548994, 0.40572922, 0.70018513, 0.34868448,\n",
       "       0.15483462, 0.54963724, 0.22378114, 0.08613378, 0.44888528,\n",
       "       0.75456646, 0.28364144, 0.90748136, 0.45707601, 0.05194726,\n",
       "       0.83415724, 0.91444038, 0.07994303, 0.27997983, 0.62789684,\n",
       "       0.33142047, 0.04409162, 0.37681233, 0.94262097, 0.18410375,\n",
       "       0.92632827, 0.39699889, 0.44624999, 0.23925034, 0.44289846,\n",
       "       0.45908892, 0.52233812, 0.35346231, 0.65248965, 0.16233714,\n",
       "       0.39151974, 0.48846374, 0.40807803, 0.68912785, 0.74243537,\n",
       "       0.67033821, 0.89415681, 0.34341026, 0.951664  , 0.10090694,\n",
       "       0.40944835, 0.50165053, 0.14130096, 0.63573321, 0.22112387,\n",
       "       0.82438809, 0.67954646, 0.89449734, 0.29974312, 0.81860383,\n",
       "       0.39263628, 0.79974249, 0.08242046, 0.64375515, 0.76486355,\n",
       "       0.36814175, 0.14341844, 0.17173103, 0.63139661, 0.16037205,\n",
       "       0.33207271, 0.74242401, 0.54325368, 0.05951599, 0.94588091,\n",
       "       0.06958544, 0.58469858, 0.97123828, 0.24976844, 0.13861351,\n",
       "       0.04850764, 0.31371948, 0.27144696, 0.92618854, 0.92631557,\n",
       "       0.12718581, 0.98237079, 0.12069759, 0.67084829, 0.04183467,\n",
       "       0.45554925, 0.64198398, 0.78574247, 0.27762786, 0.36350616,\n",
       "       0.48446332, 0.13466368, 0.67972244, 0.69297361, 0.6675465 ,\n",
       "       0.22953986, 0.95948865, 0.23918034, 0.55214298, 0.05704384,\n",
       "       0.65998091, 0.52808928, 0.84587891, 0.83849516, 0.8587136 ,\n",
       "       0.65442944, 0.9093934 , 0.60646066, 0.89257484, 0.45130587,\n",
       "       0.23005376, 0.04583723, 0.98012438, 0.62752372, 0.50126779,\n",
       "       0.89336264, 0.70355506, 0.67487313, 0.00155851, 0.32217504,\n",
       "       0.6103084 , 0.91615373, 0.93908371, 0.07302046, 0.07839948,\n",
       "       0.96785388, 0.63251009, 0.81267313, 0.95313881, 0.25669755,\n",
       "       0.05709368, 0.89060067, 0.76880641, 0.26525888, 0.8348284 ,\n",
       "       0.72684578, 0.01742129, 0.58348914, 0.76339872, 0.18922626,\n",
       "       0.68784268, 0.06996808, 0.70180779, 0.02668158, 0.25329306,\n",
       "       0.09746885, 0.3935907 , 0.31038135, 0.6390477 , 0.29737218,\n",
       "       0.52933741, 0.21091948, 0.83061729, 0.11077357, 0.17354997,\n",
       "       0.30955812, 0.31482722, 0.62790383, 0.49470774, 0.67884545,\n",
       "       0.72305036, 0.89122512, 0.26278339, 0.9329768 , 0.63249351,\n",
       "       0.89632862, 0.0499586 , 0.19993896, 0.44681518, 0.64537905,\n",
       "       0.84457414, 0.72653665, 0.23656232, 0.50748747, 0.89714882,\n",
       "       0.40055613, 0.30914731, 0.87763316, 0.09379753, 0.16744624,\n",
       "       0.06619882, 0.68967557, 0.64096273, 0.007441  , 0.89854179,\n",
       "       0.35418076, 0.12722188, 0.13815258, 0.53373192, 0.95055155,\n",
       "       0.26609304, 0.57154297, 0.2594439 , 0.90203101, 0.10872234,\n",
       "       0.66643807, 0.95024174, 0.59589004, 0.33810288, 0.63095363,\n",
       "       0.58964651, 0.2296639 , 0.85739976, 0.17035947, 0.63541935,\n",
       "       0.34723635, 0.54863405, 0.56241573, 0.79871885, 0.06066304,\n",
       "       0.03284203, 0.73712658, 0.61323806, 0.84934564, 0.41554293,\n",
       "       0.65170083, 0.66175562, 0.59936368, 0.17002226, 0.62866422,\n",
       "       0.69335551, 0.46036171, 0.44138572, 0.17818901, 0.13036488,\n",
       "       0.68659465, 0.48730383, 0.95008051, 0.31749562, 0.98769843,\n",
       "       0.07805752, 0.29125852, 0.20776954, 0.48665632, 0.30757218,\n",
       "       0.38126673, 0.53426689, 0.86555267, 0.24109609, 0.37083061,\n",
       "       0.64650358, 0.27851428, 0.29285599, 0.5761914 , 0.54093943,\n",
       "       0.16120849, 0.46895012, 0.78210823, 0.56960557, 0.54193871,\n",
       "       0.4065696 , 0.10636923, 0.88627271, 0.20737219, 0.36057916,\n",
       "       0.30877163, 0.20482174, 0.34156045, 0.34369796, 0.46021303,\n",
       "       0.72164508, 0.14437824, 0.7068429 , 0.79224929, 0.22075318,\n",
       "       0.8428786 , 0.45516929, 0.50296998, 0.81220057, 0.33355039,\n",
       "       0.1251832 , 0.58711025, 0.15801608, 0.57801776, 0.28415542,\n",
       "       0.67328217, 0.73261783, 0.05659541, 0.66641569, 0.45674053,\n",
       "       0.32546262, 0.43357982, 0.2451787 , 0.46617302, 0.10318657,\n",
       "       0.49315656, 0.8869024 , 0.99225705, 0.02142815, 0.93310291,\n",
       "       0.71324547, 0.85740701, 0.10156813, 0.28443133, 0.90835749,\n",
       "       0.5200029 , 0.14690746, 0.86383257, 0.57666453, 0.1245796 ,\n",
       "       0.42649714, 0.08293561, 0.9851304 , 0.11614227, 0.96624963,\n",
       "       0.59411296, 0.57571959, 0.34627232, 0.94318979, 0.50883273,\n",
       "       0.91899755, 0.17742577, 0.2817258 , 0.91826141, 0.28013771,\n",
       "       0.52581384, 0.59939208, 0.27403498, 0.57781911, 0.80470726,\n",
       "       0.54964611, 0.82231561, 0.4523972 , 0.63956627, 0.77626471,\n",
       "       0.16294173, 0.58496035, 0.36169012, 0.3135842 , 0.76836375,\n",
       "       0.36307867, 0.56366569, 0.6156132 , 0.74497189, 0.30011931,\n",
       "       0.46652919, 0.28672126, 0.57909405, 0.36031365, 0.0093821 ,\n",
       "       0.56007263, 0.48333325, 0.25692472, 0.42213337, 0.40554499,\n",
       "       0.20167151, 0.25789119, 0.9459828 , 0.90417321, 0.24963625,\n",
       "       0.5384522 , 0.12983839, 0.10610117, 0.54240568, 0.2300252 ,\n",
       "       0.69913866, 0.06480621, 0.55714376, 0.12361308, 0.31510671,\n",
       "       0.09262888, 0.55376354, 0.60762155, 0.59257401, 0.53774687,\n",
       "       0.83054824, 0.03509725, 0.2784823 , 0.02561051, 0.789328  ,\n",
       "       0.35910086, 0.64335819, 0.67838575, 0.765874  , 0.04252348,\n",
       "       0.93570642, 0.60456647, 0.72121202, 0.28366987, 0.23534434,\n",
       "       0.30456909, 0.60199521, 0.35850574, 0.23538091, 0.21806809,\n",
       "       0.03910836, 0.98767353, 0.66421545, 0.59102633, 0.82282245,\n",
       "       0.56909611, 0.21118865, 0.93385439, 0.45246538, 0.54626075,\n",
       "       0.25021818, 0.84404785, 0.77250341, 0.15019884, 0.72063145,\n",
       "       0.42275756, 0.69461615, 0.34037235, 0.61481068, 0.31134565,\n",
       "       0.60795772, 0.19585216, 0.66144426, 0.63440909, 0.97259964,\n",
       "       0.53503084, 0.64113531, 0.96225537, 0.98061289, 0.20354111,\n",
       "       0.87476753, 0.30916334, 0.740776  , 0.269226  , 0.53422407,\n",
       "       0.85337918, 0.19040328, 0.13047012, 0.24497313, 0.30683626,\n",
       "       0.36652711, 0.58807982, 0.80083354, 0.6893382 , 0.82182786,\n",
       "       0.07456104, 0.85594986, 0.96899749, 0.37362021, 0.87554231,\n",
       "       0.74355892, 0.97860718, 0.97722792, 0.49923554, 0.63529179,\n",
       "       0.22366253, 0.81127132, 0.72777999, 0.35477122, 0.28304935,\n",
       "       0.43261454, 0.46115899, 0.28318728, 0.16866315, 0.29965605,\n",
       "       0.15403366, 0.10648539, 0.29520362, 0.04113397, 0.84516465,\n",
       "       0.41132615, 0.60321428, 0.35087807, 0.24256322, 0.72891439,\n",
       "       0.68317097, 0.43380754, 0.53570118, 0.08522888, 0.88396619,\n",
       "       0.10450161, 0.27955945, 0.60858369, 0.9317317 , 0.29204846,\n",
       "       0.30455972, 0.06835995, 0.07923621, 0.69783791, 0.02466976,\n",
       "       0.46448825, 0.99267253, 0.36361958, 0.26133977, 0.30568568,\n",
       "       0.38590577, 0.97727867, 0.89053764, 0.9806107 , 0.9687627 ,\n",
       "       0.27721872, 0.5099893 , 0.31613499, 0.89589223, 0.63944356,\n",
       "       0.85701848, 0.33863792, 0.03249675, 0.90052601, 0.78932739,\n",
       "       0.00447645, 0.85208079, 0.6707273 , 0.99069059, 0.68445963,\n",
       "       0.38967989, 0.49777408, 0.91037997, 0.93703462, 0.8551656 ,\n",
       "       0.62210003, 0.86930316, 0.64364009, 0.82682135, 0.19459304,\n",
       "       0.60879226, 0.53444291, 0.69930514, 0.23918082, 0.7089081 ,\n",
       "       0.29123577, 0.39826725, 0.29288567, 0.20613766, 0.18008461,\n",
       "       0.99898683, 0.12556264, 0.52444718, 0.06756404, 0.03919754,\n",
       "       0.79200144, 0.7576559 , 0.95110485, 0.20796387, 0.16433783,\n",
       "       0.69785767, 0.71580261, 0.66964502, 0.28664258, 0.31084396,\n",
       "       0.97520534, 0.40979543, 0.41699176, 0.26176212, 0.60394625,\n",
       "       0.45932685, 0.44327352, 0.15514202, 0.3735025 , 0.48397083,\n",
       "       0.52514688, 0.89702751, 0.23335568, 0.3343702 , 0.96251867,\n",
       "       0.62370933, 0.54230651, 0.21895541, 0.2016756 , 0.92519333,\n",
       "       0.85515603, 0.33450516, 0.09653136, 0.24596006, 0.77631768,\n",
       "       0.88765159, 0.13610642, 0.58392371, 0.79145911, 0.40514481,\n",
       "       0.94776644, 0.57987352, 0.06683354, 0.60609714, 0.0658456 ,\n",
       "       0.09635466, 0.01490874, 0.9970131 , 0.33929579, 0.85385469,\n",
       "       0.7486016 , 0.39678979, 0.80471558, 0.38580327, 0.16345218,\n",
       "       0.41508091, 0.64307012, 0.64648025, 0.52063721, 0.34612714,\n",
       "       0.48911772, 0.25586592, 0.6168255 , 0.08457308, 0.47066671,\n",
       "       0.23541288, 0.43359345, 0.48905546, 0.77453607, 0.54741646,\n",
       "       0.01494187, 0.13938011, 0.84442024, 0.41254342, 0.82467684,\n",
       "       0.27657313, 0.8303247 , 0.43246184, 0.96535859, 0.84602755,\n",
       "       0.94386335, 0.31852068, 0.46659838, 0.65605993, 0.9975472 ,\n",
       "       0.16124712, 0.87012996, 0.18566271, 0.92524371, 0.54183266,\n",
       "       0.96283212, 0.8225087 , 0.59296022, 0.87359053, 0.62253849,\n",
       "       0.50950984, 0.10324236, 0.39311549, 0.81088668, 0.61962199,\n",
       "       0.48322709, 0.16800201, 0.00354555, 0.40901558, 0.50491041,\n",
       "       0.72046376, 0.19630299, 0.50999541, 0.24152495, 0.27202799,\n",
       "       0.33200697, 0.30372021, 0.79829191, 0.55663949, 0.04522353,\n",
       "       0.92010408, 0.47377227, 0.77781614, 0.70148511, 0.51262747,\n",
       "       0.75622171, 0.31941921, 0.82223525, 0.2328033 , 0.32266024,\n",
       "       0.46807581, 0.68699321, 0.91282614, 0.00925308, 0.06776384,\n",
       "       0.34218202, 0.20840899, 0.41397196, 0.91557175, 0.39679202,\n",
       "       0.81420634, 0.13759305, 0.86254048, 0.15238463, 0.53319562,\n",
       "       0.85321649, 0.13865847, 0.70729897, 0.83062095, 0.27729362,\n",
       "       0.45549179, 0.71032842, 0.55523381, 0.76909123, 0.25528043,\n",
       "       0.73861336, 0.00358509, 0.46064913, 0.19250543, 0.95619794,\n",
       "       0.68472322, 0.53383217, 0.6560459 , 0.7724364 , 0.07069264,\n",
       "       0.35668912, 0.40892062, 0.16041913, 0.14887954, 0.80955215,\n",
       "       0.16180766, 0.15709131, 0.33316596, 0.62775424, 0.69040833,\n",
       "       0.01680044, 0.98465187, 0.83393261, 0.30603983, 0.03207707,\n",
       "       0.17609174, 0.92039258, 0.50974787, 0.39834148, 0.27975611,\n",
       "       0.01093942, 0.88625566, 0.87087616, 0.08065276, 0.34287576,\n",
       "       0.63377542, 0.53909974, 0.14630491, 0.97717787, 0.61047089,\n",
       "       0.07441417, 0.56273935, 0.11029796, 0.29333759, 0.58327149,\n",
       "       0.78972146, 0.94878099, 0.99988439, 0.52104981, 0.65189174,\n",
       "       0.50215304, 0.3835105 , 0.30744137, 0.57968275, 0.23124378,\n",
       "       0.13359717, 0.74313473, 0.06194272, 0.78736597, 0.35148784,\n",
       "       0.22134385, 0.61018959, 0.58365633, 0.19312994, 0.26061016,\n",
       "       0.23146414, 0.67210084, 0.02921204, 0.65890873, 0.11595231,\n",
       "       0.56722879, 0.15761589, 0.31085611, 0.00709249, 0.3023576 ,\n",
       "       0.96646252, 0.3145818 , 0.89060548, 0.70779553, 0.99345025,\n",
       "       0.50525608, 0.63000457, 0.60921206, 0.79577491, 0.32357834,\n",
       "       0.96824548, 0.68141222, 0.11225383, 0.67847364, 0.82870111,\n",
       "       0.41650618, 0.99849811, 0.81772601, 0.73068745, 0.82486036,\n",
       "       0.42652621, 0.4271887 , 0.26651893, 0.22649849, 0.555889  ,\n",
       "       0.61632735, 0.85438897, 0.78368071, 0.66210257, 0.68379476,\n",
       "       0.54947558, 0.53472873, 0.1289917 , 0.54737397, 0.41672652,\n",
       "       0.24071921, 0.27112766, 0.92773399, 0.46911572, 0.88029205,\n",
       "       0.7304917 , 0.66303149, 0.87456113, 0.1622076 , 0.25254154,\n",
       "       0.51824175, 0.68777595, 0.99460842, 0.33109664, 0.60679261,\n",
       "       0.39510337, 0.58707381, 0.41500895, 0.61436793, 0.13886789,\n",
       "       0.11639811, 0.08409498, 0.72395544, 0.17033761, 0.51034672,\n",
       "       0.51062196, 0.76221971, 0.28973959, 0.80314148, 0.42501524,\n",
       "       0.16484761, 0.49379574, 0.4253353 , 0.14722479, 0.6758884 ,\n",
       "       0.19946024, 0.58228099, 0.58354303, 0.46540435, 0.43917084,\n",
       "       0.60393471, 0.82969498, 0.98399671, 0.80679637, 0.19484823,\n",
       "       0.03464279, 0.42811675, 0.2607468 , 0.61015534, 0.63386295,\n",
       "       0.12158424, 0.74637969, 0.6378685 , 0.15536883, 0.07817293,\n",
       "       0.91831538, 0.04953131, 0.18646679, 0.91999166, 0.73936048,\n",
       "       0.11717983, 0.65983008, 0.34075501, 0.70128732, 0.29409858,\n",
       "       0.00634759, 0.45373153, 0.02967436, 0.41721868, 0.2908655 ,\n",
       "       0.38067506, 0.42628959, 0.92753758, 0.95196749, 0.47208864,\n",
       "       0.77507954, 0.23502323, 0.21946774, 0.74443341, 0.86696567,\n",
       "       0.89086155, 0.3085145 , 0.71666281, 0.21600093, 0.53848499,\n",
       "       0.20653841, 0.66859304, 0.66906732, 0.12837651, 0.27564239,\n",
       "       0.9378546 , 0.92912291, 0.07156728, 0.17023193, 0.44149461,\n",
       "       0.6428894 , 0.01854042, 0.60231385, 0.7153489 , 0.71315924,\n",
       "       0.39623509, 0.63208984, 0.30231339, 0.39941265, 0.65800936,\n",
       "       0.08415681, 0.74548724, 0.29070887, 0.71538744, 0.40686963,\n",
       "       0.90575777, 0.29847876, 0.64012866, 0.77172604, 0.06248509,\n",
       "       0.5054228 , 0.03414537, 0.80621203, 0.45411101, 0.78388483,\n",
       "       0.47233278, 0.91664743, 0.73925802, 0.15452156, 0.63926377,\n",
       "       0.85923513, 0.39786866, 0.52408114, 0.62648361, 0.05758917,\n",
       "       0.62743852, 0.51585446, 0.85914698, 0.8631422 , 0.81669039,\n",
       "       0.77233559, 0.7217536 , 0.06986028, 0.8196849 , 0.41613746,\n",
       "       0.80769283, 0.82918173, 0.70778176, 0.4188515 , 0.60163587,\n",
       "       0.502343  , 0.29972781, 0.4989638 , 0.52612916, 0.47608037,\n",
       "       0.78492793, 0.73942224, 0.18172339, 0.56012367, 0.5947977 ,\n",
       "       0.80147569, 0.10033604, 0.91247498, 0.31268236, 0.46959258,\n",
       "       0.04458075, 0.57974841, 0.97190471, 0.07413958, 0.9296193 ,\n",
       "       0.71055422, 0.38529344, 0.24558622, 0.01953652, 0.43766649])"
      ]
     },
     "execution_count": 197,
     "metadata": {},
     "output_type": "execute_result"
    }
   ],
   "source": [
    "a = np.random.uniform(0, 1, 1000)\n",
    "a"
   ]
  },
  {
   "cell_type": "code",
   "execution_count": 195,
   "metadata": {},
   "outputs": [],
   "source": [
    "import matplotlib as mpl\n",
    "import matplotlib.pylab as plt"
   ]
  },
  {
   "cell_type": "code",
   "execution_count": 208,
   "metadata": {},
   "outputs": [
    {
     "data": {
      "text/plain": [
       "(array([10.,  7.,  5.,  9.,  9.,  9., 13., 12.,  7.,  7., 10.,  9., 12.,\n",
       "        10.,  8., 13., 14.,  7.,  6., 10., 13.,  7.,  8., 14.,  9., 11.,\n",
       "         7., 16., 12., 15., 18., 11.,  4., 13., 11.,  9.,  7.,  4.,  7.,\n",
       "        14., 10., 12.,  9.,  7.,  8., 15., 11.,  4.,  9.,  6., 18.,  5.,\n",
       "         9., 13., 14.,  8.,  6., 10., 12.,  8., 20.,  7., 11., 19., 11.,\n",
       "        10., 12., 12., 12.,  9., 11.,  7., 11., 11., 10.,  3.,  7., 11.,\n",
       "        10.,  7., 10.,  9., 12., 10.,  9., 14.,  6.,  7.,  9., 14.,  7.,\n",
       "        11., 11., 10.,  8., 10., 11.,  9., 10., 11.]),\n",
       " array([0.00155851, 0.01154177, 0.02152503, 0.03150828, 0.04149154,\n",
       "        0.0514748 , 0.06145806, 0.07144132, 0.08142458, 0.09140784,\n",
       "        0.1013911 , 0.11137435, 0.12135761, 0.13134087, 0.14132413,\n",
       "        0.15130739, 0.16129065, 0.17127391, 0.18125717, 0.19124043,\n",
       "        0.20122368, 0.21120694, 0.2211902 , 0.23117346, 0.24115672,\n",
       "        0.25113998, 0.26112324, 0.2711065 , 0.28108975, 0.29107301,\n",
       "        0.30105627, 0.31103953, 0.32102279, 0.33100605, 0.34098931,\n",
       "        0.35097257, 0.36095582, 0.37093908, 0.38092234, 0.3909056 ,\n",
       "        0.40088886, 0.41087212, 0.42085538, 0.43083864, 0.44082189,\n",
       "        0.45080515, 0.46078841, 0.47077167, 0.48075493, 0.49073819,\n",
       "        0.50072145, 0.51070471, 0.52068797, 0.53067122, 0.54065448,\n",
       "        0.55063774, 0.560621  , 0.57060426, 0.58058752, 0.59057078,\n",
       "        0.60055404, 0.61053729, 0.62052055, 0.63050381, 0.64048707,\n",
       "        0.65047033, 0.66045359, 0.67043685, 0.68042011, 0.69040336,\n",
       "        0.70038662, 0.71036988, 0.72035314, 0.7303364 , 0.74031966,\n",
       "        0.75030292, 0.76028618, 0.77026943, 0.78025269, 0.79023595,\n",
       "        0.80021921, 0.81020247, 0.82018573, 0.83016899, 0.84015225,\n",
       "        0.85013551, 0.86011876, 0.87010202, 0.88008528, 0.89006854,\n",
       "        0.9000518 , 0.91003506, 0.92001832, 0.93000158, 0.93998483,\n",
       "        0.94996809, 0.95995135, 0.96993461, 0.97991787, 0.98990113,\n",
       "        0.99988439]),\n",
       " <a list of 100 Patch objects>)"
      ]
     },
     "execution_count": 208,
     "metadata": {},
     "output_type": "execute_result"
    },
    {
     "data": {
      "image/png": "[encoded data removed]",
      "text/plain": [
       "<Figure size 432x288 with 1 Axes>"
      ]
     },
     "metadata": {},
     "output_type": "display_data"
    }
   ],
   "source": [
    "plt.hist(a, 100)"
   ]
  },
  {
   "cell_type": "code",
   "execution_count": 214,
   "metadata": {},
   "outputs": [
    {
     "data": {
      "text/plain": [
       "array([[ 0.19959545, -1.4335505 , -1.22651413,  0.48736174,  1.71069221],\n",
       "       [ 1.13440049,  0.49432538, -1.0652482 , -0.62460865, -1.1483978 ]])"
      ]
     },
     "execution_count": 214,
     "metadata": {},
     "output_type": "execute_result"
    }
   ],
   "source": [
    "np.random.normal(0, 1, 10).reshape(2, 5) # 정규 분포 (평균, 표준편차, 개수)"
   ]
  },
  {
   "cell_type": "code",
   "execution_count": 221,
   "metadata": {},
   "outputs": [],
   "source": [
    "b = np.random.normal(0, 1, 10000)"
   ]
  },
  {
   "cell_type": "code",
   "execution_count": 227,
   "metadata": {},
   "outputs": [
    {
     "data": {
      "text/plain": [
       "(array([  1.,   1.,   2.,   1.,   4.,   0.,   3.,   6.,   2.,   7.,   4.,\n",
       "          5.,  10.,  14.,  16.,  23.,  15.,  26.,  28.,  39.,  42.,  47.,\n",
       "         57.,  71.,  77.,  79., 101., 100., 125., 149., 152., 152., 150.,\n",
       "        191., 235., 221., 249., 224., 235., 295., 304., 299., 314., 319.,\n",
       "        316., 308., 331., 322., 338., 324., 297., 293., 294., 241., 238.,\n",
       "        224., 213., 218., 218., 191., 173., 135., 124., 139., 107.,  78.,\n",
       "         84.,  55.,  42.,  50.,  49.,  38.,  36.,  24.,  18.,  14.,  17.,\n",
       "          8.,   9.,   8.,   7.,   5.,   6.,   3.,   1.,   1.,   1.,   2.,\n",
       "          1.,   1.,   0.,   1.,   0.,   0.,   1.,   0.,   0.,   0.,   0.,\n",
       "          1.]),\n",
       " array([-3.65616503, -3.57618662, -3.49620822, -3.41622981, -3.3362514 ,\n",
       "        -3.256273  , -3.17629459, -3.09631618, -3.01633778, -2.93635937,\n",
       "        -2.85638096, -2.77640256, -2.69642415, -2.61644574, -2.53646734,\n",
       "        -2.45648893, -2.37651052, -2.29653212, -2.21655371, -2.1365753 ,\n",
       "        -2.0565969 , -1.97661849, -1.89664008, -1.81666168, -1.73668327,\n",
       "        -1.65670486, -1.57672646, -1.49674805, -1.41676964, -1.33679124,\n",
       "        -1.25681283, -1.17683442, -1.09685602, -1.01687761, -0.9368992 ,\n",
       "        -0.8569208 , -0.77694239, -0.69696398, -0.61698558, -0.53700717,\n",
       "        -0.45702876, -0.37705036, -0.29707195, -0.21709354, -0.13711514,\n",
       "        -0.05713673,  0.02284168,  0.10282008,  0.18279849,  0.2627769 ,\n",
       "         0.3427553 ,  0.42273371,  0.50271212,  0.58269053,  0.66266893,\n",
       "         0.74264734,  0.82262575,  0.90260415,  0.98258256,  1.06256097,\n",
       "         1.14253937,  1.22251778,  1.30249619,  1.38247459,  1.462453  ,\n",
       "         1.54243141,  1.62240981,  1.70238822,  1.78236663,  1.86234503,\n",
       "         1.94232344,  2.02230185,  2.10228025,  2.18225866,  2.26223707,\n",
       "         2.34221547,  2.42219388,  2.50217229,  2.58215069,  2.6621291 ,\n",
       "         2.74210751,  2.82208591,  2.90206432,  2.98204273,  3.06202113,\n",
       "         3.14199954,  3.22197795,  3.30195635,  3.38193476,  3.46191317,\n",
       "         3.54189157,  3.62186998,  3.70184839,  3.78182679,  3.8618052 ,\n",
       "         3.94178361,  4.02176201,  4.10174042,  4.18171883,  4.26169723,\n",
       "         4.34167564]),\n",
       " <a list of 100 Patch objects>)"
      ]
     },
     "execution_count": 227,
     "metadata": {},
     "output_type": "execute_result"
    },
    {
     "data": {
      "image/png": "[encoded data removed]",
      "text/plain": [
       "<Figure size 432x288 with 1 Axes>"
      ]
     },
     "metadata": {},
     "output_type": "display_data"
    }
   ],
   "source": [
    "plt.hist(b, 100)"
   ]
  },
  {
   "cell_type": "code",
   "execution_count": 223,
   "metadata": {},
   "outputs": [
    {
     "data": {
      "text/plain": [
       "0.0038381367578916134"
      ]
     },
     "execution_count": 223,
     "metadata": {},
     "output_type": "execute_result"
    }
   ],
   "source": [
    "b.mean()"
   ]
  },
  {
   "cell_type": "code",
   "execution_count": 244,
   "metadata": {},
   "outputs": [
    {
     "data": {
      "text/plain": [
       "0.9950446436977743"
      ]
     },
     "execution_count": 244,
     "metadata": {},
     "output_type": "execute_result"
    }
   ],
   "source": [
    "b.std()"
   ]
  },
  {
   "cell_type": "markdown",
   "metadata": {},
   "source": [
    "## operation functions"
   ]
  },
  {
   "cell_type": "code",
   "execution_count": 288,
   "metadata": {},
   "outputs": [
    {
     "data": {
      "text/plain": [
       "array([ 1,  2,  3,  4,  5,  6,  7,  8,  9, 10])"
      ]
     },
     "execution_count": 288,
     "metadata": {},
     "output_type": "execute_result"
    }
   ],
   "source": [
    "# sum\n",
    "\n",
    "test_array = np.arange(1, 11)\n",
    "test_array"
   ]
  },
  {
   "cell_type": "code",
   "execution_count": 289,
   "metadata": {},
   "outputs": [
    {
     "data": {
      "text/plain": [
       "55.0"
      ]
     },
     "execution_count": 289,
     "metadata": {},
     "output_type": "execute_result"
    }
   ],
   "source": [
    "test_array.sum(dtype = np.float)"
   ]
  },
  {
   "cell_type": "code",
   "execution_count": 290,
   "metadata": {},
   "outputs": [
    {
     "data": {
      "text/plain": [
       "array([[ 1,  2,  3,  4],\n",
       "       [ 5,  6,  7,  8],\n",
       "       [ 9, 10, 11, 12]])"
      ]
     },
     "execution_count": 290,
     "metadata": {},
     "output_type": "execute_result"
    }
   ],
   "source": [
    "# axis: 모든 operation function을 실행할 때, 기준이 되는 dimension 축\n",
    "\n",
    "test_array = np.arange(1, 13).reshape(3, 4)  # 3: 행 (axis=0 행 방향), 4: 열 (axis=1 열 방향)\n",
    "test_array"
   ]
  },
  {
   "cell_type": "code",
   "execution_count": 295,
   "metadata": {},
   "outputs": [
    {
     "data": {
      "text/plain": [
       "array([15, 18, 21, 24])"
      ]
     },
     "execution_count": 295,
     "metadata": {},
     "output_type": "execute_result"
    }
   ],
   "source": [
    "test_array.sum(axis = 0)  # 행 방향. 1~n 행에 있는 값 다 더함. (열 별로 결과값 나옴)"
   ]
  },
  {
   "cell_type": "code",
   "execution_count": 293,
   "metadata": {},
   "outputs": [
    {
     "data": {
      "text/plain": [
       "array([10, 26, 42])"
      ]
     },
     "execution_count": 293,
     "metadata": {},
     "output_type": "execute_result"
    }
   ],
   "source": [
    "test_array.sum(axis = 1)"
   ]
  },
  {
   "cell_type": "code",
   "execution_count": 296,
   "metadata": {},
   "outputs": [
    {
     "data": {
      "text/plain": [
       "array([[[ 1,  2,  3,  4],\n",
       "        [ 5,  6,  7,  8],\n",
       "        [ 9, 10, 11, 12]],\n",
       "\n",
       "       [[ 1,  2,  3,  4],\n",
       "        [ 5,  6,  7,  8],\n",
       "        [ 9, 10, 11, 12]],\n",
       "\n",
       "       [[ 1,  2,  3,  4],\n",
       "        [ 5,  6,  7,  8],\n",
       "        [ 9, 10, 11, 12]]])"
      ]
     },
     "execution_count": 296,
     "metadata": {},
     "output_type": "execute_result"
    }
   ],
   "source": [
    "third_order_tensor = np.array([test_array, test_array, test_array])\n",
    "third_order_tensor"
   ]
  },
  {
   "cell_type": "code",
   "execution_count": 297,
   "metadata": {},
   "outputs": [
    {
     "data": {
      "text/plain": [
       "array([[ 3,  6,  9, 12],\n",
       "       [15, 18, 21, 24],\n",
       "       [27, 30, 33, 36]])"
      ]
     },
     "execution_count": 297,
     "metadata": {},
     "output_type": "execute_result"
    }
   ],
   "source": [
    "third_order_tensor.sum(axis=0)  # 3차원인 경우 0: 깊이, 1: 행, 2: 열 방향 다 더함"
   ]
  },
  {
   "cell_type": "code",
   "execution_count": 298,
   "metadata": {},
   "outputs": [
    {
     "data": {
      "text/plain": [
       "array([[15, 18, 21, 24],\n",
       "       [15, 18, 21, 24],\n",
       "       [15, 18, 21, 24]])"
      ]
     },
     "execution_count": 298,
     "metadata": {},
     "output_type": "execute_result"
    }
   ],
   "source": [
    "third_order_tensor.sum(axis=1)"
   ]
  },
  {
   "cell_type": "code",
   "execution_count": 300,
   "metadata": {},
   "outputs": [
    {
     "data": {
      "text/plain": [
       "array([[10, 26, 42],\n",
       "       [10, 26, 42],\n",
       "       [10, 26, 42]])"
      ]
     },
     "execution_count": 300,
     "metadata": {},
     "output_type": "execute_result"
    }
   ],
   "source": [
    "third_order_tensor.sum(axis=2)"
   ]
  },
  {
   "cell_type": "code",
   "execution_count": 303,
   "metadata": {},
   "outputs": [
    {
     "data": {
      "text/plain": [
       "array([[ 1,  2,  3,  4],\n",
       "       [ 5,  6,  7,  8],\n",
       "       [ 9, 10, 11, 12]])"
      ]
     },
     "execution_count": 303,
     "metadata": {},
     "output_type": "execute_result"
    }
   ],
   "source": [
    "test_array"
   ]
  },
  {
   "cell_type": "code",
   "execution_count": 304,
   "metadata": {},
   "outputs": [
    {
     "data": {
      "text/plain": [
       "6.5"
      ]
     },
     "execution_count": 304,
     "metadata": {},
     "output_type": "execute_result"
    }
   ],
   "source": [
    "test_array.mean()"
   ]
  },
  {
   "cell_type": "code",
   "execution_count": 305,
   "metadata": {},
   "outputs": [
    {
     "data": {
      "text/plain": [
       "array([5., 6., 7., 8.])"
      ]
     },
     "execution_count": 305,
     "metadata": {},
     "output_type": "execute_result"
    }
   ],
   "source": [
    "test_array.mean(axis = 0)"
   ]
  },
  {
   "cell_type": "code",
   "execution_count": 306,
   "metadata": {},
   "outputs": [
    {
     "data": {
      "text/plain": [
       "array([1.11803399, 1.11803399, 1.11803399])"
      ]
     },
     "execution_count": 306,
     "metadata": {},
     "output_type": "execute_result"
    }
   ],
   "source": [
    "test_array.std(axis = 1)"
   ]
  },
  {
   "cell_type": "code",
   "execution_count": 301,
   "metadata": {},
   "outputs": [
    {
     "data": {
      "text/plain": [
       "1.0"
      ]
     },
     "execution_count": 301,
     "metadata": {},
     "output_type": "execute_result"
    }
   ],
   "source": [
    "np.exp(0)"
   ]
  },
  {
   "cell_type": "code",
   "execution_count": 302,
   "metadata": {},
   "outputs": [
    {
     "data": {
      "text/plain": [
       "2.718281828459045"
      ]
     },
     "execution_count": 302,
     "metadata": {},
     "output_type": "execute_result"
    }
   ],
   "source": [
    "np.exp(1)"
   ]
  },
  {
   "cell_type": "code",
   "execution_count": 309,
   "metadata": {},
   "outputs": [
    {
     "data": {
      "text/plain": [
       "array([[2.71828183e+00, 7.38905610e+00, 2.00855369e+01, 5.45981500e+01],\n",
       "       [1.48413159e+02, 4.03428793e+02, 1.09663316e+03, 2.98095799e+03],\n",
       "       [8.10308393e+03, 2.20264658e+04, 5.98741417e+04, 1.62754791e+05]])"
      ]
     },
     "execution_count": 309,
     "metadata": {},
     "output_type": "execute_result"
    }
   ],
   "source": [
    "np.exp(test_array)"
   ]
  },
  {
   "cell_type": "code",
   "execution_count": 308,
   "metadata": {
    "scrolled": true
   },
   "outputs": [
    {
     "data": {
      "text/plain": [
       "array([[1.        , 1.41421356, 1.73205081, 2.        ],\n",
       "       [2.23606798, 2.44948974, 2.64575131, 2.82842712],\n",
       "       [3.        , 3.16227766, 3.31662479, 3.46410162]])"
      ]
     },
     "execution_count": 308,
     "metadata": {},
     "output_type": "execute_result"
    }
   ],
   "source": [
    "np.sqrt(test_array)"
   ]
  },
  {
   "cell_type": "code",
   "execution_count": 310,
   "metadata": {},
   "outputs": [
    {
     "data": {
      "text/plain": [
       "array([[1, 2, 3],\n",
       "       [2, 3, 4]])"
      ]
     },
     "execution_count": 310,
     "metadata": {},
     "output_type": "execute_result"
    }
   ],
   "source": [
    "a = np.array([1, 2, 3])\n",
    "b = np.array([2, 3, 4])\n",
    "np.vstack((a, b))"
   ]
  },
  {
   "cell_type": "code",
   "execution_count": 311,
   "metadata": {},
   "outputs": [
    {
     "data": {
      "text/plain": [
       "array([1, 2, 3, 2, 3, 4])"
      ]
     },
     "execution_count": 311,
     "metadata": {},
     "output_type": "execute_result"
    }
   ],
   "source": [
    "np.hstack((a, b))"
   ]
  },
  {
   "cell_type": "code",
   "execution_count": 312,
   "metadata": {},
   "outputs": [
    {
     "data": {
      "text/plain": [
       "array([1, 2, 3, 2, 3, 4])"
      ]
     },
     "execution_count": 312,
     "metadata": {},
     "output_type": "execute_result"
    }
   ],
   "source": [
    "np.concatenate((a, b), axis = 0)"
   ]
  },
  {
   "cell_type": "code",
   "execution_count": 316,
   "metadata": {},
   "outputs": [],
   "source": [
    "a = np.array([[1, 2], [3, 4]])\n",
    "b = np.array([[5, 6]])"
   ]
  },
  {
   "cell_type": "code",
   "execution_count": 321,
   "metadata": {},
   "outputs": [
    {
     "data": {
      "text/plain": [
       "array([[5, 6]])"
      ]
     },
     "execution_count": 321,
     "metadata": {},
     "output_type": "execute_result"
    }
   ],
   "source": [
    "b"
   ]
  },
  {
   "cell_type": "code",
   "execution_count": 325,
   "metadata": {},
   "outputs": [
    {
     "data": {
      "text/plain": [
       "array([[5],\n",
       "       [6]])"
      ]
     },
     "execution_count": 325,
     "metadata": {},
     "output_type": "execute_result"
    }
   ],
   "source": [
    "b.T  # transpose"
   ]
  },
  {
   "cell_type": "code",
   "execution_count": 326,
   "metadata": {},
   "outputs": [
    {
     "data": {
      "text/plain": [
       "array([[1, 2, 3],\n",
       "       [4, 5, 6]])"
      ]
     },
     "execution_count": 326,
     "metadata": {},
     "output_type": "execute_result"
    }
   ],
   "source": [
    "test_a = np.arange(1, 7).reshape(2, 3)\n",
    "test_a"
   ]
  },
  {
   "cell_type": "code",
   "execution_count": 327,
   "metadata": {
    "scrolled": true
   },
   "outputs": [
    {
     "data": {
      "text/plain": [
       "array([[1, 4],\n",
       "       [2, 5],\n",
       "       [3, 6]])"
      ]
     },
     "execution_count": 327,
     "metadata": {},
     "output_type": "execute_result"
    }
   ],
   "source": [
    "test_a.transpose()"
   ]
  },
  {
   "cell_type": "code",
   "execution_count": 328,
   "metadata": {},
   "outputs": [
    {
     "data": {
      "text/plain": [
       "array([[1, 4],\n",
       "       [2, 5],\n",
       "       [3, 6]])"
      ]
     },
     "execution_count": 328,
     "metadata": {},
     "output_type": "execute_result"
    }
   ],
   "source": [
    "test_a.T"
   ]
  },
  {
   "cell_type": "code",
   "execution_count": 318,
   "metadata": {
    "scrolled": true
   },
   "outputs": [
    {
     "data": {
      "text/plain": [
       "array([[1, 2, 5],\n",
       "       [3, 4, 6]])"
      ]
     },
     "execution_count": 318,
     "metadata": {},
     "output_type": "execute_result"
    }
   ],
   "source": [
    "np.concatenate((a, b.T), axis = 1)"
   ]
  },
  {
   "cell_type": "code",
   "execution_count": 320,
   "metadata": {},
   "outputs": [
    {
     "data": {
      "text/plain": [
       "array([[1, 2, 5],\n",
       "       [3, 4, 6]])"
      ]
     },
     "execution_count": 320,
     "metadata": {},
     "output_type": "execute_result"
    }
   ],
   "source": [
    "c = np.array([[5], [6]])\n",
    "np.concatenate((a, c), axis = 1)"
   ]
  },
  {
   "cell_type": "markdown",
   "metadata": {},
   "source": [
    "## array operations"
   ]
  },
  {
   "cell_type": "code",
   "execution_count": 330,
   "metadata": {},
   "outputs": [
    {
     "data": {
      "text/plain": [
       "array([[1, 2, 3],\n",
       "       [4, 5, 6]])"
      ]
     },
     "execution_count": 330,
     "metadata": {},
     "output_type": "execute_result"
    }
   ],
   "source": [
    "test_a"
   ]
  },
  {
   "cell_type": "code",
   "execution_count": 332,
   "metadata": {},
   "outputs": [
    {
     "data": {
      "text/plain": [
       "array([[ 2,  4,  6],\n",
       "       [ 8, 10, 12]])"
      ]
     },
     "execution_count": 332,
     "metadata": {},
     "output_type": "execute_result"
    }
   ],
   "source": [
    "test_a + test_a"
   ]
  },
  {
   "cell_type": "code",
   "execution_count": 331,
   "metadata": {},
   "outputs": [
    {
     "data": {
      "text/plain": [
       "array([[ 1,  4,  9],\n",
       "       [16, 25, 36]])"
      ]
     },
     "execution_count": 331,
     "metadata": {},
     "output_type": "execute_result"
    }
   ],
   "source": [
    "test_a * test_a"
   ]
  },
  {
   "cell_type": "code",
   "execution_count": 334,
   "metadata": {},
   "outputs": [
    {
     "data": {
      "text/plain": [
       "array([[ 7,  8],\n",
       "       [ 9, 10],\n",
       "       [11, 12]])"
      ]
     },
     "execution_count": 334,
     "metadata": {},
     "output_type": "execute_result"
    }
   ],
   "source": [
    "# Dot product: matrix의 기본 연산\n",
    "\n",
    "test_b = np.arange(7, 13).reshape(3,2)\n",
    "test_b"
   ]
  },
  {
   "cell_type": "code",
   "execution_count": 335,
   "metadata": {},
   "outputs": [
    {
     "data": {
      "text/plain": [
       "array([[ 58,  64],\n",
       "       [139, 154]])"
      ]
     },
     "execution_count": 335,
     "metadata": {},
     "output_type": "execute_result"
    }
   ],
   "source": [
    "test_a.dot(test_b)"
   ]
  },
  {
   "cell_type": "code",
   "execution_count": 329,
   "metadata": {},
   "outputs": [
    {
     "data": {
      "text/plain": [
       "array([[4., 5., 6.],\n",
       "       [7., 8., 9.]])"
      ]
     },
     "execution_count": 329,
     "metadata": {},
     "output_type": "execute_result"
    }
   ],
   "source": [
    "# broadcasting: shape이 다른 배열 간 연산 지원 기능\n",
    "\n",
    "test_matrix = np.array([[1, 2 , 3], [4, 5, 6]], float)\n",
    "scalar = 3\n",
    "\n",
    "test_matrix + scalar"
   ]
  },
  {
   "cell_type": "code",
   "execution_count": 337,
   "metadata": {},
   "outputs": [
    {
     "data": {
      "text/plain": [
       "array([[ 1,  2,  3],\n",
       "       [ 4,  5,  6],\n",
       "       [ 7,  8,  9],\n",
       "       [10, 11, 12]])"
      ]
     },
     "execution_count": 337,
     "metadata": {},
     "output_type": "execute_result"
    }
   ],
   "source": [
    "test_matrix = np.arange(1, 13).reshape(4, 3)\n",
    "test_matrix"
   ]
  },
  {
   "cell_type": "code",
   "execution_count": 338,
   "metadata": {},
   "outputs": [
    {
     "data": {
      "text/plain": [
       "array([10, 20, 30])"
      ]
     },
     "execution_count": 338,
     "metadata": {},
     "output_type": "execute_result"
    }
   ],
   "source": [
    "test_vector = np.arange(10, 40, 10)\n",
    "test_vector"
   ]
  },
  {
   "cell_type": "code",
   "execution_count": 339,
   "metadata": {},
   "outputs": [
    {
     "data": {
      "text/plain": [
       "array([[11, 22, 33],\n",
       "       [14, 25, 36],\n",
       "       [17, 28, 39],\n",
       "       [20, 31, 42]])"
      ]
     },
     "execution_count": 339,
     "metadata": {},
     "output_type": "execute_result"
    }
   ],
   "source": [
    "test_matrix + test_vector"
   ]
  },
  {
   "cell_type": "code",
   "execution_count": 340,
   "metadata": {},
   "outputs": [
    {
     "data": {
      "text/plain": [
       "array([[11, 22, 33],\n",
       "       [14, 25, 36],\n",
       "       [17, 28, 39],\n",
       "       [20, 31, 42]])"
      ]
     },
     "execution_count": 340,
     "metadata": {},
     "output_type": "execute_result"
    }
   ],
   "source": [
    "test_matrix + np.array([[10, 20, 30], [10, 20, 30], [10, 20, 30], [10, 20, 30]])"
   ]
  },
  {
   "cell_type": "code",
   "execution_count": 26,
   "metadata": {},
   "outputs": [
    {
     "name": "stdout",
     "output_type": "stream",
     "text": [
      "94.8 µs ± 6.92 µs per loop (mean ± std. dev. of 7 runs, 10000 loops each)\n"
     ]
    }
   ],
   "source": [
    "def scalar_vector_product(scalar, vector):\n",
    "    result = []\n",
    "    for value in vector:\n",
    "        result.append(scalar * value)\n",
    "    return result\n",
    "\n",
    "iternation_max = 1000\n",
    "\n",
    "vector = list(range(iternation_max))\n",
    "scalar = 2\n",
    "\n",
    "%timeit scalar_vector_product(scalar, vector)  # for loop를 이용한 성능"
   ]
  },
  {
   "cell_type": "code",
   "execution_count": 27,
   "metadata": {
    "scrolled": true
   },
   "outputs": [
    {
     "name": "stdout",
     "output_type": "stream",
     "text": [
      "62.8 µs ± 7.57 µs per loop (mean ± std. dev. of 7 runs, 10000 loops each)\n"
     ]
    }
   ],
   "source": [
    "%timeit [scalar * value for value in range(iternation_max)] # list comprehension을 이용한 성능"
   ]
  },
  {
   "cell_type": "code",
   "execution_count": 28,
   "metadata": {},
   "outputs": [
    {
     "name": "stdout",
     "output_type": "stream",
     "text": [
      "2.88 µs ± 30.8 ns per loop (mean ± std. dev. of 7 runs, 100000 loops each)\n"
     ]
    }
   ],
   "source": [
    "%timeit np.arange(iternation_max) * scalar  # numpy를 이용한 성능"
   ]
  },
  {
   "cell_type": "code",
   "execution_count": 3,
   "metadata": {},
   "outputs": [
    {
     "data": {
      "text/plain": [
       "range(0, 10)"
      ]
     },
     "execution_count": 3,
     "metadata": {},
     "output_type": "execute_result"
    }
   ],
   "source": [
    "range(10)"
   ]
  },
  {
   "cell_type": "code",
   "execution_count": 4,
   "metadata": {},
   "outputs": [
    {
     "data": {
      "text/plain": [
       "[0, 1, 2, 3, 4, 5, 6, 7, 8, 9]"
      ]
     },
     "execution_count": 4,
     "metadata": {},
     "output_type": "execute_result"
    }
   ],
   "source": [
    "list(range(10))"
   ]
  },
  {
   "cell_type": "code",
   "execution_count": 17,
   "metadata": {},
   "outputs": [],
   "source": [
    "a = []\n",
    "result = []"
   ]
  },
  {
   "cell_type": "code",
   "execution_count": 19,
   "metadata": {},
   "outputs": [
    {
     "name": "stdout",
     "output_type": "stream",
     "text": [
      "[1, 2, 3, 4, 5, 6, 7, 8, 9, 10, 1, 2, 3, 4, 5, 6, 7, 8, 9, 10]\n"
     ]
    }
   ],
   "source": [
    "for i in range(1, 11):\n",
    "    a.append(i)\n",
    "    \n",
    "print(a)"
   ]
  },
  {
   "cell_type": "code",
   "execution_count": 22,
   "metadata": {},
   "outputs": [
    {
     "name": "stdout",
     "output_type": "stream",
     "text": [
      "[0.0, 0.6931471805599453, 1.0986122886681098, 1.3862943611198906, 1.6094379124341003, 1.791759469228055, 1.9459101490553132, 2.0794415416798357, 2.1972245773362196, 2.302585092994046, 0.0, 0.6931471805599453, 1.0986122886681098, 1.3862943611198906, 1.6094379124341003, 1.791759469228055, 1.9459101490553132, 2.0794415416798357, 2.1972245773362196, 2.302585092994046]\n"
     ]
    }
   ],
   "source": [
    "for i in range(1, 11):\n",
    "    result.append(np.log(i))\n",
    "    \n",
    "print(result)       # 이렇게 하면 파이썬 리스트로 하나씩 따로따로 저장하기 때문에 3쿠션, 느리다."
   ]
  },
  {
   "cell_type": "code",
   "execution_count": 21,
   "metadata": {},
   "outputs": [
    {
     "data": {
      "text/plain": [
       "[0.0,\n",
       " 0.6931471805599453,\n",
       " 1.0986122886681098,\n",
       " 1.3862943611198906,\n",
       " 1.6094379124341003,\n",
       " 1.791759469228055,\n",
       " 1.9459101490553132,\n",
       " 2.0794415416798357,\n",
       " 2.1972245773362196,\n",
       " 2.302585092994046]"
      ]
     },
     "execution_count": 21,
     "metadata": {},
     "output_type": "execute_result"
    }
   ],
   "source": [
    "result2 = [np.log(i) for i in range(1, 11)]\n",
    "result2         # 이렇게 하면 numpy로 한 블럭으로 저장하기 때문에 빠르다."
   ]
  },
  {
   "cell_type": "markdown",
   "metadata": {},
   "source": [
    "## comparisions"
   ]
  },
  {
   "cell_type": "code",
   "execution_count": 29,
   "metadata": {},
   "outputs": [
    {
     "data": {
      "text/plain": [
       "array([0, 1, 2, 3, 4, 5, 6, 7, 8, 9])"
      ]
     },
     "execution_count": 29,
     "metadata": {},
     "output_type": "execute_result"
    }
   ],
   "source": [
    "a = np.arange(10)\n",
    "a"
   ]
  },
  {
   "cell_type": "code",
   "execution_count": 30,
   "metadata": {},
   "outputs": [
    {
     "data": {
      "text/plain": [
       "(True, False)"
      ]
     },
     "execution_count": 30,
     "metadata": {},
     "output_type": "execute_result"
    }
   ],
   "source": [
    "np.any(a>5), np.any(a<0)"
   ]
  },
  {
   "cell_type": "code",
   "execution_count": 31,
   "metadata": {},
   "outputs": [
    {
     "data": {
      "text/plain": [
       "(False, True)"
      ]
     },
     "execution_count": 31,
     "metadata": {},
     "output_type": "execute_result"
    }
   ],
   "source": [
    "np.all(a>5), np.all(a<10)"
   ]
  },
  {
   "cell_type": "code",
   "execution_count": 32,
   "metadata": {},
   "outputs": [
    {
     "data": {
      "text/plain": [
       "array([False,  True, False])"
      ]
     },
     "execution_count": 32,
     "metadata": {},
     "output_type": "execute_result"
    }
   ],
   "source": [
    "test_a = np.array([1, 3, 0], float)\n",
    "test_b = np.array([5, 2, 1], float)\n",
    "test_a > test_b"
   ]
  },
  {
   "cell_type": "code",
   "execution_count": 33,
   "metadata": {},
   "outputs": [
    {
     "data": {
      "text/plain": [
       "array([False, False, False])"
      ]
     },
     "execution_count": 33,
     "metadata": {},
     "output_type": "execute_result"
    }
   ],
   "source": [
    "test_a == test_b"
   ]
  },
  {
   "cell_type": "code",
   "execution_count": 34,
   "metadata": {},
   "outputs": [
    {
     "data": {
      "text/plain": [
       "True"
      ]
     },
     "execution_count": 34,
     "metadata": {},
     "output_type": "execute_result"
    }
   ],
   "source": [
    "(test_a > test_b).any()"
   ]
  },
  {
   "cell_type": "code",
   "execution_count": 36,
   "metadata": {},
   "outputs": [
    {
     "data": {
      "text/plain": [
       "array([ True, False, False])"
      ]
     },
     "execution_count": 36,
     "metadata": {},
     "output_type": "execute_result"
    }
   ],
   "source": [
    "np.logical_and(test_a > 0, test_a < 3)"
   ]
  },
  {
   "cell_type": "code",
   "execution_count": 38,
   "metadata": {},
   "outputs": [
    {
     "data": {
      "text/plain": [
       "array([ True, False,  True])"
      ]
     },
     "execution_count": 38,
     "metadata": {},
     "output_type": "execute_result"
    }
   ],
   "source": [
    "b = np.array([True, False, True], bool)\n",
    "b"
   ]
  },
  {
   "cell_type": "code",
   "execution_count": 39,
   "metadata": {},
   "outputs": [
    {
     "data": {
      "text/plain": [
       "array([False,  True, False])"
      ]
     },
     "execution_count": 39,
     "metadata": {},
     "output_type": "execute_result"
    }
   ],
   "source": [
    "np.logical_not(b)"
   ]
  },
  {
   "cell_type": "code",
   "execution_count": 40,
   "metadata": {},
   "outputs": [
    {
     "data": {
      "text/plain": [
       "array([ True,  True,  True])"
      ]
     },
     "execution_count": 40,
     "metadata": {},
     "output_type": "execute_result"
    }
   ],
   "source": [
    "c = np.array([False, True, False], bool)\n",
    "np.logical_or(b, c)"
   ]
  },
  {
   "cell_type": "code",
   "execution_count": 43,
   "metadata": {},
   "outputs": [
    {
     "data": {
      "text/plain": [
       "array([33, 33, 22])"
      ]
     },
     "execution_count": 43,
     "metadata": {},
     "output_type": "execute_result"
    }
   ],
   "source": [
    "np.where(test_a > 0, 33, 22) #where(condition, True, False)"
   ]
  },
  {
   "cell_type": "code",
   "execution_count": 45,
   "metadata": {},
   "outputs": [
    {
     "data": {
      "text/plain": [
       "(array([6, 7, 8, 9], dtype=int64),)"
      ]
     },
     "execution_count": 45,
     "metadata": {},
     "output_type": "execute_result"
    }
   ],
   "source": [
    "a = np.arange(10)\n",
    "np.where(a > 5)  # index값 반환"
   ]
  },
  {
   "cell_type": "code",
   "execution_count": 46,
   "metadata": {},
   "outputs": [
    {
     "data": {
      "text/plain": [
       "array([False,  True, False])"
      ]
     },
     "execution_count": 46,
     "metadata": {},
     "output_type": "execute_result"
    }
   ],
   "source": [
    "a = np.array([1, np.NaN, np.Inf], float)  #NaN: Not a Number\n",
    "np.isnan(a)"
   ]
  },
  {
   "cell_type": "code",
   "execution_count": 47,
   "metadata": {},
   "outputs": [
    {
     "data": {
      "text/plain": [
       "array([ True, False, False])"
      ]
     },
     "execution_count": 47,
     "metadata": {},
     "output_type": "execute_result"
    }
   ],
   "source": [
    "np.isfinite(a)"
   ]
  },
  {
   "cell_type": "code",
   "execution_count": 48,
   "metadata": {},
   "outputs": [
    {
     "data": {
      "text/plain": [
       "(5, 0)"
      ]
     },
     "execution_count": 48,
     "metadata": {},
     "output_type": "execute_result"
    }
   ],
   "source": [
    "# argmax & argmin: array 내 최대값 또는 최소값의 index 반환\n",
    "\n",
    "a = np.array([1, 2, 4, 5, 8, 78, 23, 3])\n",
    "np.argmax(a), np.argmin(a)"
   ]
  },
  {
   "cell_type": "code",
   "execution_count": 50,
   "metadata": {},
   "outputs": [
    {
     "data": {
      "text/plain": [
       "array([[ 1,  2,  4,  7],\n",
       "       [ 9, 88,  6, 45],\n",
       "       [ 9, 76,  3,  4]])"
      ]
     },
     "execution_count": 50,
     "metadata": {},
     "output_type": "execute_result"
    }
   ],
   "source": [
    "a = np.array([[1, 2, 4, 7], [9, 88, 6, 45], [9, 76, 3, 4]])\n",
    "a"
   ]
  },
  {
   "cell_type": "code",
   "execution_count": 51,
   "metadata": {},
   "outputs": [
    {
     "data": {
      "text/plain": [
       "array([3, 1, 1], dtype=int64)"
      ]
     },
     "execution_count": 51,
     "metadata": {},
     "output_type": "execute_result"
    }
   ],
   "source": [
    "np.argmax(a, axis = 1)"
   ]
  },
  {
   "cell_type": "code",
   "execution_count": 52,
   "metadata": {},
   "outputs": [
    {
     "data": {
      "text/plain": [
       "array([0, 0, 2, 2], dtype=int64)"
      ]
     },
     "execution_count": 52,
     "metadata": {},
     "output_type": "execute_result"
    }
   ],
   "source": [
    "np.argmin(a, axis = 0)"
   ]
  },
  {
   "cell_type": "code",
   "execution_count": 9,
   "metadata": {},
   "outputs": [],
   "source": [
    "def a(x):\n",
    "    x += 50\n",
    "    return x"
   ]
  },
  {
   "cell_type": "code",
   "execution_count": 10,
   "metadata": {},
   "outputs": [
    {
     "data": {
      "text/plain": [
       "90"
      ]
     },
     "execution_count": 10,
     "metadata": {},
     "output_type": "execute_result"
    }
   ],
   "source": [
    "a(40)"
   ]
  },
  {
   "cell_type": "code",
   "execution_count": 11,
   "metadata": {},
   "outputs": [
    {
     "data": {
      "text/plain": [
       "70"
      ]
     },
     "execution_count": 11,
     "metadata": {},
     "output_type": "execute_result"
    }
   ],
   "source": [
    "a(20)"
   ]
  },
  {
   "cell_type": "code",
   "execution_count": 13,
   "metadata": {},
   "outputs": [
    {
     "data": {
      "text/plain": [
       "[51, 52, 53]"
      ]
     },
     "execution_count": 13,
     "metadata": {},
     "output_type": "execute_result"
    }
   ],
   "source": [
    "list(map(a, [1, 2, 3]))"
   ]
  },
  {
   "cell_type": "code",
   "execution_count": 15,
   "metadata": {},
   "outputs": [
    {
     "name": "stdout",
     "output_type": "stream",
     "text": [
      "51\n",
      "52\n",
      "53\n"
     ]
    }
   ],
   "source": [
    "for i in [1, 2, 3]:\n",
    "    print(a(i))"
   ]
  },
  {
   "cell_type": "markdown",
   "metadata": {},
   "source": [
    "## boolean & fancy index"
   ]
  },
  {
   "cell_type": "code",
   "execution_count": 16,
   "metadata": {},
   "outputs": [
    {
     "data": {
      "text/plain": [
       "array([False,  True, False, False, False,  True,  True,  True])"
      ]
     },
     "execution_count": 16,
     "metadata": {},
     "output_type": "execute_result"
    }
   ],
   "source": [
    "test_array = np.array([1, 4, 0, 2, 3, 8, 9, 7], float)\n",
    "test_array > 3"
   ]
  },
  {
   "cell_type": "code",
   "execution_count": 25,
   "metadata": {},
   "outputs": [
    {
     "data": {
      "text/plain": [
       "array([4., 3., 8.])"
      ]
     },
     "execution_count": 25,
     "metadata": {},
     "output_type": "execute_result"
    }
   ],
   "source": [
    "test_array[np.array([False, True, False, False, True, True, False, False])]"
   ]
  },
  {
   "cell_type": "code",
   "execution_count": 24,
   "metadata": {},
   "outputs": [
    {
     "data": {
      "text/plain": [
       "array([4., 8., 9., 7.])"
      ]
     },
     "execution_count": 24,
     "metadata": {},
     "output_type": "execute_result"
    }
   ],
   "source": [
    "test_array[[(False,  True, False, False, False,  True,  True,  True)]]"
   ]
  },
  {
   "cell_type": "code",
   "execution_count": 17,
   "metadata": {},
   "outputs": [
    {
     "data": {
      "text/plain": [
       "array([4., 8., 9., 7.])"
      ]
     },
     "execution_count": 17,
     "metadata": {},
     "output_type": "execute_result"
    }
   ],
   "source": [
    "test_array[test_array > 3]"
   ]
  },
  {
   "cell_type": "code",
   "execution_count": 26,
   "metadata": {},
   "outputs": [
    {
     "data": {
      "text/plain": [
       "array([1., 0., 2.])"
      ]
     },
     "execution_count": 26,
     "metadata": {},
     "output_type": "execute_result"
    }
   ],
   "source": [
    "condition = test_array < 3\n",
    "test_array[condition]"
   ]
  },
  {
   "cell_type": "code",
   "execution_count": 27,
   "metadata": {},
   "outputs": [],
   "source": [
    "A = np.array([\n",
    "    [12 ,13, 14, 12 ,16, 14, 11, 10, 9],\n",
    "    [11, 14, 12, 15, 16, 10, 12, 11, 15],\n",
    "    [9,  11, 16, 13, 15, 12, 10, 12, 11],\n",
    "    [12, 15, 10 ,14, 14, 12, 16, 17, 11]\n",
    "])\n",
    "B = A < 15"
   ]
  },
  {
   "cell_type": "code",
   "execution_count": 28,
   "metadata": {},
   "outputs": [
    {
     "data": {
      "text/plain": [
       "array([[ True,  True,  True,  True, False,  True,  True,  True,  True],\n",
       "       [ True,  True,  True, False, False,  True,  True,  True, False],\n",
       "       [ True,  True, False,  True, False,  True,  True,  True,  True],\n",
       "       [ True, False,  True,  True,  True,  True, False, False,  True]])"
      ]
     },
     "execution_count": 28,
     "metadata": {},
     "output_type": "execute_result"
    }
   ],
   "source": [
    "B"
   ]
  },
  {
   "cell_type": "code",
   "execution_count": 29,
   "metadata": {},
   "outputs": [
    {
     "data": {
      "text/plain": [
       "array([[1, 1, 1, 1, 0, 1, 1, 1, 1],\n",
       "       [1, 1, 1, 0, 0, 1, 1, 1, 0],\n",
       "       [1, 1, 0, 1, 0, 1, 1, 1, 1],\n",
       "       [1, 0, 1, 1, 1, 1, 0, 0, 1]])"
      ]
     },
     "execution_count": 29,
     "metadata": {},
     "output_type": "execute_result"
    }
   ],
   "source": [
    "B.astype(np.int)  #astype: 배열의 타입을 바꿈. bool -> int (True:1, False: 0)"
   ]
  },
  {
   "cell_type": "code",
   "execution_count": 31,
   "metadata": {},
   "outputs": [
    {
     "data": {
      "text/plain": [
       "array([2., 2., 4., 8., 6., 4.])"
      ]
     },
     "execution_count": 31,
     "metadata": {},
     "output_type": "execute_result"
    }
   ],
   "source": [
    "a = np.array([2, 4, 6, 8], float)\n",
    "b = np.array([0, 0, 1, 3, 2, 1], int) # 반드시 integer로 선언!\n",
    "a[b]  # bracket index. b 배열의 값을 index로 하여 a의 값들을 추출."
   ]
  },
  {
   "cell_type": "markdown",
   "metadata": {},
   "source": [
    "## 예제"
   ]
  },
  {
   "cell_type": "code",
   "execution_count": 33,
   "metadata": {},
   "outputs": [
    {
     "data": {
      "text/plain": [
       "array([[ 1900., 30000.,  4000., 48300.],\n",
       "       [ 1901., 47200.,  6100., 48200.],\n",
       "       [ 1902., 70200.,  9800., 41500.],\n",
       "       [ 1903., 77400., 35200., 38200.],\n",
       "       [ 1904., 36300., 59400., 40600.],\n",
       "       [ 1905., 20600., 41700., 39800.],\n",
       "       [ 1906., 18100., 19000., 38600.],\n",
       "       [ 1907., 21400., 13000., 42300.],\n",
       "       [ 1908., 22000.,  8300., 44500.],\n",
       "       [ 1909., 25400.,  9100., 42100.],\n",
       "       [ 1910., 27100.,  7400., 46000.],\n",
       "       [ 1911., 40300.,  8000., 46800.],\n",
       "       [ 1912., 57000., 12300., 43800.],\n",
       "       [ 1913., 76600., 19500., 40900.],\n",
       "       [ 1914., 52300., 45700., 39400.],\n",
       "       [ 1915., 19500., 51100., 39000.],\n",
       "       [ 1916., 11200., 29700., 36700.],\n",
       "       [ 1917.,  7600., 15800., 41800.],\n",
       "       [ 1918., 14600.,  9700., 43300.],\n",
       "       [ 1919., 16200., 10100., 41300.],\n",
       "       [ 1920., 24700.,  8600., 47300.]])"
      ]
     },
     "execution_count": 33,
     "metadata": {},
     "output_type": "execute_result"
    }
   ],
   "source": [
    "a = np.loadtxt(\"./data/populations.txt\")\n",
    "a"
   ]
  },
  {
   "cell_type": "code",
   "execution_count": 35,
   "metadata": {},
   "outputs": [
    {
     "data": {
      "text/plain": [
       "array([[ 1900., 30000.,  4000., 48300.],\n",
       "       [ 1901., 47200.,  6100., 48200.],\n",
       "       [ 1902., 70200.,  9800., 41500.],\n",
       "       [ 1903., 77400., 35200., 38200.],\n",
       "       [ 1904., 36300., 59400., 40600.],\n",
       "       [ 1905., 20600., 41700., 39800.],\n",
       "       [ 1906., 18100., 19000., 38600.],\n",
       "       [ 1907., 21400., 13000., 42300.],\n",
       "       [ 1908., 22000.,  8300., 44500.],\n",
       "       [ 1909., 25400.,  9100., 42100.]])"
      ]
     },
     "execution_count": 35,
     "metadata": {},
     "output_type": "execute_result"
    }
   ],
   "source": [
    "a[:10] # 0~9 row"
   ]
  },
  {
   "cell_type": "code",
   "execution_count": 36,
   "metadata": {},
   "outputs": [
    {
     "data": {
      "text/plain": [
       "array([[ 1900, 30000,  4000, 48300],\n",
       "       [ 1901, 47200,  6100, 48200],\n",
       "       [ 1902, 70200,  9800, 41500]])"
      ]
     },
     "execution_count": 36,
     "metadata": {},
     "output_type": "execute_result"
    }
   ],
   "source": [
    "a_int = a.astype(int)\n",
    "a_int[:3]"
   ]
  },
  {
   "cell_type": "code",
   "execution_count": 37,
   "metadata": {},
   "outputs": [],
   "source": [
    "np.savetxt('int_data.csv', a_int, delimiter=',') # 파일 저장. delimiter 데이터와 데이터 사이 뭘로 구분?"
   ]
  },
  {
   "cell_type": "code",
   "execution_count": 38,
   "metadata": {},
   "outputs": [],
   "source": [
    "np.save(\"npy_test\", arr=a_int)"
   ]
  },
  {
   "cell_type": "code",
   "execution_count": 39,
   "metadata": {},
   "outputs": [],
   "source": [
    "npy_array = np.load(file=\"npy_test.npy\")"
   ]
  },
  {
   "cell_type": "code",
   "execution_count": 40,
   "metadata": {},
   "outputs": [
    {
     "data": {
      "text/plain": [
       "array([[ 1900, 30000,  4000, 48300],\n",
       "       [ 1901, 47200,  6100, 48200],\n",
       "       [ 1902, 70200,  9800, 41500]])"
      ]
     },
     "execution_count": 40,
     "metadata": {},
     "output_type": "execute_result"
    }
   ],
   "source": [
    "npy_array[:3]"
   ]
  },
  {
   "cell_type": "code",
   "execution_count": null,
   "metadata": {},
   "outputs": [],
   "source": []
  }
 ],
 "metadata": {
  "kernelspec": {
   "display_name": "Python 3",
   "language": "python",
   "name": "python3"
  },
  "language_info": {
   "codemirror_mode": {
    "name": "ipython",
    "version": 3
   },
   "file_extension": ".py",
   "mimetype": "text/x-python",
   "name": "python",
   "nbconvert_exporter": "python",
   "pygments_lexer": "ipython3",
   "version": "3.7.3"
  }
 },
 "nbformat": 4,
 "nbformat_minor": 2
}
