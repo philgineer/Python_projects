{
 "cells": [
  {
   "cell_type": "markdown",
   "metadata": {},
   "source": [
    "## RGB 색상코드 크롤링"
   ]
  },
  {
   "cell_type": "code",
   "execution_count": 10,
   "metadata": {},
   "outputs": [],
   "source": [
    "from selenium import webdriver\n",
    "import time\n",
    "from bs4 import BeautifulSoup"
   ]
  },
  {
   "cell_type": "code",
   "execution_count": 11,
   "metadata": {},
   "outputs": [],
   "source": [
    "browser = webdriver.Chrome(\"C:/python_edu/program/chromedriver.exe\")\n",
    "\n",
    "browser.get(\"http://www.w3schools.com/colors/colors_rgb.asp\")\n",
    "time.sleep(2)"
   ]
  },
  {
   "cell_type": "code",
   "execution_count": 12,
   "metadata": {},
   "outputs": [],
   "source": [
    "browser.find_element_by_css_selector('#r01').clear()"
   ]
  },
  {
   "cell_type": "code",
   "execution_count": 13,
   "metadata": {
    "scrolled": true
   },
   "outputs": [],
   "source": [
    "browser.find_element_by_css_selector('#r01').send_keys('255')\n",
    "browser.find_element_by_css_selector('#g01').send_keys('255')\n",
    "browser.find_element_by_css_selector('#b01').send_keys('255')"
   ]
  },
  {
   "cell_type": "code",
   "execution_count": 20,
   "metadata": {},
   "outputs": [],
   "source": [
    "html = browser.page_source\n",
    "soup = BeautifulSoup(html, 'html.parser')\n",
    "color = soup.find(\"div\", {\"id\":\"hex01\"}).text"
   ]
  },
  {
   "cell_type": "code",
   "execution_count": 22,
   "metadata": {},
   "outputs": [
    {
     "name": "stdout",
     "output_type": "stream",
     "text": [
      "#ffffff\n"
     ]
    }
   ],
   "source": [
    "print(color)"
   ]
  },
  {
   "cell_type": "code",
   "execution_count": null,
   "metadata": {},
   "outputs": [],
   "source": [
    "time.sleep(3)\n",
    "browser.quit()"
   ]
  },
  {
   "cell_type": "code",
   "execution_count": 30,
   "metadata": {},
   "outputs": [
    {
     "name": "stdout",
     "output_type": "stream",
     "text": [
      "R:100\n",
      "G:200\n",
      "B:300\n",
      "#64c8ff\n"
     ]
    }
   ],
   "source": [
    "def rgb_name():\n",
    "    r = input(\"R:\")\n",
    "    g = input(\"G:\")\n",
    "    b = input(\"B:\")\n",
    "    browser = webdriver.Chrome(\"C:/python_edu/program/chromedriver.exe\")\n",
    "    browser.get(\"http://www.w3schools.com/colors/colors_rgb.asp\")\n",
    "    time.sleep(2)\n",
    "    browser.find_element_by_css_selector('#r01').clear()\n",
    "    browser.find_element_by_css_selector('#r01').send_keys(r)\n",
    "    browser.find_element_by_css_selector('#g01').clear()\n",
    "    browser.find_element_by_css_selector('#g01').send_keys(g)\n",
    "    browser.find_element_by_css_selector('#b01').clear()\n",
    "    browser.find_element_by_css_selector('#b01').send_keys(b)\n",
    "    html = browser.page_source\n",
    "    soup = BeautifulSoup(html, 'html.parser')\n",
    "    color = soup.find(\"div\", {\"id\":\"hex01\"}).text\n",
    "    print(color)\n",
    "    time.sleep(3)\n",
    "    browser.quit()\n",
    "    \n",
    "rgb_name()"
   ]
  },
  {
   "cell_type": "markdown",
   "metadata": {},
   "source": [
    "## 로마 여행 정보 크롤링"
   ]
  },
  {
   "cell_type": "code",
   "execution_count": 1,
   "metadata": {},
   "outputs": [],
   "source": [
    "from selenium import webdriver\n",
    "from bs4 import BeautifulSoup\n",
    "from selenium.webdriver.common.by import By\n",
    "#명시적 대기를 위해\n",
    "from selenium.webdriver.support.ui import WebDriverWait\n",
    "from selenium.webdriver.support import expected_conditions as EC\n",
    "import time"
   ]
  },
  {
   "cell_type": "code",
   "execution_count": null,
   "metadata": {},
   "outputs": [],
   "source": [
    "main_url = \"http://tour.interpark.com/\""
   ]
  },
  {
   "cell_type": "code",
   "execution_count": null,
   "metadata": {},
   "outputs": [],
   "source": [
    "keyword = input(\"키워드 입력:\")"
   ]
  },
  {
   "cell_type": "code",
   "execution_count": 5,
   "metadata": {},
   "outputs": [],
   "source": [
    "driver = webdriver.Chrome(executable_path='C:/python_edu/program/chromedriver.exe')\n",
    "driver.get(main_url)"
   ]
  },
  {
   "cell_type": "code",
   "execution_count": 6,
   "metadata": {},
   "outputs": [],
   "source": [
    "driver.find_element_by_id(\"SearchGNBText\").send_keys(keyword)\n",
    "driver.find_element_by_class_name(\"search-btn\").click()\n",
    "time.sleep(5)"
   ]
  },
  {
   "cell_type": "code",
   "execution_count": 50,
   "metadata": {},
   "outputs": [
    {
     "name": "stdout",
     "output_type": "stream",
     "text": [
      "검색 결과: 총 8200 건\n"
     ]
    }
   ],
   "source": [
    "totalCount = driver.find_element_by_id(\"totalAllCnt\")\n",
    "totalCount = int(totalCount.text.replace(\",\",\"\"))\n",
    "print(\"검색 결과: 총\", totalCount, \"건\")"
   ]
  },
  {
   "cell_type": "code",
   "execution_count": 58,
   "metadata": {},
   "outputs": [
    {
     "name": "stdout",
     "output_type": "stream",
     "text": [
      "키워드 입력:파리\n",
      "[ 파리 ] 검색 결과: 총 6386 건\n"
     ]
    }
   ],
   "source": [
    "def interpark_travel_count():\n",
    "    keyword = input(\"키워드 입력:\")\n",
    "    main_url = \"http://tour.interpark.com/\"\n",
    "    driver = webdriver.Chrome(executable_path='C:/python_edu/program/chromedriver.exe')\n",
    "    driver.get(main_url)\n",
    "    driver.find_element_by_id(\"SearchGNBText\").send_keys(keyword)\n",
    "    driver.find_element_by_class_name(\"search-btn\").click()\n",
    "    time.sleep(5)\n",
    "    totalCount = driver.find_element_by_id(\"totalAllCnt\")\n",
    "    totalCount = int(totalCount.text.replace(\",\",\"\"))\n",
    "    time.sleep(3)\n",
    "    browser.quit()\n",
    "    print(\"[\",keyword, \"]\",\"검색 결과: 총\", totalCount, \"건\")\n",
    "    \n",
    "    \n",
    "interpark_travel_count()"
   ]
  },
  {
   "cell_type": "code",
   "execution_count": 71,
   "metadata": {},
   "outputs": [],
   "source": [
    "driver.find_element_by_css_selector('body > div.container > div > div > div.panelZone > div.oTravelBox > ul > li.moreBtnWrap > button.moreBtn').click()"
   ]
  },
  {
   "cell_type": "code",
   "execution_count": 73,
   "metadata": {
    "scrolled": true
   },
   "outputs": [
    {
     "ename": "NoSuchElementException",
     "evalue": "Message: no such element: Unable to locate element: {\"method\":\"css selector\",\"selector\":\".oTravelBox > .moreBtnWrap > .moreBtn\"}\n  (Session info: chrome=75.0.3770.100)\n  (Driver info: chromedriver=2.42.591088 (7b2b2dca23cca0862f674758c9a3933e685c27d5),platform=Windows NT 10.0.17763 x86_64)\n",
     "output_type": "error",
     "traceback": [
      "\u001b[1;31m---------------------------------------------------------------------------\u001b[0m",
      "\u001b[1;31mNoSuchElementException\u001b[0m                    Traceback (most recent call last)",
      "\u001b[1;32m<ipython-input-73-1adcaaae3408>\u001b[0m in \u001b[0;36m<module>\u001b[1;34m()\u001b[0m\n\u001b[1;32m----> 1\u001b[1;33m \u001b[0mdriver\u001b[0m\u001b[1;33m.\u001b[0m\u001b[0mfind_element_by_css_selector\u001b[0m\u001b[1;33m(\u001b[0m\u001b[1;34m'.oTravelBox > .moreBtnWrap > .moreBtn'\u001b[0m\u001b[1;33m)\u001b[0m\u001b[1;33m.\u001b[0m\u001b[0mclick\u001b[0m\u001b[1;33m(\u001b[0m\u001b[1;33m)\u001b[0m\u001b[1;33m\u001b[0m\u001b[0m\n\u001b[0m",
      "\u001b[1;32mC:\\ProgramData\\Anaconda3\\envs\\python_edu\\lib\\site-packages\\selenium\\webdriver\\remote\\webdriver.py\u001b[0m in \u001b[0;36mfind_element_by_css_selector\u001b[1;34m(self, css_selector)\u001b[0m\n\u001b[0;32m    596\u001b[0m             \u001b[0melement\u001b[0m \u001b[1;33m=\u001b[0m \u001b[0mdriver\u001b[0m\u001b[1;33m.\u001b[0m\u001b[0mfind_element_by_css_selector\u001b[0m\u001b[1;33m(\u001b[0m\u001b[1;34m'#foo'\u001b[0m\u001b[1;33m)\u001b[0m\u001b[1;33m\u001b[0m\u001b[0m\n\u001b[0;32m    597\u001b[0m         \"\"\"\n\u001b[1;32m--> 598\u001b[1;33m         \u001b[1;32mreturn\u001b[0m \u001b[0mself\u001b[0m\u001b[1;33m.\u001b[0m\u001b[0mfind_element\u001b[0m\u001b[1;33m(\u001b[0m\u001b[0mby\u001b[0m\u001b[1;33m=\u001b[0m\u001b[0mBy\u001b[0m\u001b[1;33m.\u001b[0m\u001b[0mCSS_SELECTOR\u001b[0m\u001b[1;33m,\u001b[0m \u001b[0mvalue\u001b[0m\u001b[1;33m=\u001b[0m\u001b[0mcss_selector\u001b[0m\u001b[1;33m)\u001b[0m\u001b[1;33m\u001b[0m\u001b[0m\n\u001b[0m\u001b[0;32m    599\u001b[0m \u001b[1;33m\u001b[0m\u001b[0m\n\u001b[0;32m    600\u001b[0m     \u001b[1;32mdef\u001b[0m \u001b[0mfind_elements_by_css_selector\u001b[0m\u001b[1;33m(\u001b[0m\u001b[0mself\u001b[0m\u001b[1;33m,\u001b[0m \u001b[0mcss_selector\u001b[0m\u001b[1;33m)\u001b[0m\u001b[1;33m:\u001b[0m\u001b[1;33m\u001b[0m\u001b[0m\n",
      "\u001b[1;32mC:\\ProgramData\\Anaconda3\\envs\\python_edu\\lib\\site-packages\\selenium\\webdriver\\remote\\webdriver.py\u001b[0m in \u001b[0;36mfind_element\u001b[1;34m(self, by, value)\u001b[0m\n\u001b[0;32m    976\u001b[0m         return self.execute(Command.FIND_ELEMENT, {\n\u001b[0;32m    977\u001b[0m             \u001b[1;34m'using'\u001b[0m\u001b[1;33m:\u001b[0m \u001b[0mby\u001b[0m\u001b[1;33m,\u001b[0m\u001b[1;33m\u001b[0m\u001b[0m\n\u001b[1;32m--> 978\u001b[1;33m             'value': value})['value']\n\u001b[0m\u001b[0;32m    979\u001b[0m \u001b[1;33m\u001b[0m\u001b[0m\n\u001b[0;32m    980\u001b[0m     \u001b[1;32mdef\u001b[0m \u001b[0mfind_elements\u001b[0m\u001b[1;33m(\u001b[0m\u001b[0mself\u001b[0m\u001b[1;33m,\u001b[0m \u001b[0mby\u001b[0m\u001b[1;33m=\u001b[0m\u001b[0mBy\u001b[0m\u001b[1;33m.\u001b[0m\u001b[0mID\u001b[0m\u001b[1;33m,\u001b[0m \u001b[0mvalue\u001b[0m\u001b[1;33m=\u001b[0m\u001b[1;32mNone\u001b[0m\u001b[1;33m)\u001b[0m\u001b[1;33m:\u001b[0m\u001b[1;33m\u001b[0m\u001b[0m\n",
      "\u001b[1;32mC:\\ProgramData\\Anaconda3\\envs\\python_edu\\lib\\site-packages\\selenium\\webdriver\\remote\\webdriver.py\u001b[0m in \u001b[0;36mexecute\u001b[1;34m(self, driver_command, params)\u001b[0m\n\u001b[0;32m    319\u001b[0m         \u001b[0mresponse\u001b[0m \u001b[1;33m=\u001b[0m \u001b[0mself\u001b[0m\u001b[1;33m.\u001b[0m\u001b[0mcommand_executor\u001b[0m\u001b[1;33m.\u001b[0m\u001b[0mexecute\u001b[0m\u001b[1;33m(\u001b[0m\u001b[0mdriver_command\u001b[0m\u001b[1;33m,\u001b[0m \u001b[0mparams\u001b[0m\u001b[1;33m)\u001b[0m\u001b[1;33m\u001b[0m\u001b[0m\n\u001b[0;32m    320\u001b[0m         \u001b[1;32mif\u001b[0m \u001b[0mresponse\u001b[0m\u001b[1;33m:\u001b[0m\u001b[1;33m\u001b[0m\u001b[0m\n\u001b[1;32m--> 321\u001b[1;33m             \u001b[0mself\u001b[0m\u001b[1;33m.\u001b[0m\u001b[0merror_handler\u001b[0m\u001b[1;33m.\u001b[0m\u001b[0mcheck_response\u001b[0m\u001b[1;33m(\u001b[0m\u001b[0mresponse\u001b[0m\u001b[1;33m)\u001b[0m\u001b[1;33m\u001b[0m\u001b[0m\n\u001b[0m\u001b[0;32m    322\u001b[0m             response['value'] = self._unwrap_value(\n\u001b[0;32m    323\u001b[0m                 response.get('value', None))\n",
      "\u001b[1;32mC:\\ProgramData\\Anaconda3\\envs\\python_edu\\lib\\site-packages\\selenium\\webdriver\\remote\\errorhandler.py\u001b[0m in \u001b[0;36mcheck_response\u001b[1;34m(self, response)\u001b[0m\n\u001b[0;32m    240\u001b[0m                 \u001b[0malert_text\u001b[0m \u001b[1;33m=\u001b[0m \u001b[0mvalue\u001b[0m\u001b[1;33m[\u001b[0m\u001b[1;34m'alert'\u001b[0m\u001b[1;33m]\u001b[0m\u001b[1;33m.\u001b[0m\u001b[0mget\u001b[0m\u001b[1;33m(\u001b[0m\u001b[1;34m'text'\u001b[0m\u001b[1;33m)\u001b[0m\u001b[1;33m\u001b[0m\u001b[0m\n\u001b[0;32m    241\u001b[0m             \u001b[1;32mraise\u001b[0m \u001b[0mexception_class\u001b[0m\u001b[1;33m(\u001b[0m\u001b[0mmessage\u001b[0m\u001b[1;33m,\u001b[0m \u001b[0mscreen\u001b[0m\u001b[1;33m,\u001b[0m \u001b[0mstacktrace\u001b[0m\u001b[1;33m,\u001b[0m \u001b[0malert_text\u001b[0m\u001b[1;33m)\u001b[0m\u001b[1;33m\u001b[0m\u001b[0m\n\u001b[1;32m--> 242\u001b[1;33m         \u001b[1;32mraise\u001b[0m \u001b[0mexception_class\u001b[0m\u001b[1;33m(\u001b[0m\u001b[0mmessage\u001b[0m\u001b[1;33m,\u001b[0m \u001b[0mscreen\u001b[0m\u001b[1;33m,\u001b[0m \u001b[0mstacktrace\u001b[0m\u001b[1;33m)\u001b[0m\u001b[1;33m\u001b[0m\u001b[0m\n\u001b[0m\u001b[0;32m    243\u001b[0m \u001b[1;33m\u001b[0m\u001b[0m\n\u001b[0;32m    244\u001b[0m     \u001b[1;32mdef\u001b[0m \u001b[0m_value_or_default\u001b[0m\u001b[1;33m(\u001b[0m\u001b[0mself\u001b[0m\u001b[1;33m,\u001b[0m \u001b[0mobj\u001b[0m\u001b[1;33m,\u001b[0m \u001b[0mkey\u001b[0m\u001b[1;33m,\u001b[0m \u001b[0mdefault\u001b[0m\u001b[1;33m)\u001b[0m\u001b[1;33m:\u001b[0m\u001b[1;33m\u001b[0m\u001b[0m\n",
      "\u001b[1;31mNoSuchElementException\u001b[0m: Message: no such element: Unable to locate element: {\"method\":\"css selector\",\"selector\":\".oTravelBox > .moreBtnWrap > .moreBtn\"}\n  (Session info: chrome=75.0.3770.100)\n  (Driver info: chromedriver=2.42.591088 (7b2b2dca23cca0862f674758c9a3933e685c27d5),platform=Windows NT 10.0.17763 x86_64)\n"
     ]
    }
   ],
   "source": [
    "driver.find_element_by_css_selector('.oTravelBox > .moreBtnWrap > .moreBtn').click()"
   ]
  },
  {
   "cell_type": "code",
   "execution_count": 7,
   "metadata": {},
   "outputs": [],
   "source": [
    "driver.find_element_by_css_selector(\"body > div.container > div > div > div.panelZone > div.oTravelBox > ul > li.moreBtnWrap > button\").click()"
   ]
  },
  {
   "cell_type": "code",
   "execution_count": 8,
   "metadata": {},
   "outputs": [
    {
     "name": "stdout",
     "output_type": "stream",
     "text": [
      "[ 파리 ] '해외여행' 검색 결과: 198 건\n"
     ]
    }
   ],
   "source": [
    "time.sleep(5)\n",
    "totalCount = driver.find_element_by_css_selector('#totalAllCnt')\n",
    "totalCount = int(totalCount.text.replace(\",\",\"\"))\n",
    "print(\"[\", keyword, \"]\", \"'해외여행'\" \" 검색 결과:\", totalCount, \"건\")"
   ]
  },
  {
   "cell_type": "code",
   "execution_count": 9,
   "metadata": {},
   "outputs": [
    {
     "data": {
      "text/plain": [
       "20"
      ]
     },
     "execution_count": 9,
     "metadata": {},
     "output_type": "execute_result"
    }
   ],
   "source": [
    "totalPage = (totalCount//10) + 1\n",
    "totalPage"
   ]
  },
  {
   "cell_type": "code",
   "execution_count": 10,
   "metadata": {},
   "outputs": [
    {
     "name": "stdout",
     "output_type": "stream",
     "text": [
      "1 페이지 이동\n",
      "2 페이지 이동\n",
      "3 페이지 이동\n",
      "4 페이지 이동\n",
      "5 페이지 이동\n",
      "6 페이지 이동\n",
      "7 페이지 이동\n",
      "8 페이지 이동\n",
      "9 페이지 이동\n",
      "10 페이지 이동\n",
      "11 페이지 이동\n",
      "12 페이지 이동\n",
      "13 페이지 이동\n",
      "14 페이지 이동\n",
      "15 페이지 이동\n",
      "16 페이지 이동\n",
      "17 페이지 이동\n",
      "18 페이지 이동\n",
      "19 페이지 이동\n",
      "20 페이지 이동\n"
     ]
    }
   ],
   "source": [
    "for page in range(1, totalPage+1):\n",
    "    try:\n",
    "        #자바스크립트 구동하기\n",
    "        driver.execute_script(\"searchModule.SetCategoryList(%s, '')\" % page)\n",
    "        time.sleep(2)\n",
    "        print(\"%s 페이지 이동\" % page)\n",
    "        \n",
    "    except Exception as e1:\n",
    "        print('오류', e1)"
   ]
  },
  {
   "cell_type": "code",
   "execution_count": 21,
   "metadata": {},
   "outputs": [
    {
     "name": "stdout",
     "output_type": "stream",
     "text": [
      "1 페이지 이동\n",
      "http://tourimage.interpark.com/product/tour/00161/A30/280/A3014954_16_830.jpg searchModule.OnClickDetail('http://tour.interpark.com/goods/detail/?BaseGoodsCd=A3014954','') [홈앤쇼핑]서유럽3국8일+스위스뮈렌/남부이태리★로마호텔2박UP\n",
      "2 페이지 이동\n",
      "http://tourimage.interpark.com/product/tour/00161/B30/280/B3010819_14_390.jpg searchModule.OnClickDetail('http://tour.interpark.com/goods/detail/?BaseGoodsCd=B3010819','') [BEST&BASIC] 런던+파리 자유여행 7일\n"
     ]
    }
   ],
   "source": [
    "for page in range(1, 3):\n",
    "    try:\n",
    "        #자바스크립트 구동하기\n",
    "        driver.execute_script(\"searchModule.SetCategoryList(%s, '')\" % page)\n",
    "        time.sleep(2)\n",
    "        print(\"%s 페이지 이동\" % page)\n",
    "        \n",
    "        # 여러 개니까 element 아닌 elements 주의!\n",
    "        boxItems = driver.find_elements_by_css_selector('body > div.container > div > div > div.panelZone > div.oTravelBox > ul > li:nth-child(1)')\n",
    "        for li in boxItems:\n",
    "            img = li.find_element_by_css_selector('img').get_attribute('src')\n",
    "            link = li.find_element_by_css_selector('a').get_attribute('onclick')\n",
    "            title = li.find_element_by_css_selector('h5.proTit').text\n",
    "            \n",
    "            print(img, link, title)\n",
    "        \n",
    "    except Exception as e1:\n",
    "        print('오류', e1)"
   ]
  },
  {
   "cell_type": "code",
   "execution_count": 22,
   "metadata": {},
   "outputs": [],
   "source": []
  },
  {
   "cell_type": "code",
   "execution_count": 25,
   "metadata": {},
   "outputs": [
    {
     "data": {
      "text/plain": [
       "('C:/python_edu/tour_img/01.jpg', <http.client.HTTPMessage at 0x1b8201dd668>)"
      ]
     },
     "execution_count": 25,
     "metadata": {},
     "output_type": "execute_result"
    }
   ],
   "source": [
    "# urllib.request.urlretrieve(다운로드할 파일 url, 저장할 주소C:/)\n",
    "\n",
    "import urllib.request\n",
    "urllib.request.urlretrieve(\"http://tourimage.interpark.com/product/tour/00161/A30/280/A3014954_16_830.jpg\",\n",
    "                           \"C:/python_edu/tour_img/01.jpg\")"
   ]
  },
  {
   "cell_type": "code",
   "execution_count": 1,
   "metadata": {},
   "outputs": [],
   "source": [
    "from selenium import webdriver\n",
    "from bs4 import BeautifulSoup\n",
    "from selenium.webdriver.common.by import By\n",
    "#명시적 대기를 위해\n",
    "from selenium.webdriver.support.ui import WebDriverWait\n",
    "from selenium.webdriver.support import expected_conditions as EC\n",
    "import time\n",
    "import urllib.request"
   ]
  },
  {
   "cell_type": "code",
   "execution_count": 5,
   "metadata": {},
   "outputs": [],
   "source": [
    "def interpark():\n",
    "    keyword = input(\"키워드 입력:\")\n",
    "    main_url = \"http://tour.interpark.com/\"\n",
    "    driver = webdriver.Chrome(executable_path='C:/python_edu/program/chromedriver.exe')\n",
    "    driver.get(main_url)\n",
    "    driver.find_element_by_id(\"SearchGNBText\").send_keys(keyword)\n",
    "    driver.find_element_by_class_name(\"search-btn\").click()\n",
    "    time.sleep(5)\n",
    "    totalCount = driver.find_element_by_id(\"totalAllCnt\")\n",
    "    totalCount = int(totalCount.text.replace(\",\",\"\"))\n",
    "    time.sleep(3)\n",
    "    print(\"[\",keyword, \"]\",\"검색 결과: 총\", totalCount, \"건\")\n",
    "    driver.find_element_by_css_selector(\"body > div.container > div > div > div.panelZone > div.oTravelBox > ul > li.moreBtnWrap > button\").click()\n",
    "    \n",
    "    for page in range(1, 3):\n",
    "        try:\n",
    "            #자바스크립트 구동하기\n",
    "            driver.execute_script(\"searchModule.SetCategoryList(%s, '')\" % page)\n",
    "            time.sleep(2)\n",
    "            print(\"%s 페이지 이동\" % page)\n",
    "\n",
    "            # 여러 개니까 element 아닌 elements 주의!\n",
    "            boxItems = driver.find_elements_by_css_selector('body > div.container > div > div > div.panelZone > div.oTravelBox > ul > li')\n",
    "            for li in boxItems:\n",
    "                img = li.find_element_by_css_selector('img').get_attribute('src')\n",
    "                link = li.find_element_by_css_selector('a').get_attribute('onclick')\n",
    "                title = li.find_element_by_css_selector('h5.proTit').text\n",
    "                title = title.replace(\"/\",\"\").replace(\":\", \"\")\n",
    "                urllib.request.urlretrieve(img,\"C:/python_edu/tour_img/%s.jpg\" %(title))\n",
    "                print(img, link, title)\n",
    "\n",
    "        except Exception as e1:\n",
    "            print('오류', e1)"
   ]
  },
  {
   "cell_type": "code",
   "execution_count": 6,
   "metadata": {},
   "outputs": [
    {
     "name": "stdout",
     "output_type": "stream",
     "text": [
      "키워드 입력:로마\n",
      "[ 로마 ] 검색 결과: 총 8200 건\n",
      "1 페이지 이동\n",
      "http://tourimage.interpark.com/product/tour/00161/B30/280/B3010708_1_980.jpg searchModule.OnClickDetail('http://tour.interpark.com/goods/detail/?BaseGoodsCd=B3010708','') [ONE CITY] 로마 자유여행 5일6일\n",
      "http://tourimage.interpark.com/product/tour/00161/B30/280/B3011455_9_663.jpg searchModule.OnClickDetail('http://tour.interpark.com/goods/detail/?BaseGoodsCd=B3011455','') Bon Appetit! 로마 자유여행 6일♥바티칸투어♥\n",
      "http://tourimage.interpark.com/product/tour/00161/B30/280/B3011862_3_510.jpg searchModule.OnClickDetail('http://tour.interpark.com/goods/detail/?BaseGoodsCd=B3011862','') [반반한유럽] 로마 세미팩 7일\n",
      "http://tourimage.interpark.com/product/tour/00161/D30/280/D3010405_1_680.jpg searchModule.OnClickDetail('http://tour.interpark.com/goods/detail/?BaseGoodsCd=D3010405','') L.o.v.e. I.n 스위스 ♥이탈리아 자유허니문 8일\n",
      "http://tourimage.interpark.com/product/tour/00161/A30/280/A3014954_16_830.jpg searchModule.OnClickDetail('http://tour.interpark.com/goods/detail/?BaseGoodsCd=A3014954','') [홈앤쇼핑]서유럽3국8일+스위스뮈렌남부이태리★로마호텔2박UP\n",
      "http://tourimage.interpark.com/product/tour/00161/A30/280/A3016024_3_523.jpg searchModule.OnClickDetail('http://tour.interpark.com/goods/detail/?BaseGoodsCd=A3016024','') [5%청구할인PACK EASY] 1급호텔 스위스반나절+로마1DAY 자유 9일\n",
      "http://tourimage.interpark.com/product/tour/00161/A30/280/A3015020_1_863.jpg searchModule.OnClickDetail('http://tour.interpark.com/goods/detail/?BaseGoodsCd=A3015020','') [5%청구할인]서유럽4국10일리기산+로마 아울렛\n",
      "http://tourimage.interpark.com/product/tour/00161/A30/280/A3014885_6_153.jpg searchModule.OnClickDetail('http://tour.interpark.com/goods/detail/?BaseGoodsCd=A3014885','') [이탈리아항공]로마직항+이태리일주 8일+친퀘테레베로나\n",
      "http://tourimage.interpark.com/product/tour/00161/A30/280/A3012709_8_003.jpg searchModule.OnClickDetail('http://tour.interpark.com/goods/detail/?BaseGoodsCd=A3012709','') [A380★두바이]서유럽4국10일쉴트호른+로마 아울렛\n",
      "http://tourimage.interpark.com/product/tour/00161/A30/280/A3012938_13_633.jpg searchModule.OnClickDetail('http://tour.interpark.com/goods/detail/?BaseGoodsCd=A3012938','') [혼자도 괜찮아★4국10일]아시아나항공+로마야간투어포함\n",
      "2 페이지 이동\n",
      "http://tourimage.interpark.com/product/tour/00161/A30/280/A3014578_4_600.jpg searchModule.OnClickDetail('http://tour.interpark.com/goods/detail/?BaseGoodsCd=A3014578','') ■5%청구할인전일정1급■융프라우&툰호수+체르마트 스위스이탈리아 9일\n",
      "http://tourimage.interpark.com/product/tour/00161/A30/280/A3014240_8_847.jpg searchModule.OnClickDetail('http://tour.interpark.com/goods/detail/?BaseGoodsCd=A3014240','') [731,87,13,23,28★두바이]서유럽4국10일리기산+로마 아울렛\n",
      "http://tourimage.interpark.com/product/tour/00161/A30/280/A3015058_2_740.jpg searchModule.OnClickDetail('http://tour.interpark.com/goods/detail/?BaseGoodsCd=A3015058','') ■이태리+그리스 8일■그리스로마신화 로마&아테네수니온곶메테오라\n",
      "http://tourimage.interpark.com/product/tour/00161/A30/280/A3014962_1_000.jpg searchModule.OnClickDetail('http://tour.interpark.com/goods/detail/?BaseGoodsCd=A3014962','') [726,30,86,9]이탈리아완전일주 8일_로마직항\n",
      "http://tourimage.interpark.com/product/tour/00161/A30/280/A3014599_15_970.jpg searchModule.OnClickDetail('http://tour.interpark.com/goods/detail/?BaseGoodsCd=A3014599','') [로마직항★이태리아울렛]서유럽3국8일_뮈렌+2대박물관\n",
      "http://tourimage.interpark.com/product/tour/00161/A30/280/A3014588_6_650.jpg searchModule.OnClickDetail('http://tour.interpark.com/goods/detail/?BaseGoodsCd=A3014588','') [로마직항] 이탈리아 일주 9일_시르미오네나폼쏘\n",
      "http://tourimage.interpark.com/product/tour/00161/A30/280/A3015737_16_387.jpg searchModule.OnClickDetail('http://tour.interpark.com/goods/detail/?BaseGoodsCd=A3015737','') [PACK EASY] 로마직항 이탈리아 8일_로마 자유관광\n",
      "http://tourimage.interpark.com/product/tour/00161/A30/280/A3014245_11_137.jpg searchModule.OnClickDetail('http://tour.interpark.com/goods/detail/?BaseGoodsCd=A3014245','') [아시아나로마야경]서유럽3국+9대특식융프라우 9일\n",
      "http://tourimage.interpark.com/product/tour/00161/B30/280/B3010067_7_920.jpg searchModule.OnClickDetail('http://tour.interpark.com/goods/detail/?BaseGoodsCd=B3010067','') 런던  로마  파리 9일\n",
      "http://tourimage.interpark.com/product/tour/00161/B30/280/B3011059_3_300.jpg searchModule.OnClickDetail('http://tour.interpark.com/goods/detail/?BaseGoodsCd=B3011059','') 로마  피렌체 베니스 7일\n"
     ]
    }
   ],
   "source": [
    "interpark()"
   ]
  },
  {
   "cell_type": "code",
   "execution_count": null,
   "metadata": {},
   "outputs": [],
   "source": [
    "tour_list = []"
   ]
  },
  {
   "cell_type": "code",
   "execution_count": 64,
   "metadata": {},
   "outputs": [
    {
     "data": {
      "text/plain": [
       "'jpg'"
      ]
     },
     "execution_count": 64,
     "metadata": {},
     "output_type": "execute_result"
    }
   ],
   "source": [
    "a = \"sdfkls.djf..sd/.jfis.d.s/djfi.jpg\"\n",
    "a.split(\".\")[-1]"
   ]
  },
  {
   "cell_type": "code",
   "execution_count": 65,
   "metadata": {},
   "outputs": [
    {
     "ename": "NameError",
     "evalue": "name 'tour_list' is not defined",
     "output_type": "error",
     "traceback": [
      "\u001b[1;31m---------------------------------------------------------------------------\u001b[0m",
      "\u001b[1;31mNameError\u001b[0m                                 Traceback (most recent call last)",
      "\u001b[1;32m<ipython-input-65-7ce7f9b82402>\u001b[0m in \u001b[0;36m<module>\u001b[1;34m()\u001b[0m\n\u001b[1;32m----> 1\u001b[1;33m \u001b[0mimg_name\u001b[0m \u001b[1;33m=\u001b[0m \u001b[0mtour_list\u001b[0m\u001b[1;33m[\u001b[0m\u001b[1;36m0\u001b[0m\u001b[1;33m]\u001b[0m\u001b[1;33m.\u001b[0m\u001b[0mimg\u001b[0m\u001b[1;33m.\u001b[0m\u001b[0msplit\u001b[0m\u001b[1;33m(\u001b[0m\u001b[1;34m\"/\"\u001b[0m\u001b[1;33m)\u001b[0m\u001b[1;33m[\u001b[0m\u001b[1;33m-\u001b[0m\u001b[1;36m1\u001b[0m\u001b[1;33m]\u001b[0m\u001b[1;33m\u001b[0m\u001b[0m\n\u001b[0m",
      "\u001b[1;31mNameError\u001b[0m: name 'tour_list' is not defined"
     ]
    }
   ],
   "source": [
    "img_name = tour_list[0].img.split(\"/\")[-1]"
   ]
  },
  {
   "cell_type": "code",
   "execution_count": 66,
   "metadata": {},
   "outputs": [],
   "source": [
    "# 상품 정보를 담는 클래스\n",
    "# VO(View Object): 연관된 정보들을 변수들에 저장"
   ]
  },
  {
   "cell_type": "code",
   "execution_count": 7,
   "metadata": {},
   "outputs": [],
   "source": [
    "class TourInfo:         # 클래스: 붕어빵 틀\n",
    "    # 맴버변수 (실제 컬럼보다는 작게 세팅함)\n",
    "    title = ''\n",
    "    price = ''\n",
    "    info = ''\n",
    "    link = ''\n",
    "    img = ''\n",
    "    contents = ''\n",
    "    # 생성자\n",
    "    # __init__ : 자동 실행 (아무도 안불렀는데)\n",
    "    # (self : (객체 자신의 주소) 자동 값 저장\n",
    "    def __init__(self, title, price, info, link, img, contents=None):\n",
    "        self.title = title   # self에 자신의 주소 들어있음.\n",
    "        self.price = price   # 메모리 @@번지에 있는 객체의 price 변수\n",
    "        self.info = info\n",
    "        self.link = link\n",
    "        self.img = img\n",
    "        self.contents = contents\n",
    "        \n",
    "        \n",
    "tour_list = []"
   ]
  },
  {
   "cell_type": "code",
   "execution_count": null,
   "metadata": {},
   "outputs": [],
   "source": [
    "\n",
    "\n",
    "for page in range(1, 3):\n",
    "        try:\n",
    "            #자바스크립트 구동하기\n",
    "            driver.execute_script(\"searchModule.SetCategoryList(%s, '')\" % page)\n",
    "            time.sleep(2)\n",
    "            print(\"%s 페이지 이동\" % page)\n",
    "\n",
    "            # 여러 개니까 element 아닌 elements 주의!\n",
    "            boxItems = driver.find_elements_by_css_selector('body > div.container > div > div > div.panelZone > div.oTravelBox > ul > li')\n",
    "            for li in boxItems:\n",
    "                img = li.find_element_by_css_selector('img').get_attribute('src')\n",
    "                link = li.find_element_by_css_selector('a').get_attribute('onclick')\n",
    "                title = li.find_element_by_css_selector('h5.proTit').text\n",
    "                title = title.replace(\"/\",\"\").replace(\":\", \"\")\n",
    "                urllib.request.urlretrieve(img,\"C:/python_edu/tour_img/%s.jpg\" %(title))\n",
    "                print(img, link, title)\n",
    "                \n",
    "                obj = TourInfo(title, price, info, link, img)\n",
    "                tour_list.append(obj)\n",
    "\n",
    "        except Exception as e1:\n",
    "            print('오류', e1)"
   ]
  },
  {
   "cell_type": "code",
   "execution_count": 19,
   "metadata": {},
   "outputs": [],
   "source": [
    "class i:\n",
    "    a = \"\"\n",
    "    b = \"\"\n",
    "    \n",
    "    def __init__(self, a, b):\n",
    "        print(\"객체 만든다\")\n",
    "        print(\"self:\", self)\n",
    "        print(\"a:\", a)\n",
    "        print(\"self.a:\", self.a)\n",
    "        print(\"b:\", b)\n",
    "        print(\"self.b:\", self.b)"
   ]
  },
  {
   "cell_type": "code",
   "execution_count": 24,
   "metadata": {},
   "outputs": [
    {
     "data": {
      "text/plain": [
       "<__main__.i at 0x126bd5c2908>"
      ]
     },
     "execution_count": 24,
     "metadata": {},
     "output_type": "execute_result"
    }
   ],
   "source": [
    "obj1 = i(\"제목1\", \"가격1\")\n",
    "obj1"
   ]
  },
  {
   "cell_type": "code",
   "execution_count": 33,
   "metadata": {},
   "outputs": [],
   "source": [
    "MMM = []\n",
    "class M:\n",
    "    a = \"\"\n",
    "    b = \"\"\n",
    "    \n",
    "    def __init__(self, a, b):\n",
    "        self.a = a\n",
    "        self.b = b"
   ]
  },
  {
   "cell_type": "code",
   "execution_count": 34,
   "metadata": {},
   "outputs": [],
   "source": [
    "for i in range(10):\n",
    "    obj = M(\"제목\", \"가격\")\n",
    "    MMM.append(obj)"
   ]
  },
  {
   "cell_type": "code",
   "execution_count": null,
   "metadata": {},
   "outputs": [],
   "source": []
  },
  {
   "cell_type": "code",
   "execution_count": 37,
   "metadata": {
    "scrolled": true
   },
   "outputs": [
    {
     "data": {
      "text/plain": [
       "'제목'"
      ]
     },
     "execution_count": 37,
     "metadata": {},
     "output_type": "execute_result"
    }
   ],
   "source": [
    "MMM[0].a"
   ]
  },
  {
   "cell_type": "code",
   "execution_count": 38,
   "metadata": {},
   "outputs": [
    {
     "data": {
      "text/plain": [
       "'제목'"
      ]
     },
     "execution_count": 38,
     "metadata": {},
     "output_type": "execute_result"
    }
   ],
   "source": [
    "MMM[1].a"
   ]
  },
  {
   "cell_type": "code",
   "execution_count": 40,
   "metadata": {},
   "outputs": [
    {
     "data": {
      "text/plain": [
       "'가격'"
      ]
     },
     "execution_count": 40,
     "metadata": {},
     "output_type": "execute_result"
    }
   ],
   "source": [
    "MMM[2].b"
   ]
  },
  {
   "cell_type": "code",
   "execution_count": 43,
   "metadata": {},
   "outputs": [
    {
     "name": "stdout",
     "output_type": "stream",
     "text": [
      "제목\n",
      "가격\n",
      "---\n",
      "제목\n",
      "가격\n",
      "---\n",
      "제목\n",
      "가격\n",
      "---\n",
      "제목\n",
      "가격\n",
      "---\n",
      "제목\n",
      "가격\n",
      "---\n",
      "제목\n",
      "가격\n",
      "---\n",
      "제목\n",
      "가격\n",
      "---\n",
      "제목\n",
      "가격\n",
      "---\n",
      "제목\n",
      "가격\n",
      "---\n",
      "제목\n",
      "가격\n",
      "---\n"
     ]
    }
   ],
   "source": [
    "for i in range(10):\n",
    "    print(MMM[i].a)\n",
    "    print(MMM[i].b)\n",
    "    print(\"---\")"
   ]
  },
  {
   "cell_type": "code",
   "execution_count": 46,
   "metadata": {},
   "outputs": [],
   "source": [
    "class TourInfo:         # 클래스: 붕어빵 틀\n",
    "    # 맴버변수 (실제 컬럼보다는 작게 세팅함)\n",
    "    title = ''\n",
    "    price = ''\n",
    "    info = ''\n",
    "    link = ''\n",
    "    img = ''\n",
    "    contents = ''\n",
    "    # 생성자\n",
    "    # __init__ : 자동 실행 (아무도 안불렀는데)\n",
    "    # (self : (객체 자신의 주소) 자동 값 저장\n",
    "    def __init__(self, title, link, img, contents=None):\n",
    "        self.title = title   # self에 자신의 주소 들어있\n",
    "        self.link = link\n",
    "        self.img = img\n",
    "        self.contents = contents       \n",
    "        \n",
    "tour_list = []\n",
    "\n",
    "def interpark():\n",
    "    keyword = input(\"키워드 입력:\")\n",
    "    main_url = \"http://tour.interpark.com/\"\n",
    "    driver = webdriver.Chrome(executable_path='C:/python_edu/program/chromedriver.exe')\n",
    "    driver.get(main_url)\n",
    "    driver.find_element_by_id(\"SearchGNBText\").send_keys(keyword)\n",
    "    driver.find_element_by_class_name(\"search-btn\").click()\n",
    "    time.sleep(5)\n",
    "    totalCount = driver.find_element_by_id(\"totalAllCnt\")\n",
    "    totalCount = int(totalCount.text.replace(\",\",\"\"))\n",
    "    time.sleep(3)\n",
    "    print(\"[\",keyword, \"]\",\"검색 결과: 총\", totalCount, \"건\")\n",
    "    driver.find_element_by_css_selector(\"body > div.container > div > div > div.panelZone > div.oTravelBox > ul > li.moreBtnWrap > button\").click()\n",
    "    \n",
    "    \n",
    "    \n",
    "    for page in range(1, 3):\n",
    "        try:\n",
    "            #자바스크립트 구동하기\n",
    "            driver.execute_script(\"searchModule.SetCategoryList(%s, '')\" % page)\n",
    "            time.sleep(2)\n",
    "            print(\"%s 페이지 이동\" % page)\n",
    "\n",
    "            # 여러 개니까 element 아닌 elements 주의!\n",
    "            boxItems = driver.find_elements_by_css_selector('body > div.container > div > div > div.panelZone > div.oTravelBox > ul > li')\n",
    "            for li in boxItems:\n",
    "                img = li.find_element_by_css_selector('img').get_attribute('src')\n",
    "                link = li.find_element_by_css_selector('a').get_attribute('onclick')\n",
    "                title = li.find_element_by_css_selector('h5.proTit').text\n",
    "                title = title.replace(\"/\",\"\").replace(\":\", \"\")\n",
    "                urllib.request.urlretrieve(img,\"C:/python_edu/tour_img/%s.jpg\" %(title))\n",
    "                print(img, link, title)\n",
    "                \n",
    "                \n",
    "                obj = TourInfo(title, link, img)\n",
    "                tour_list.append(obj)\n",
    "                \n",
    "        except Exception as e1:\n",
    "            print('오류', e1)"
   ]
  },
  {
   "cell_type": "code",
   "execution_count": 47,
   "metadata": {},
   "outputs": [
    {
     "name": "stdout",
     "output_type": "stream",
     "text": [
      "키워드 입력:하와이\n",
      "[ 하와이 ] 검색 결과: 총 1611 건\n",
      "1 페이지 이동\n",
      "http://tourimage.interpark.com/product/tour/00161/A20/280/A2011427_2_343.JPG searchModule.OnClickDetail('http://tour.interpark.com/goods/detail/?BaseGoodsCd=A2011427','') 하와이 세미패키지 6일\n",
      "http://tourimage.interpark.com/product/tour/00161/D20/280/D2010232_1_657.png searchModule.OnClickDetail('http://tour.interpark.com/goods/detail/?BaseGoodsCd=D2010232','') [하와이 허니문]마우이2박+오아후3박 5박7일\n",
      "http://tourimage.interpark.com/product/tour/00161/B20/280/B2010441_9_660.jpg searchModule.OnClickDetail('http://tour.interpark.com/goods/detail/?BaseGoodsCd=B2010441','') [아시아나항공] 하와이 실속 에어텔 6일\n",
      "http://tourimage.interpark.com/product/tour/00161/D20/280/D2010275_1_810.jpg searchModule.OnClickDetail('http://tour.interpark.com/goods/detail/?BaseGoodsCd=D2010275','') [하와이] 프리스타일 turn up! 4박6일 (자유)  HA항공 ♥♣\n",
      "http://tourimage.interpark.com/product/tour/00161/D20/280/D2010239_1_923.png searchModule.OnClickDetail('http://tour.interpark.com/goods/detail/?BaseGoodsCd=D2010239','') [하와이 허니문]빅아일랜드2박+오아후3박 5박7일\n",
      "http://tourimage.interpark.com/product/tour/00161/D20/280/D2010770_1_110.jpg searchModule.OnClickDetail('http://tour.interpark.com/goods/detail/?BaseGoodsCd=D2010770','') [하와이♥심플패키지] 힐튼 하와이안 빌리지 5박7일\n",
      "http://tourimage.interpark.com/product/tour/00161/A20/280/A2013595_1_703.jpg searchModule.OnClickDetail('http://tour.interpark.com/goods/detail/?BaseGoodsCd=A2013595','') [관광+휴양] 하와이 세미패키지 7일\n",
      "http://tourimage.interpark.com/product/tour/00161/B20/280/B2011035_11_197.jpg searchModule.OnClickDetail('http://tour.interpark.com/goods/detail/?BaseGoodsCd=B2011035','') 《이웃섬투어포함》하와이 알찬패키지 6일\n",
      "http://tourimage.interpark.com/product/tour/00161/D20/280/D2010242_12_343.JPG searchModule.OnClickDetail('http://tour.interpark.com/goods/detail/?BaseGoodsCd=D2010242','') [하와이] 판타스틱4 - 4 가지 특별한 혜택  HA항공 ★\n",
      "http://tourimage.interpark.com/product/tour/00161/A20/280/A2012701_5_110.jpg searchModule.OnClickDetail('http://tour.interpark.com/goods/detail/?BaseGoodsCd=A2012701','') [진에어패키지] 하와이 민속촌 투어 포함 6일\n",
      "2 페이지 이동\n",
      "http://tourimage.interpark.com/product/tour/00161/D20/280/D2010778_1_200.jpg searchModule.OnClickDetail('http://tour.interpark.com/goods/detail/?BaseGoodsCd=D2010778','') [하와이★반자유] 하얏트 플레이스 5박7일\n",
      "http://tourimage.interpark.com/product/tour/00161/A20/280/A2012542_4_343.jpg searchModule.OnClickDetail('http://tour.interpark.com/goods/detail/?BaseGoodsCd=A2012542','') [부산]하와이 세미패키지(오하우시내+섬일주포함) 자유 6일\n",
      "http://tourimage.interpark.com/product/tour/00161/D20/280/D2010236_13_447.jpg searchModule.OnClickDetail('http://tour.interpark.com/goods/detail/?BaseGoodsCd=D2010236','') [하와이] 시내관광+렌트카 5박7일  HA항공 ♣\n",
      "http://tourimage.interpark.com/product/tour/00161/B20/280/B2010943_6_917.jpg searchModule.OnClickDetail('http://tour.interpark.com/goods/detail/?BaseGoodsCd=B2010943','') [랜터카48시간포함] 하와이 자유여행 6일\n",
      "http://tourimage.interpark.com/product/tour/00161/D20/280/D2010369_7_633.jpg searchModule.OnClickDetail('http://tour.interpark.com/goods/detail/?BaseGoodsCd=D2010369','') [하와이] 식스팩. 하와이를 누리는 6가지 특별한 방법  HA항공 ★\n",
      "http://tourimage.interpark.com/product/tour/00161/B20/280/B2010949_7_180.jpg searchModule.OnClickDetail('http://tour.interpark.com/goods/detail/?BaseGoodsCd=B2010949','') 하와이 진에어 자유여행 6일\n",
      "http://tourimage.interpark.com/product/tour/00161/A20/280/A2012385_6_310.jpg searchModule.OnClickDetail('http://tour.interpark.com/goods/detail/?BaseGoodsCd=A2012385','') [이웃섬투어포함] 하와이 효도패키지 6일\n",
      "http://tourimage.interpark.com/product/tour/00161/D20/280/D2010408_2_720.JPG searchModule.OnClickDetail('http://tour.interpark.com/goods/detail/?BaseGoodsCd=D2010408','') [하와이] 럭셔리 풀패키지 5박 7일  HA항공 ♥\n",
      "http://tourimage.interpark.com/product/tour/00161/D20/280/D2010325_6_350.JPG searchModule.OnClickDetail('http://tour.interpark.com/goods/detail/?BaseGoodsCd=D2010325','') [하와이] 서프라이즈 하와이 4박6일  HA항공 ♥\n",
      "http://tourimage.interpark.com/product/tour/00161/A20/280/A2012442_1_440.jpg searchModule.OnClickDetail('http://tour.interpark.com/goods/detail/?BaseGoodsCd=A2012442','') [짧고굵게] 하와이 세미패키지 5일\n"
     ]
    }
   ],
   "source": [
    "interpark()"
   ]
  },
  {
   "cell_type": "code",
   "execution_count": 54,
   "metadata": {},
   "outputs": [
    {
     "name": "stdout",
     "output_type": "stream",
     "text": [
      "하와이 세미패키지 6일\n",
      "[하와이 허니문]마우이2박+오아후3박 5박7일\n",
      "[아시아나항공] 하와이 실속 에어텔 6일\n",
      "[하와이] 프리스타일 turn up! 4박6일 (자유)  HA항공 ♥♣\n",
      "[하와이 허니문]빅아일랜드2박+오아후3박 5박7일\n",
      "[하와이♥심플패키지] 힐튼 하와이안 빌리지 5박7일\n",
      "[관광+휴양] 하와이 세미패키지 7일\n",
      "《이웃섬투어포함》하와이 알찬패키지 6일\n",
      "[하와이] 판타스틱4 - 4 가지 특별한 혜택  HA항공 ★\n",
      "[진에어패키지] 하와이 민속촌 투어 포함 6일\n",
      "[하와이★반자유] 하얏트 플레이스 5박7일\n",
      "[부산]하와이 세미패키지(오하우시내+섬일주포함) 자유 6일\n",
      "[하와이] 시내관광+렌트카 5박7일  HA항공 ♣\n",
      "[랜터카48시간포함] 하와이 자유여행 6일\n",
      "[하와이] 식스팩. 하와이를 누리는 6가지 특별한 방법  HA항공 ★\n",
      "하와이 진에어 자유여행 6일\n",
      "[이웃섬투어포함] 하와이 효도패키지 6일\n",
      "[하와이] 럭셔리 풀패키지 5박 7일  HA항공 ♥\n",
      "[하와이] 서프라이즈 하와이 4박6일  HA항공 ♥\n",
      "[짧고굵게] 하와이 세미패키지 5일\n"
     ]
    },
    {
     "ename": "IndexError",
     "evalue": "list index out of range",
     "output_type": "error",
     "traceback": [
      "\u001b[1;31m---------------------------------------------------------------------------\u001b[0m",
      "\u001b[1;31mIndexError\u001b[0m                                Traceback (most recent call last)",
      "\u001b[1;32m<ipython-input-54-39268caf77f7>\u001b[0m in \u001b[0;36m<module>\u001b[1;34m()\u001b[0m\n\u001b[0;32m      1\u001b[0m \u001b[1;32mfor\u001b[0m \u001b[0mi\u001b[0m \u001b[1;32min\u001b[0m \u001b[0mrange\u001b[0m\u001b[1;33m(\u001b[0m\u001b[1;36m21\u001b[0m\u001b[1;33m)\u001b[0m\u001b[1;33m:\u001b[0m\u001b[1;33m\u001b[0m\u001b[0m\n\u001b[1;32m----> 2\u001b[1;33m     \u001b[0mprint\u001b[0m\u001b[1;33m(\u001b[0m\u001b[0mtour_list\u001b[0m\u001b[1;33m[\u001b[0m\u001b[0mi\u001b[0m\u001b[1;33m]\u001b[0m\u001b[1;33m.\u001b[0m\u001b[0mtitle\u001b[0m\u001b[1;33m)\u001b[0m\u001b[1;33m\u001b[0m\u001b[0m\n\u001b[0m",
      "\u001b[1;31mIndexError\u001b[0m: list index out of range"
     ]
    }
   ],
   "source": [
    "for i in range(21):\n",
    "    print(tour_list[i].title)"
   ]
  },
  {
   "cell_type": "code",
   "execution_count": 96,
   "metadata": {},
   "outputs": [],
   "source": [
    "class TourInfo:         # 클래스: 붕어빵 틀\n",
    "    # 맴버변수 (실제 컬럼보다는 작게 세팅함)\n",
    "    title = ''\n",
    "    price = ''\n",
    "    info = ''\n",
    "    link = ''\n",
    "    img = ''\n",
    "    contents = ''\n",
    "    # 생성자\n",
    "    # __init__ : 자동 실행 (아무도 안불렀는데)\n",
    "    # (self : (객체 자신의 주소) 자동 값 저장\n",
    "    def __init__(self, title, price, info, link, img, contents=None):\n",
    "        self.title = title   # self에 자신의 주소 들어있\n",
    "        self.price = price\n",
    "        self.info = info\n",
    "        self.link = link\n",
    "        self.img = img\n",
    "        self.contents = contents       \n",
    "        \n",
    "tour_list = []\n",
    "\n",
    "driver = webdriver.Chrome(executable_path='C:/python_edu/program/chromedriver.exe')\n",
    "\n",
    "def interpark():\n",
    "    keyword = input(\"키워드 입력:\")\n",
    "    main_url = \"http://tour.interpark.com/\"\n",
    "    driver.get(main_url)\n",
    "    driver.find_element_by_id(\"SearchGNBText\").send_keys(keyword)\n",
    "    driver.find_element_by_class_name(\"search-btn\").click()\n",
    "    time.sleep(5)\n",
    "    totalCount = driver.find_element_by_id(\"totalAllCnt\")\n",
    "    totalCount = int(totalCount.text.replace(\",\",\"\"))\n",
    "    time.sleep(3)\n",
    "    print(\"[\",keyword, \"]\",\"검색 결과: 총\", totalCount, \"건\")\n",
    "    driver.find_element_by_css_selector(\"body > div.container > div > div > div.panelZone > div.oTravelBox > ul > li.moreBtnWrap > button\").click()\n",
    "    \n",
    "    for page in range(1, 3):\n",
    "        try:\n",
    "            #자바스크립트 구동하기\n",
    "            driver.execute_script(\"searchModule.SetCategoryList(%s, '')\" % page)\n",
    "            time.sleep(2)\n",
    "            print(\"%s 페이지 이동\" % page)\n",
    "\n",
    "            # 여러 개니까 element 아닌 elements 주의!\n",
    "            boxItems = driver.find_elements_by_css_selector('body > div.container > div > div > div.panelZone > div.oTravelBox > ul > li')\n",
    "            for li in boxItems:\n",
    "                img = li.find_element_by_css_selector('img').get_attribute('src')\n",
    "                link = li.find_element_by_css_selector('a').get_attribute('onclick')\n",
    "                title = li.find_element_by_css_selector('h5.proTit').text\n",
    "                title = title.replace(\"/\",\"\").replace(\":\", \"\")\n",
    "                urllib.request.urlretrieve(img,\"C:/python_edu/tour_img/%s.jpg\" %(title))\n",
    "                comment = li.find_element_by_css_selector('.proSub').text\n",
    "                price = li.find_element_by_class_name('proPrice').text\n",
    "                info = ''\n",
    "                \n",
    "                for proinfo in li.find_elements_by_css_selector('.info-row .proInfo'):\n",
    "                    info += proinfo.text + \"\\n\"\n",
    "                \n",
    "                print(\"title: %s\\nlink: %s\\ncomment: %s\\nprice: %s\\ninfo: %s\" %(title, link, comment, price, info))\n",
    "                print('='*100)\n",
    "                \n",
    "                obj = TourInfo(title, price, info, link, img)\n",
    "                tour_list.append(obj)\n",
    "                \n",
    "        except Exception as e1:\n",
    "            print('오류', e1)"
   ]
  },
  {
   "cell_type": "code",
   "execution_count": 97,
   "metadata": {},
   "outputs": [
    {
     "name": "stdout",
     "output_type": "stream",
     "text": [
      "키워드 입력:바티칸\n",
      "[ 바티칸 ] 검색 결과: 총 506 건\n",
      "1 페이지 이동\n",
      "title: [홈앤쇼핑]서유럽3국8일+스위스뮈렌남부이태리★로마호텔2박UP\n",
      "link: searchModule.OnClickDetail('http://tour.interpark.com/goods/detail/?BaseGoodsCd=A3014954','')\n",
      "comment: 2019.07.13 20시30분 방송\n",
      "price: 1,390,000 원~\n",
      "info: 여행 기간 : 5박8일프랑스-스위스-이탈리아\n",
      "출발 가능 기간 : 2019.07.16~2020.03.31\n",
      "평점 8.6\n",
      "25개의 상품평\n",
      "\n",
      "====================================================================================================\n",
      "title: [아시아나]서유럽3국9일_융프라우바티칸하이패스\n",
      "link: searchModule.OnClickDetail('http://tour.interpark.com/goods/detail/?BaseGoodsCd=A3012934','')\n",
      "comment: 국적기 이용 버스 이동 최단거리\n",
      "price: 1,793,000 원~\n",
      "info: 여행 기간 : 7박9일이탈리아-스위스-프랑스\n",
      "출발 가능 기간 : 2019.07.17~2020.03.27\n",
      "평점 9.2\n",
      "526개의 상품평\n",
      "\n",
      "====================================================================================================\n",
      "title: [쉼표UP↗]이태리품격일주 8일_직항호텔업그레이드바티칸하이패스&명품아울렛\n",
      "link: searchModule.OnClickDetail('http://tour.interpark.com/goods/detail/?BaseGoodsCd=A3014976','')\n",
      "comment: 전일정 호텔 업그레이드\n",
      "price: 1,490,000 원~\n",
      "info: 여행 기간 : 6박8일이탈리아\n",
      "출발 가능 기간 : 2019.07.16~2020.03.27\n",
      "평점 7.2\n",
      "4개의 상품평\n",
      "\n",
      "====================================================================================================\n",
      "title: [하나도빠지지않는]남프랑스+서유럽일주 10국16일_바티칸하이패스\n",
      "link: searchModule.OnClickDetail('http://tour.interpark.com/goods/detail/?BaseGoodsCd=A3015110','')\n",
      "comment: 서유럽 완전정복! 베네룩스+남프랑스+이태리 일주까지!\n",
      "price: 2,390,000 원~\n",
      "info: 여행 기간 : 14박16일영국프랑스스위스이태리오스트리아독일모나코룩셈부르크벨기에네덜란드\n",
      "출발 가능 기간 : 2019.07.16~2020.03.25\n",
      "평점 8.5\n",
      "30개의 상품평\n",
      "\n",
      "====================================================================================================\n",
      "title: [바티칸하이패스] 서유럽 6국 12일_특식UPGRADE\n",
      "link: searchModule.OnClickDetail('http://tour.interpark.com/goods/detail/?BaseGoodsCd=A3013963','')\n",
      "comment: #정통서유럽일주\n",
      "price: 2,368,600 원~\n",
      "info: 여행 기간 : 10박12일영국프랑스스위스이태리오스트리아독일\n",
      "출발 가능 기간 : 2019.07.15~2019.12.15\n",
      "평점 8.8\n",
      "73개의 상품평\n",
      "\n",
      "====================================================================================================\n",
      "title: [종합선물세트]서유럽일주 10국16일_바티칸하이패스\n",
      "link: searchModule.OnClickDetail('http://tour.interpark.com/goods/detail/?BaseGoodsCd=A3016310','')\n",
      "comment: ★대한항공으로 떠나는 서유럽 10국16일!\n",
      "price: 2,468,400 원~\n",
      "info: 여행 기간 : 14박16일영국프랑스스위스이태리오스트리아독일모나코룩셈부르크벨기에네덜란드\n",
      "출발 가능 기간 : 2019.07.15~2019.12.31\n",
      "평점 0.0\n",
      "0개의 상품평\n",
      "\n",
      "====================================================================================================\n",
      "title: [5%청구할인알프스뮈렌]서유럽3국8일_남부이태리+2대박물관\n",
      "link: searchModule.OnClickDetail('http://tour.interpark.com/goods/detail/?BaseGoodsCd=A3014678','')\n",
      "comment: 국민/삼성카드 결제시 5% 청구할인\n",
      "price: 1,390,000 원~\n",
      "info: 여행 기간 : 5박8일프랑스-스위스-이탈리아\n",
      "출발 가능 기간 : 2019.07.16~2020.03.28\n",
      "평점 9.0\n",
      "60개의 상품평\n",
      "\n",
      "====================================================================================================\n",
      "title: ■5%청구할인전일정1급■융프라우&툰호수+체르마트 스위스이탈리아 9일\n",
      "link: searchModule.OnClickDetail('http://tour.interpark.com/goods/detail/?BaseGoodsCd=A3014578','')\n",
      "comment: 국민/삼성카드 결제시 5% 청구할인\n",
      "price: 1,590,000 원~\n",
      "info: 여행 기간 : 6박9일스위스독일\n",
      "출발 가능 기간 : 2019.07.15~2020.03.30\n",
      "평점 9.2\n",
      "65개의 상품평\n",
      "\n",
      "====================================================================================================\n",
      "title: Bon Appetit! 로마 자유여행 6일♥바티칸투어♥\n",
      "link: searchModule.OnClickDetail('http://tour.interpark.com/goods/detail/?BaseGoodsCd=B3011455','')\n",
      "comment: 모든 길은 로마로!\n",
      "price: 1,282,600 원~\n",
      "info: 여행 기간 : 4박6일로마\n",
      "출발 가능 기간 : 2019.07.16~2020.03.29\n",
      "평점 9.6\n",
      "7개의 상품평\n",
      "\n",
      "====================================================================================================\n",
      "title: [온라인박람회]서유럽10국16일_남프랑스+바티칸하이패스\n",
      "link: searchModule.OnClickDetail('http://tour.interpark.com/goods/detail/?BaseGoodsCd=A3016246','')\n",
      "comment: 7% 청구할인\n",
      "price: 2,390,000 원~\n",
      "info: 여행 기간 : 14박16일영국프랑스스위스이태리오스트리아독일모나코룩셈부르크벨기에네덜란드\n",
      "출발 가능 기간 : 2019.07.16~2019.12.31\n",
      "평점 0.0\n",
      "0개의 상품평\n",
      "\n",
      "====================================================================================================\n",
      "2 페이지 이동\n",
      "title: [서유럽3국9일]전일정호텔 UP _융프라우바티칸하이패스\n",
      "link: searchModule.OnClickDetail('http://tour.interpark.com/goods/detail/?BaseGoodsCd=A3016230','')\n",
      "comment: 전일정 호텔 업그레이드\n",
      "price: 2,190,000 원~\n",
      "info: 여행 기간 : 7박9일이탈리아-스위스-프랑스\n",
      "출발 가능 기간 : 2019.07.17~2019.10.30\n",
      "평점 0.0\n",
      "0개의 상품평\n",
      "\n",
      "====================================================================================================\n",
      "title: [홈앤쇼핑]스위스이탈리아9일_전일정1급호텔융프라우체르마트\n",
      "link: searchModule.OnClickDetail('http://tour.interpark.com/goods/detail/?BaseGoodsCd=A3016360','')\n",
      "comment: 스위스정통식 업그레이드/툰호수 유람선\n",
      "price: 1,790,000 원~\n",
      "info: 여행 기간 : 6박9일스위스독일\n",
      "출발 가능 기간 : 2019.07.17~2019.11.27\n",
      "평점 10.0\n",
      "1개의 상품평\n",
      "\n",
      "====================================================================================================\n",
      "title: [5%청구할인]이태리품격일주 8일_직항시르미오네\n",
      "link: searchModule.OnClickDetail('http://tour.interpark.com/goods/detail/?BaseGoodsCd=A3016111','')\n",
      "comment: 국민/삼성카드 결제시 5% 청구할인\n",
      "price: 1,490,000 원~\n",
      "info: 여행 기간 : 6박8일이탈리아\n",
      "출발 가능 기간 : 2019.07.15~2020.03.27\n",
      "평점 9.6\n",
      "4개의 상품평\n",
      "\n",
      "====================================================================================================\n",
      "title: [융프라우VIP패스] 서유럽4국12일_남프랑스\n",
      "link: searchModule.OnClickDetail('http://tour.interpark.com/goods/detail/?BaseGoodsCd=A3015881','')\n",
      "comment: 2018-19 최고 만족도 일정 !\n",
      "price: 2,368,600 원~\n",
      "info: 여행 기간 : 10박12일영국프랑스스위스이탈리아\n",
      "출발 가능 기간 : 2019.07.17~2020.03.25\n",
      "평점 8.5\n",
      "24개의 상품평\n",
      "\n",
      "====================================================================================================\n",
      "title: [대한항공 브랜드위크]융프라우&정상식사 몽트뢰 스위스이탈리아 9일\n",
      "link: searchModule.OnClickDetail('http://tour.interpark.com/goods/detail/?BaseGoodsCd=A3016077','')\n",
      "comment: 삼성/국민카드 청구할인 5%\n",
      "price: 1,790,000 원~\n",
      "info: 여행 기간 : 7박9일독일-스위스-이탈리아\n",
      "출발 가능 기간 : 2019.07.16~2020.03.31\n",
      "평점 0.0\n",
      "0개의 상품평\n",
      "\n",
      "====================================================================================================\n",
      "title: [어쩌면,지금★곤돌라포함]서유럽4국10일+티본스테이크\n",
      "link: searchModule.OnClickDetail('http://tour.interpark.com/goods/detail/?BaseGoodsCd=A3014433','')\n",
      "comment: ■ 실속상품/ 소도시 일정까지 알차게\n",
      "price: 2,168,400 원~\n",
      "info: 여행 기간 : 8박10일이탈리아-스위스-프랑스-영국\n",
      "출발 가능 기간 : 2019.07.16~2020.03.29\n",
      "평점 9.2\n",
      "66개의 상품평\n",
      "\n",
      "====================================================================================================\n",
      "title: [5%청구할인PACK EASY] 1급호텔 스위스반나절+로마1DAY 자유 9일\n",
      "link: searchModule.OnClickDetail('http://tour.interpark.com/goods/detail/?BaseGoodsCd=A3016024','')\n",
      "comment: 국민/삼성카드 결제시 5% 청구할인\n",
      "price: 1,690,000 원~\n",
      "info: 여행 기간 : 6박9일스위스독일\n",
      "출발 가능 기간 : 2019.07.15~2019.10.30\n",
      "평점 0.0\n",
      "0개의 상품평\n",
      "\n",
      "====================================================================================================\n",
      "title: [5%청구할인]서유럽4국10일리기산+로마 아울렛\n",
      "link: searchModule.OnClickDetail('http://tour.interpark.com/goods/detail/?BaseGoodsCd=A3015020','')\n",
      "comment: 국민/삼성카드 결제시 5% 청구할인\n",
      "price: 1,890,000 원~\n",
      "info: 여행 기간 : 7박10일아랍 에미레이트-영국-프랑스-스위스-이탈리아\n",
      "출발 가능 기간 : 2019.07.17~2020.04.29\n",
      "평점 9.2\n",
      "25개의 상품평\n",
      "\n",
      "====================================================================================================\n",
      "title: ■국적기직항전일정1급■몽트뢰+프라이부르크 스위스이탈리아 9일\n",
      "link: searchModule.OnClickDetail('http://tour.interpark.com/goods/detail/?BaseGoodsCd=A3014604','')\n",
      "comment: 국적기 직항/1급호텔/몽트뢰/프라이부르크\n",
      "price: 1,690,000 원~\n",
      "info: 여행 기간 : 7박9일독일-스위스-이탈리아\n",
      "출발 가능 기간 : 2019.07.16~2020.03.31\n",
      "평점 8.7\n",
      "48개의 상품평\n",
      "\n",
      "====================================================================================================\n",
      "title: [담당자가 다녀온] 서유럽4국12일_남프랑스+스위스\n",
      "link: searchModule.OnClickDetail('http://tour.interpark.com/goods/detail/?BaseGoodsCd=A3015084','')\n",
      "comment: 반짝반짝 지중해와 남프랑스!\n",
      "price: 2,270,800 원~\n",
      "info: 여행 기간 : 10박12일영국프랑스스위스이탈리아\n",
      "출발 가능 기간 : 2019.07.18~2020.03.29\n",
      "평점 9.5\n",
      "40개의 상품평\n",
      "\n",
      "====================================================================================================\n"
     ]
    }
   ],
   "source": [
    "interpark()"
   ]
  },
  {
   "cell_type": "code",
   "execution_count": 94,
   "metadata": {},
   "outputs": [],
   "source": [
    "# 상세페이지, 여행평"
   ]
  },
  {
   "cell_type": "code",
   "execution_count": 99,
   "metadata": {},
   "outputs": [
    {
     "ename": "WebDriverException",
     "evalue": "Message: chrome not reachable\n  (Session info: chrome=75.0.3770.100)\n  (Driver info: chromedriver=2.42.591088 (7b2b2dca23cca0862f674758c9a3933e685c27d5),platform=Windows NT 10.0.17763 x86_64)\n",
     "output_type": "error",
     "traceback": [
      "\u001b[1;31m---------------------------------------------------------------------------\u001b[0m",
      "\u001b[1;31mWebDriverException\u001b[0m                        Traceback (most recent call last)",
      "\u001b[1;32m<ipython-input-99-ad5ea2524d5f>\u001b[0m in \u001b[0;36m<module>\u001b[1;34m()\u001b[0m\n\u001b[0;32m      4\u001b[0m         \u001b[0mlink\u001b[0m \u001b[1;33m=\u001b[0m \u001b[0marr\u001b[0m\u001b[1;33m[\u001b[0m\u001b[1;36m0\u001b[0m\u001b[1;33m]\u001b[0m\u001b[1;33m.\u001b[0m\u001b[0mreplace\u001b[0m\u001b[1;33m(\u001b[0m\u001b[1;34m'searchModule.OnClickDetail('\u001b[0m\u001b[1;33m,\u001b[0m\u001b[1;34m''\u001b[0m\u001b[1;33m)\u001b[0m\u001b[1;33m\u001b[0m\u001b[0m\n\u001b[0;32m      5\u001b[0m         \u001b[0mdetail_url\u001b[0m \u001b[1;33m=\u001b[0m \u001b[0mlink\u001b[0m\u001b[1;33m[\u001b[0m\u001b[1;36m1\u001b[0m\u001b[1;33m:\u001b[0m\u001b[1;33m-\u001b[0m\u001b[1;36m1\u001b[0m\u001b[1;33m]\u001b[0m\u001b[1;33m\u001b[0m\u001b[0m\n\u001b[1;32m----> 6\u001b[1;33m         \u001b[0mdriver\u001b[0m\u001b[1;33m.\u001b[0m\u001b[0mget\u001b[0m\u001b[1;33m(\u001b[0m\u001b[0mdetail_url\u001b[0m\u001b[1;33m)\u001b[0m\u001b[1;33m\u001b[0m\u001b[0m\n\u001b[0m\u001b[0;32m      7\u001b[0m         \u001b[0mtime\u001b[0m\u001b[1;33m.\u001b[0m\u001b[0msleep\u001b[0m\u001b[1;33m(\u001b[0m\u001b[1;36m2\u001b[0m\u001b[1;33m)\u001b[0m\u001b[1;33m\u001b[0m\u001b[0m\n",
      "\u001b[1;32mC:\\ProgramData\\Anaconda3\\envs\\python_edu\\lib\\site-packages\\selenium\\webdriver\\remote\\webdriver.py\u001b[0m in \u001b[0;36mget\u001b[1;34m(self, url)\u001b[0m\n\u001b[0;32m    331\u001b[0m         \u001b[0mLoads\u001b[0m \u001b[0ma\u001b[0m \u001b[0mweb\u001b[0m \u001b[0mpage\u001b[0m \u001b[1;32min\u001b[0m \u001b[0mthe\u001b[0m \u001b[0mcurrent\u001b[0m \u001b[0mbrowser\u001b[0m \u001b[0msession\u001b[0m\u001b[1;33m.\u001b[0m\u001b[1;33m\u001b[0m\u001b[0m\n\u001b[0;32m    332\u001b[0m         \"\"\"\n\u001b[1;32m--> 333\u001b[1;33m         \u001b[0mself\u001b[0m\u001b[1;33m.\u001b[0m\u001b[0mexecute\u001b[0m\u001b[1;33m(\u001b[0m\u001b[0mCommand\u001b[0m\u001b[1;33m.\u001b[0m\u001b[0mGET\u001b[0m\u001b[1;33m,\u001b[0m \u001b[1;33m{\u001b[0m\u001b[1;34m'url'\u001b[0m\u001b[1;33m:\u001b[0m \u001b[0murl\u001b[0m\u001b[1;33m}\u001b[0m\u001b[1;33m)\u001b[0m\u001b[1;33m\u001b[0m\u001b[0m\n\u001b[0m\u001b[0;32m    334\u001b[0m \u001b[1;33m\u001b[0m\u001b[0m\n\u001b[0;32m    335\u001b[0m     \u001b[1;33m@\u001b[0m\u001b[0mproperty\u001b[0m\u001b[1;33m\u001b[0m\u001b[0m\n",
      "\u001b[1;32mC:\\ProgramData\\Anaconda3\\envs\\python_edu\\lib\\site-packages\\selenium\\webdriver\\remote\\webdriver.py\u001b[0m in \u001b[0;36mexecute\u001b[1;34m(self, driver_command, params)\u001b[0m\n\u001b[0;32m    319\u001b[0m         \u001b[0mresponse\u001b[0m \u001b[1;33m=\u001b[0m \u001b[0mself\u001b[0m\u001b[1;33m.\u001b[0m\u001b[0mcommand_executor\u001b[0m\u001b[1;33m.\u001b[0m\u001b[0mexecute\u001b[0m\u001b[1;33m(\u001b[0m\u001b[0mdriver_command\u001b[0m\u001b[1;33m,\u001b[0m \u001b[0mparams\u001b[0m\u001b[1;33m)\u001b[0m\u001b[1;33m\u001b[0m\u001b[0m\n\u001b[0;32m    320\u001b[0m         \u001b[1;32mif\u001b[0m \u001b[0mresponse\u001b[0m\u001b[1;33m:\u001b[0m\u001b[1;33m\u001b[0m\u001b[0m\n\u001b[1;32m--> 321\u001b[1;33m             \u001b[0mself\u001b[0m\u001b[1;33m.\u001b[0m\u001b[0merror_handler\u001b[0m\u001b[1;33m.\u001b[0m\u001b[0mcheck_response\u001b[0m\u001b[1;33m(\u001b[0m\u001b[0mresponse\u001b[0m\u001b[1;33m)\u001b[0m\u001b[1;33m\u001b[0m\u001b[0m\n\u001b[0m\u001b[0;32m    322\u001b[0m             response['value'] = self._unwrap_value(\n\u001b[0;32m    323\u001b[0m                 response.get('value', None))\n",
      "\u001b[1;32mC:\\ProgramData\\Anaconda3\\envs\\python_edu\\lib\\site-packages\\selenium\\webdriver\\remote\\errorhandler.py\u001b[0m in \u001b[0;36mcheck_response\u001b[1;34m(self, response)\u001b[0m\n\u001b[0;32m    240\u001b[0m                 \u001b[0malert_text\u001b[0m \u001b[1;33m=\u001b[0m \u001b[0mvalue\u001b[0m\u001b[1;33m[\u001b[0m\u001b[1;34m'alert'\u001b[0m\u001b[1;33m]\u001b[0m\u001b[1;33m.\u001b[0m\u001b[0mget\u001b[0m\u001b[1;33m(\u001b[0m\u001b[1;34m'text'\u001b[0m\u001b[1;33m)\u001b[0m\u001b[1;33m\u001b[0m\u001b[0m\n\u001b[0;32m    241\u001b[0m             \u001b[1;32mraise\u001b[0m \u001b[0mexception_class\u001b[0m\u001b[1;33m(\u001b[0m\u001b[0mmessage\u001b[0m\u001b[1;33m,\u001b[0m \u001b[0mscreen\u001b[0m\u001b[1;33m,\u001b[0m \u001b[0mstacktrace\u001b[0m\u001b[1;33m,\u001b[0m \u001b[0malert_text\u001b[0m\u001b[1;33m)\u001b[0m\u001b[1;33m\u001b[0m\u001b[0m\n\u001b[1;32m--> 242\u001b[1;33m         \u001b[1;32mraise\u001b[0m \u001b[0mexception_class\u001b[0m\u001b[1;33m(\u001b[0m\u001b[0mmessage\u001b[0m\u001b[1;33m,\u001b[0m \u001b[0mscreen\u001b[0m\u001b[1;33m,\u001b[0m \u001b[0mstacktrace\u001b[0m\u001b[1;33m)\u001b[0m\u001b[1;33m\u001b[0m\u001b[0m\n\u001b[0m\u001b[0;32m    243\u001b[0m \u001b[1;33m\u001b[0m\u001b[0m\n\u001b[0;32m    244\u001b[0m     \u001b[1;32mdef\u001b[0m \u001b[0m_value_or_default\u001b[0m\u001b[1;33m(\u001b[0m\u001b[0mself\u001b[0m\u001b[1;33m,\u001b[0m \u001b[0mobj\u001b[0m\u001b[1;33m,\u001b[0m \u001b[0mkey\u001b[0m\u001b[1;33m,\u001b[0m \u001b[0mdefault\u001b[0m\u001b[1;33m)\u001b[0m\u001b[1;33m:\u001b[0m\u001b[1;33m\u001b[0m\u001b[0m\n",
      "\u001b[1;31mWebDriverException\u001b[0m: Message: chrome not reachable\n  (Session info: chrome=75.0.3770.100)\n  (Driver info: chromedriver=2.42.591088 (7b2b2dca23cca0862f674758c9a3933e685c27d5),platform=Windows NT 10.0.17763 x86_64)\n"
     ]
    }
   ],
   "source": [
    "for tour in tour_list[1:10]:\n",
    "    arr = tour.link.split(',')\n",
    "    if arr:    # arr이 True면 실행. (주소 있으면 True. 0, None, False 아니면 True.)\n",
    "        link = arr[0].replace('searchModule.OnClickDetail(','')\n",
    "        detail_url = link[1:-1]\n",
    "        driver.get(detail_url)\n",
    "        time.sleep(2)"
   ]
  },
  {
   "cell_type": "code",
   "execution_count": null,
   "metadata": {},
   "outputs": [],
   "source": [
    "class TourInfo:         # 클래스: 붕어빵 틀\n",
    "    # 맴버변수 (실제 컬럼보다는 작게 세팅함)\n",
    "    title = ''\n",
    "    price = ''\n",
    "    info = ''\n",
    "    link = ''\n",
    "    img = ''\n",
    "    contents = ''\n",
    "    # 생성자\n",
    "    # __init__ : 자동 실행 (아무도 안불렀는데)\n",
    "    # (self : (객체 자신의 주소) 자동 값 저장\n",
    "    def __init__(self, title, price, info, link, img, contents=None):\n",
    "        self.title = title   # self에 자신의 주소 들어있\n",
    "        self.price = price\n",
    "        self.info = info\n",
    "        self.link = link\n",
    "        self.img = img\n",
    "        self.contents = contents       \n",
    "        \n",
    "tour_list = []\n",
    "\n",
    "driver = webdriver.Chrome(executable_path='C:/python_edu/program/chromedriver.exe')\n",
    "\n",
    "keyword = input(\"키워드 입력:\")\n",
    "main_url = \"http://tour.interpark.com/\"\n",
    "driver.get(main_url)\n",
    "driver.find_element_by_id(\"SearchGNBText\").send_keys(keyword)\n",
    "driver.find_element_by_class_name(\"search-btn\").click()\n",
    "time.sleep(5)\n",
    "totalCount = driver.find_element_by_id(\"totalAllCnt\")\n",
    "totalCount = int(totalCount.text.replace(\",\",\"\"))\n",
    "time.sleep(3)\n",
    "print(\"[\",keyword, \"]\",\"검색 결과: 총\", totalCount, \"건\")\n",
    "driver.find_element_by_css_selector(\"body > div.container > div > div > div.panelZone > div.oTravelBox > ul > li.moreBtnWrap > button\").click()\n",
    "\n",
    "for page in range(1, 3):\n",
    "    try:\n",
    "        #자바스크립트 구동하기\n",
    "        driver.execute_script(\"searchModule.SetCategoryList(%s, '')\" % page)\n",
    "        time.sleep(2)\n",
    "        print(\"%s 페이지 이동\" % page)\n",
    "\n",
    "        # 여러 개니까 element 아닌 elements 주의!\n",
    "        boxItems = driver.find_elements_by_css_selector('body > div.container > div > div > div.panelZone > div.oTravelBox > ul > li')\n",
    "        for li in boxItems:\n",
    "            img = li.find_element_by_css_selector('img').get_attribute('src')\n",
    "            link = li.find_element_by_css_selector('a').get_attribute('onclick')\n",
    "            title = li.find_element_by_css_selector('h5.proTit').text\n",
    "            title = title.replace(\"/\",\"\").replace(\":\", \"\")\n",
    "            urllib.request.urlretrieve(img,\"C:/python_edu/tour_img/%s.jpg\" %(title))\n",
    "            comment = li.find_element_by_css_selector('.proSub').text\n",
    "            price = li.find_element_by_class_name('proPrice').text\n",
    "            info = ''\n",
    "\n",
    "            for proinfo in li.find_elements_by_css_selector('.info-row .proInfo'):\n",
    "                info += proinfo.text + \"\\n\"\n",
    "\n",
    "            print(\"title: %s\\nlink: %s\\ncomment: %s\\nprice: %s\\ninfo: %s\" %(title, link, comment, price, info))\n",
    "            print('='*100)\n",
    "\n",
    "            obj = TourInfo(title, price, info, link, img)\n",
    "            tour_list.append(obj)\n",
    "\n",
    "    except Exception as e1:\n",
    "        print('오류', e1)"
   ]
  },
  {
   "cell_type": "code",
   "execution_count": 2,
   "metadata": {},
   "outputs": [
    {
     "ename": "NameError",
     "evalue": "name 'tour_list' is not defined",
     "output_type": "error",
     "traceback": [
      "\u001b[1;31m---------------------------------------------------------------------------\u001b[0m",
      "\u001b[1;31mNameError\u001b[0m                                 Traceback (most recent call last)",
      "\u001b[1;32m<ipython-input-2-218c391f9f76>\u001b[0m in \u001b[0;36m<module>\u001b[1;34m()\u001b[0m\n\u001b[1;32m----> 1\u001b[1;33m \u001b[1;32mfor\u001b[0m \u001b[0mtour\u001b[0m \u001b[1;32min\u001b[0m \u001b[0mtour_list\u001b[0m\u001b[1;33m[\u001b[0m\u001b[1;36m1\u001b[0m\u001b[1;33m:\u001b[0m\u001b[1;36m10\u001b[0m\u001b[1;33m]\u001b[0m\u001b[1;33m:\u001b[0m\u001b[1;33m\u001b[0m\u001b[0m\n\u001b[0m\u001b[0;32m      2\u001b[0m     \u001b[0marr\u001b[0m \u001b[1;33m=\u001b[0m \u001b[0mtour\u001b[0m\u001b[1;33m.\u001b[0m\u001b[0mlink\u001b[0m\u001b[1;33m.\u001b[0m\u001b[0msplit\u001b[0m\u001b[1;33m(\u001b[0m\u001b[1;34m','\u001b[0m\u001b[1;33m)\u001b[0m\u001b[1;33m\u001b[0m\u001b[0m\n\u001b[0;32m      3\u001b[0m     \u001b[1;32mif\u001b[0m \u001b[0marr\u001b[0m\u001b[1;33m:\u001b[0m    \u001b[1;31m# arr이 True면 실행. (주소 있으면 True. 0, None, False 아니면 True.)\u001b[0m\u001b[1;33m\u001b[0m\u001b[0m\n\u001b[0;32m      4\u001b[0m         \u001b[0mlink\u001b[0m \u001b[1;33m=\u001b[0m \u001b[0marr\u001b[0m\u001b[1;33m[\u001b[0m\u001b[1;36m0\u001b[0m\u001b[1;33m]\u001b[0m\u001b[1;33m.\u001b[0m\u001b[0mreplace\u001b[0m\u001b[1;33m(\u001b[0m\u001b[1;34m'searchModule.OnClickDetail('\u001b[0m\u001b[1;33m,\u001b[0m\u001b[1;34m''\u001b[0m\u001b[1;33m)\u001b[0m\u001b[1;33m\u001b[0m\u001b[0m\n\u001b[0;32m      5\u001b[0m         \u001b[0mdetail_url\u001b[0m \u001b[1;33m=\u001b[0m \u001b[0mlink\u001b[0m\u001b[1;33m[\u001b[0m\u001b[1;36m1\u001b[0m\u001b[1;33m:\u001b[0m\u001b[1;33m-\u001b[0m\u001b[1;36m1\u001b[0m\u001b[1;33m]\u001b[0m\u001b[1;33m\u001b[0m\u001b[0m\n",
      "\u001b[1;31mNameError\u001b[0m: name 'tour_list' is not defined"
     ]
    }
   ],
   "source": [
    "for tour in tour_list[1:10]:\n",
    "    arr = tour.link.split(',')\n",
    "    if arr:    # arr이 True면 실행. (주소 있으면 True. 0, None, False 아니면 True.)\n",
    "        link = arr[0].replace('searchModule.OnClickDetail(','')\n",
    "        detail_url = link[1:-1]\n",
    "        driver.get(detail_url)\n",
    "        time.sleep(2)\n",
    "        driver.execute_script(\"MovingPoint('CM')\")\n",
    "        time.sleep(2)\n",
    "        #try:\n",
    "        tits = driver.find_elements_by_css_selector('div.article strong.tit')\n",
    "        grades = driver.find_elements_by_css_selector('div.article span.grade')\n",
    "        soup = BeautifulSoup(driver.page_source, 'html.parser')\n",
    "        txt = soup.select(\"div.article div.cont\")\n",
    "        for i in range(0, len(tits)):\n",
    "            ctitle = tits[i].text\n",
    "            cgrade = grades[i].text\n",
    "            ctxts = txt[i].select(\"p\")\n",
    "            ctx = ''\n",
    "            for i in range(0, len(ctxts)):\n",
    "                ctx += str(ctxts[i]).replace(\"<p>\",\"\").replace(\"</p>\",\"\")\n",
    "            print(\"title: %s\\nrank: %s\\nctxts: %s\" %(ctitle, cgrade, ctx))\n",
    "        #except:\n",
    "            #print(\"comment error\")"
   ]
  },
  {
   "cell_type": "code",
   "execution_count": 109,
   "metadata": {},
   "outputs": [],
   "source": [
    "driver = webdriver.Chrome(executable_path='C:/python_edu/program/chromedriver.exe')\n",
    "driver.get(main_url)"
   ]
  },
  {
   "cell_type": "code",
   "execution_count": 123,
   "metadata": {},
   "outputs": [
    {
     "ename": "NoSuchElementException",
     "evalue": "Message: no such element: Unable to locate element: {\"method\":\"css selector\",\"selector\":\"#dBody > div.default-section.goods-info > div.info-section > span > a\"}\n  (Session info: chrome=75.0.3770.100)\n  (Driver info: chromedriver=2.42.591088 (7b2b2dca23cca0862f674758c9a3933e685c27d5),platform=Windows NT 10.0.17763 x86_64)\n",
     "output_type": "error",
     "traceback": [
      "\u001b[1;31m---------------------------------------------------------------------------\u001b[0m",
      "\u001b[1;31mNoSuchElementException\u001b[0m                    Traceback (most recent call last)",
      "\u001b[1;32m<ipython-input-123-3737b743f213>\u001b[0m in \u001b[0;36m<module>\u001b[1;34m()\u001b[0m\n\u001b[1;32m----> 1\u001b[1;33m \u001b[0ma\u001b[0m \u001b[1;33m=\u001b[0m \u001b[0mdriver\u001b[0m\u001b[1;33m.\u001b[0m\u001b[0mfind_element_by_css_selector\u001b[0m\u001b[1;33m(\u001b[0m\u001b[1;34m\"#dBody > div.default-section.goods-info > div.info-section > span > a\"\u001b[0m\u001b[1;33m)\u001b[0m\u001b[1;33m\u001b[0m\u001b[0m\n\u001b[0m\u001b[0;32m      2\u001b[0m \u001b[0ma\u001b[0m\u001b[1;33m\u001b[0m\u001b[0m\n",
      "\u001b[1;32mC:\\ProgramData\\Anaconda3\\envs\\python_edu\\lib\\site-packages\\selenium\\webdriver\\remote\\webdriver.py\u001b[0m in \u001b[0;36mfind_element_by_css_selector\u001b[1;34m(self, css_selector)\u001b[0m\n\u001b[0;32m    596\u001b[0m             \u001b[0melement\u001b[0m \u001b[1;33m=\u001b[0m \u001b[0mdriver\u001b[0m\u001b[1;33m.\u001b[0m\u001b[0mfind_element_by_css_selector\u001b[0m\u001b[1;33m(\u001b[0m\u001b[1;34m'#foo'\u001b[0m\u001b[1;33m)\u001b[0m\u001b[1;33m\u001b[0m\u001b[0m\n\u001b[0;32m    597\u001b[0m         \"\"\"\n\u001b[1;32m--> 598\u001b[1;33m         \u001b[1;32mreturn\u001b[0m \u001b[0mself\u001b[0m\u001b[1;33m.\u001b[0m\u001b[0mfind_element\u001b[0m\u001b[1;33m(\u001b[0m\u001b[0mby\u001b[0m\u001b[1;33m=\u001b[0m\u001b[0mBy\u001b[0m\u001b[1;33m.\u001b[0m\u001b[0mCSS_SELECTOR\u001b[0m\u001b[1;33m,\u001b[0m \u001b[0mvalue\u001b[0m\u001b[1;33m=\u001b[0m\u001b[0mcss_selector\u001b[0m\u001b[1;33m)\u001b[0m\u001b[1;33m\u001b[0m\u001b[0m\n\u001b[0m\u001b[0;32m    599\u001b[0m \u001b[1;33m\u001b[0m\u001b[0m\n\u001b[0;32m    600\u001b[0m     \u001b[1;32mdef\u001b[0m \u001b[0mfind_elements_by_css_selector\u001b[0m\u001b[1;33m(\u001b[0m\u001b[0mself\u001b[0m\u001b[1;33m,\u001b[0m \u001b[0mcss_selector\u001b[0m\u001b[1;33m)\u001b[0m\u001b[1;33m:\u001b[0m\u001b[1;33m\u001b[0m\u001b[0m\n",
      "\u001b[1;32mC:\\ProgramData\\Anaconda3\\envs\\python_edu\\lib\\site-packages\\selenium\\webdriver\\remote\\webdriver.py\u001b[0m in \u001b[0;36mfind_element\u001b[1;34m(self, by, value)\u001b[0m\n\u001b[0;32m    976\u001b[0m         return self.execute(Command.FIND_ELEMENT, {\n\u001b[0;32m    977\u001b[0m             \u001b[1;34m'using'\u001b[0m\u001b[1;33m:\u001b[0m \u001b[0mby\u001b[0m\u001b[1;33m,\u001b[0m\u001b[1;33m\u001b[0m\u001b[0m\n\u001b[1;32m--> 978\u001b[1;33m             'value': value})['value']\n\u001b[0m\u001b[0;32m    979\u001b[0m \u001b[1;33m\u001b[0m\u001b[0m\n\u001b[0;32m    980\u001b[0m     \u001b[1;32mdef\u001b[0m \u001b[0mfind_elements\u001b[0m\u001b[1;33m(\u001b[0m\u001b[0mself\u001b[0m\u001b[1;33m,\u001b[0m \u001b[0mby\u001b[0m\u001b[1;33m=\u001b[0m\u001b[0mBy\u001b[0m\u001b[1;33m.\u001b[0m\u001b[0mID\u001b[0m\u001b[1;33m,\u001b[0m \u001b[0mvalue\u001b[0m\u001b[1;33m=\u001b[0m\u001b[1;32mNone\u001b[0m\u001b[1;33m)\u001b[0m\u001b[1;33m:\u001b[0m\u001b[1;33m\u001b[0m\u001b[0m\n",
      "\u001b[1;32mC:\\ProgramData\\Anaconda3\\envs\\python_edu\\lib\\site-packages\\selenium\\webdriver\\remote\\webdriver.py\u001b[0m in \u001b[0;36mexecute\u001b[1;34m(self, driver_command, params)\u001b[0m\n\u001b[0;32m    319\u001b[0m         \u001b[0mresponse\u001b[0m \u001b[1;33m=\u001b[0m \u001b[0mself\u001b[0m\u001b[1;33m.\u001b[0m\u001b[0mcommand_executor\u001b[0m\u001b[1;33m.\u001b[0m\u001b[0mexecute\u001b[0m\u001b[1;33m(\u001b[0m\u001b[0mdriver_command\u001b[0m\u001b[1;33m,\u001b[0m \u001b[0mparams\u001b[0m\u001b[1;33m)\u001b[0m\u001b[1;33m\u001b[0m\u001b[0m\n\u001b[0;32m    320\u001b[0m         \u001b[1;32mif\u001b[0m \u001b[0mresponse\u001b[0m\u001b[1;33m:\u001b[0m\u001b[1;33m\u001b[0m\u001b[0m\n\u001b[1;32m--> 321\u001b[1;33m             \u001b[0mself\u001b[0m\u001b[1;33m.\u001b[0m\u001b[0merror_handler\u001b[0m\u001b[1;33m.\u001b[0m\u001b[0mcheck_response\u001b[0m\u001b[1;33m(\u001b[0m\u001b[0mresponse\u001b[0m\u001b[1;33m)\u001b[0m\u001b[1;33m\u001b[0m\u001b[0m\n\u001b[0m\u001b[0;32m    322\u001b[0m             response['value'] = self._unwrap_value(\n\u001b[0;32m    323\u001b[0m                 response.get('value', None))\n",
      "\u001b[1;32mC:\\ProgramData\\Anaconda3\\envs\\python_edu\\lib\\site-packages\\selenium\\webdriver\\remote\\errorhandler.py\u001b[0m in \u001b[0;36mcheck_response\u001b[1;34m(self, response)\u001b[0m\n\u001b[0;32m    240\u001b[0m                 \u001b[0malert_text\u001b[0m \u001b[1;33m=\u001b[0m \u001b[0mvalue\u001b[0m\u001b[1;33m[\u001b[0m\u001b[1;34m'alert'\u001b[0m\u001b[1;33m]\u001b[0m\u001b[1;33m.\u001b[0m\u001b[0mget\u001b[0m\u001b[1;33m(\u001b[0m\u001b[1;34m'text'\u001b[0m\u001b[1;33m)\u001b[0m\u001b[1;33m\u001b[0m\u001b[0m\n\u001b[0;32m    241\u001b[0m             \u001b[1;32mraise\u001b[0m \u001b[0mexception_class\u001b[0m\u001b[1;33m(\u001b[0m\u001b[0mmessage\u001b[0m\u001b[1;33m,\u001b[0m \u001b[0mscreen\u001b[0m\u001b[1;33m,\u001b[0m \u001b[0mstacktrace\u001b[0m\u001b[1;33m,\u001b[0m \u001b[0malert_text\u001b[0m\u001b[1;33m)\u001b[0m\u001b[1;33m\u001b[0m\u001b[0m\n\u001b[1;32m--> 242\u001b[1;33m         \u001b[1;32mraise\u001b[0m \u001b[0mexception_class\u001b[0m\u001b[1;33m(\u001b[0m\u001b[0mmessage\u001b[0m\u001b[1;33m,\u001b[0m \u001b[0mscreen\u001b[0m\u001b[1;33m,\u001b[0m \u001b[0mstacktrace\u001b[0m\u001b[1;33m)\u001b[0m\u001b[1;33m\u001b[0m\u001b[0m\n\u001b[0m\u001b[0;32m    243\u001b[0m \u001b[1;33m\u001b[0m\u001b[0m\n\u001b[0;32m    244\u001b[0m     \u001b[1;32mdef\u001b[0m \u001b[0m_value_or_default\u001b[0m\u001b[1;33m(\u001b[0m\u001b[0mself\u001b[0m\u001b[1;33m,\u001b[0m \u001b[0mobj\u001b[0m\u001b[1;33m,\u001b[0m \u001b[0mkey\u001b[0m\u001b[1;33m,\u001b[0m \u001b[0mdefault\u001b[0m\u001b[1;33m)\u001b[0m\u001b[1;33m:\u001b[0m\u001b[1;33m\u001b[0m\u001b[0m\n",
      "\u001b[1;31mNoSuchElementException\u001b[0m: Message: no such element: Unable to locate element: {\"method\":\"css selector\",\"selector\":\"#dBody > div.default-section.goods-info > div.info-section > span > a\"}\n  (Session info: chrome=75.0.3770.100)\n  (Driver info: chromedriver=2.42.591088 (7b2b2dca23cca0862f674758c9a3933e685c27d5),platform=Windows NT 10.0.17763 x86_64)\n"
     ]
    }
   ],
   "source": [
    "a = driver.find_element_by_css_selector(\"#dBody > div.default-section.goods-info > div.info-section > span > a\")\n",
    "a"
   ]
  },
  {
   "cell_type": "code",
   "execution_count": null,
   "metadata": {},
   "outputs": [],
   "source": []
  }
 ],
 "metadata": {
  "kernelspec": {
   "display_name": "Python 3",
   "language": "python",
   "name": "python3"
  },
  "language_info": {
   "codemirror_mode": {
    "name": "ipython",
    "version": 3
   },
   "file_extension": ".py",
   "mimetype": "text/x-python",
   "name": "python",
   "nbconvert_exporter": "python",
   "pygments_lexer": "ipython3",
   "version": "3.7.3"
  }
 },
 "nbformat": 4,
 "nbformat_minor": 2
}
