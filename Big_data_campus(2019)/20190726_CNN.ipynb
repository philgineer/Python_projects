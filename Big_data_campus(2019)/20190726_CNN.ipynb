{
 "cells": [
  {
   "cell_type": "code",
   "execution_count": 1,
   "metadata": {},
   "outputs": [],
   "source": [
    "import tensorflow as tf\n",
    "from tensorflow import keras\n",
    "from tensorflow.keras.utils import to_categorical\n",
    "import numpy as np\n",
    "import matplotlib.pyplot as plt\n",
    "import os"
   ]
  },
  {
   "cell_type": "code",
   "execution_count": 2,
   "metadata": {},
   "outputs": [
    {
     "name": "stdout",
     "output_type": "stream",
     "text": [
      "1.13.1\n",
      "2.2.4-tf\n"
     ]
    }
   ],
   "source": [
    "tf.enable_eager_execution()\n",
    "print(tf.__version__)\n",
    "print(keras.__version__)"
   ]
  },
  {
   "cell_type": "code",
   "execution_count": 4,
   "metadata": {
    "scrolled": true
   },
   "outputs": [
    {
     "name": "stdout",
     "output_type": "stream",
     "text": [
      "WARNING:tensorflow:From <ipython-input-4-ad63f48a193f>:2: read_data_sets (from tensorflow.contrib.learn.python.learn.datasets.mnist) is deprecated and will be removed in a future version.\n",
      "Instructions for updating:\n",
      "Please use alternatives such as official/mnist/dataset.py from tensorflow/models.\n",
      "WARNING:tensorflow:From C:\\ProgramData\\Anaconda3\\envs\\ml\\lib\\site-packages\\tensorflow\\contrib\\learn\\python\\learn\\datasets\\mnist.py:260: maybe_download (from tensorflow.contrib.learn.python.learn.datasets.base) is deprecated and will be removed in a future version.\n",
      "Instructions for updating:\n",
      "Please write your own downloading logic.\n",
      "WARNING:tensorflow:From C:\\ProgramData\\Anaconda3\\envs\\ml\\lib\\site-packages\\tensorflow\\contrib\\learn\\python\\learn\\datasets\\mnist.py:262: extract_images (from tensorflow.contrib.learn.python.learn.datasets.mnist) is deprecated and will be removed in a future version.\n",
      "Instructions for updating:\n",
      "Please use tf.data to implement this functionality.\n",
      "Extracting ./mnist/data\\train-images-idx3-ubyte.gz\n",
      "WARNING:tensorflow:From C:\\ProgramData\\Anaconda3\\envs\\ml\\lib\\site-packages\\tensorflow\\contrib\\learn\\python\\learn\\datasets\\mnist.py:267: extract_labels (from tensorflow.contrib.learn.python.learn.datasets.mnist) is deprecated and will be removed in a future version.\n",
      "Instructions for updating:\n",
      "Please use tf.data to implement this functionality.\n",
      "Extracting ./mnist/data\\train-labels-idx1-ubyte.gz\n",
      "WARNING:tensorflow:From C:\\ProgramData\\Anaconda3\\envs\\ml\\lib\\site-packages\\tensorflow\\contrib\\learn\\python\\learn\\datasets\\mnist.py:110: dense_to_one_hot (from tensorflow.contrib.learn.python.learn.datasets.mnist) is deprecated and will be removed in a future version.\n",
      "Instructions for updating:\n",
      "Please use tf.one_hot on tensors.\n",
      "Extracting ./mnist/data\\t10k-images-idx3-ubyte.gz\n",
      "Extracting ./mnist/data\\t10k-labels-idx1-ubyte.gz\n",
      "WARNING:tensorflow:From C:\\ProgramData\\Anaconda3\\envs\\ml\\lib\\site-packages\\tensorflow\\contrib\\learn\\python\\learn\\datasets\\mnist.py:290: DataSet.__init__ (from tensorflow.contrib.learn.python.learn.datasets.mnist) is deprecated and will be removed in a future version.\n",
      "Instructions for updating:\n",
      "Please use alternatives such as official/mnist/dataset.py from tensorflow/models.\n"
     ]
    }
   ],
   "source": [
    "from tensorflow.examples.tutorials.mnist import input_data\n",
    "mnist = input_data.read_data_sets('./mnist/data', one_hot = True)"
   ]
  },
  {
   "cell_type": "code",
   "execution_count": 9,
   "metadata": {},
   "outputs": [],
   "source": [
    "def create_model():\n",
    "    model = keras.Sequential()\n",
    "    model.add(keras.layers.Conv2D(filters=32, kernel_size=3,\n",
    "                                  activation=tf.nn.relu, input_shape=(28, 28, 1)))\n",
    "    model.add(keras.layers.Conv2D(filters=64, kernel_size=3, activation=tf.nn.relu))\n",
    "    model.add(keras.layers.MaxPool2D(pool_size=2))\n",
    "    model.add(keras.layers.Dropout(0.25))\n",
    "    model.add(keras.layers.Flatten())\n",
    "    model.add(keras.layers.Dense(128, activation=tf.nn.relu))\n",
    "    model.add(keras.layers.Dropout(0.5))\n",
    "    model.add(keras.layers.Dense(10, activation=tf.nn.softmax))  #여긴 default가 softmax므로 없어도 됨\n",
    "    return model"
   ]
  },
  {
   "cell_type": "code",
   "execution_count": 10,
   "metadata": {},
   "outputs": [
    {
     "name": "stdout",
     "output_type": "stream",
     "text": [
      "_________________________________________________________________\n",
      "Layer (type)                 Output Shape              Param #   \n",
      "=================================================================\n",
      "conv2d_2 (Conv2D)            (None, 26, 26, 32)        320       \n",
      "_________________________________________________________________\n",
      "conv2d_3 (Conv2D)            (None, 24, 24, 64)        18496     \n",
      "_________________________________________________________________\n",
      "max_pooling2d_1 (MaxPooling2 (None, 12, 12, 64)        0         \n",
      "_________________________________________________________________\n",
      "dropout_1 (Dropout)          (None, 12, 12, 64)        0         \n",
      "_________________________________________________________________\n",
      "flatten_1 (Flatten)          (None, 9216)              0         \n",
      "_________________________________________________________________\n",
      "dense (Dense)                (None, 128)               1179776   \n",
      "_________________________________________________________________\n",
      "dropout_2 (Dropout)          (None, 128)               0         \n",
      "_________________________________________________________________\n",
      "dense_1 (Dense)              (None, 10)                1290      \n",
      "=================================================================\n",
      "Total params: 1,199,882\n",
      "Trainable params: 1,199,882\n",
      "Non-trainable params: 0\n",
      "_________________________________________________________________\n"
     ]
    }
   ],
   "source": [
    "model = create_model()\n",
    "model.summary()"
   ]
  },
  {
   "cell_type": "code",
   "execution_count": 14,
   "metadata": {},
   "outputs": [],
   "source": [
    "# ( , , , 32) 320 나오는 이유: 32개 X 10 (필터의 값인 W가 9개 + bias값!)\n",
    "# bias가 있는 이유: 전부 0에 가까워 0 되는 걸 방지하기 위해 1(에 가까운) b값 있음 (tensorflow)"
   ]
  },
  {
   "cell_type": "code",
   "execution_count": 15,
   "metadata": {},
   "outputs": [],
   "source": [
    "optimizer = tf.train.AdamOptimizer(0.001)  # 가중치를 자동으로 수정하는 optimizer 객체 생성"
   ]
  },
  {
   "cell_type": "code",
   "execution_count": 16,
   "metadata": {},
   "outputs": [
    {
     "name": "stdout",
     "output_type": "stream",
     "text": [
      "total_batch 550\n"
     ]
    }
   ],
   "source": [
    "batch_size = 100\n",
    "total_batch = int(mnist.train.num_examples / batch_size)\n",
    "print('total_batch', total_batch)"
   ]
  },
  {
   "cell_type": "code",
   "execution_count": 19,
   "metadata": {},
   "outputs": [
    {
     "name": "stdout",
     "output_type": "stream",
     "text": [
      "step: 0 Loss: 1.5721 accuracy: 0.8949\n",
      "step: 1 Loss: 1.5034 accuracy: 0.9589\n",
      "step: 2 Loss: 1.4938 accuracy: 0.9684\n",
      "step: 3 Loss: 1.4887 accuracy: 0.9731\n",
      "step: 4 Loss: 1.4867 accuracy: 0.9748\n",
      "step: 5 Loss: 1.4841 accuracy: 0.9775\n",
      "step: 6 Loss: 1.4827 accuracy: 0.9789\n",
      "step: 7 Loss: 1.4812 accuracy: 0.9802\n",
      "step: 8 Loss: 1.4806 accuracy: 0.9807\n",
      "step: 9 Loss: 1.4802 accuracy: 0.9811\n"
     ]
    }
   ],
   "source": [
    "for step in range(10):\n",
    "    total_cost = 0\n",
    "    total_accuracy = 0\n",
    "    \n",
    "    # tf mnist 모델의 next_batch함수 이용해, 지정한 100개 크기만큼 이미지 -> X, 결과 -> Y 대입\n",
    "    for i in range(total_batch):\n",
    "        X, Y = mnist.train.next_batch(batch_size)\n",
    "        X = X.reshape(-1, 28, 28, 1)\n",
    "        \n",
    "        with tf.GradientTape() as tape:\n",
    "            \n",
    "            #X에 저장된 이미지 정보를 입력으로 CNN 모델 실행, 분류 결과 hypothesis에 저장\n",
    "            hypothesis = model(X, training=True)  #train이므로 true. 나중에 test 떄는 false\n",
    "            \n",
    "            # 로지스틱 회귀식의 오차 계산식 -> cost에 대입, tf에서 자동으로 오차 가장 적게하는 가중치\n",
    "            cost = tf.reduce_mean(tf.nn.softmax_cross_entropy_with_logits_v2(logits=\n",
    "                                                                            hypothesis,\n",
    "                                                                            labels=Y))\n",
    "            grads = tape.gradient(cost, model.variables)  # 가중치 값들을 리턴\n",
    "            \n",
    "        optimizer.apply_gradients(zip(grads, model.variables)) # 오차 최소화 되도록 가중치 수정\n",
    "        total_cost += cost\n",
    "        correct_prediction = tf. equal(tf.argmax(hypothesis, 1), tf.argmax(Y, 1))\n",
    "        accuracy = tf.reduce_mean(tf.cast(correct_prediction, tf.float32))\n",
    "        total_accuracy += accuracy\n",
    "        \n",
    "    print('step: {} Loss: {:.4f} accuracy: {:.4f}'.format(step, total_cost/total_batch,\n",
    "                                                          total_accuracy/total_batch))"
   ]
  },
  {
   "cell_type": "code",
   "execution_count": 22,
   "metadata": {},
   "outputs": [
    {
     "name": "stdout",
     "output_type": "stream",
     "text": [
      "tf.Tensor(\n",
      "[[0.00000000e+00 0.00000000e+00 0.00000000e+00 ... 1.00000000e+00\n",
      "  0.00000000e+00 0.00000000e+00]\n",
      " [9.03743934e-34 2.36393986e-28 1.00000000e+00 ... 0.00000000e+00\n",
      "  3.12046143e-31 0.00000000e+00]\n",
      " [1.42186640e-23 1.00000000e+00 2.18034813e-21 ... 7.74200840e-23\n",
      "  1.70684099e-24 3.03850695e-30]\n",
      " ...\n",
      " [0.00000000e+00 8.02462691e-31 1.95457920e-35 ... 9.36569813e-28\n",
      "  2.50336694e-23 2.00378897e-26]\n",
      " [6.68378471e-31 3.14246131e-26 0.00000000e+00 ... 1.01445564e-35\n",
      "  5.80568823e-16 1.77818647e-26]\n",
      " [1.95772127e-27 2.40703414e-37 4.79076837e-33 ... 0.00000000e+00\n",
      "  5.92621162e-29 0.00000000e+00]], shape=(10000, 10), dtype=float32)\n",
      "========================================\n",
      "========================================\n",
      "[[0. 0. 0. ... 1. 0. 0.]\n",
      " [0. 0. 1. ... 0. 0. 0.]\n",
      " [0. 1. 0. ... 0. 0. 0.]\n",
      " ...\n",
      " [0. 0. 0. ... 0. 0. 0.]\n",
      " [0. 0. 0. ... 0. 0. 0.]\n",
      " [0. 0. 0. ... 0. 0. 0.]]\n",
      "========================================\n",
      "tf.Tensor([7 2 1 ... 4 5 6], shape=(10000,), dtype=int64)\n"
     ]
    }
   ],
   "source": [
    "test_images = mnist.test.images\n",
    "test_images = test_images.reshape(-1, 28, 28, 1)\n",
    "test_labels = mnist.test.labels\n",
    "\n",
    "predict = model(test_images, training=False)\n",
    "\n",
    "print(predict)\n",
    "# 이미지 각각에서 0~9에 해당하는 확률 저장되어 있음(0번째 col에는 이미지가 0일 확률, 1번째 col에도...)\n",
    "\n",
    "print('='*40)\n",
    "predict = tf.argmax(predict, 1)\n",
    "\n",
    "\n",
    "print('='*40)\n",
    "print(test_labels) # one hot encoding으로 저장되어 있음 (000000100 등)\n",
    "\n",
    "test_labels = tf.argmax(test_labels, 1) # 최대값 1이 저장된 col의 index를 test_label에 대입\n",
    "\n",
    "print('='*40)\n",
    "print(test_labels)"
   ]
  },
  {
   "cell_type": "code",
   "execution_count": 23,
   "metadata": {},
   "outputs": [
    {
     "data": {
      "image/png": "[encoded data removed]",
      "text/plain": [
       "<Figure size 432x288 with 10 Axes>"
      ]
     },
     "metadata": {},
     "output_type": "display_data"
    }
   ],
   "source": [
    "fig = plt.figure()\n",
    "for i in range(10):\n",
    "    subplot = fig.add_subplot(2, 5, i+1)\n",
    "    subplot.set_xticks([])\n",
    "    subplot.set_yticks([])\n",
    "    subplot.set_title('predict: %d' %predict[i])\n",
    "    subplot.imshow(mnist.test.images[i].reshape((28,28)),\n",
    "                   cmap=plt.cm.gray_r)\n",
    "plt.show()"
   ]
  },
  {
   "cell_type": "code",
   "execution_count": null,
   "metadata": {},
   "outputs": [],
   "source": []
  }
 ],
 "metadata": {
  "kernelspec": {
   "display_name": "Python 3",
   "language": "python",
   "name": "python3"
  },
  "language_info": {
   "codemirror_mode": {
    "name": "ipython",
    "version": 3
   },
   "file_extension": ".py",
   "mimetype": "text/x-python",
   "name": "python",
   "nbconvert_exporter": "python",
   "pygments_lexer": "ipython3",
   "version": "3.6.8"
  }
 },
 "nbformat": 4,
 "nbformat_minor": 2
}
