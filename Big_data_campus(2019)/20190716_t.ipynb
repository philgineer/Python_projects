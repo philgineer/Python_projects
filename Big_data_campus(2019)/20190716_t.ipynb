{
 "cells": [
  {
   "cell_type": "code",
   "execution_count": 1,
   "metadata": {},
   "outputs": [],
   "source": [
    "from selenium import webdriver \n",
    "from bs4 import BeautifulSoup \n",
    "from selenium.webdriver.common.by import By\n",
    "# 명시적 대기를 위해 \n",
    "from selenium.webdriver.support.ui import WebDriverWait\n",
    "from selenium.webdriver.support import expected_conditions as EC\n",
    "import time"
   ]
  },
  {
   "cell_type": "code",
   "execution_count": null,
   "metadata": {},
   "outputs": [],
   "source": [
    "main_url = 'http://tour.interpark.com/'\n",
    "keyword  = input(\"키워드 입력: \")\n",
    "driver = webdriver.Chrome(executable_path='C:/python_edu/program/chromedriver.exe')\n",
    "driver.get(main_url)\n",
    "# 검색창을 찾아서 검색어 입력\n",
    "# id : SearchGNBText\n",
    "driver.find_element_by_id('SearchGNBText').send_keys(keyword)\n",
    "driver.find_element_by_css_selector('button.search-btn').click()\n",
    "time.sleep(5)\n",
    "driver.find_element_by_css_selector('.oTravelBox>.boxList>.moreBtnWrap>.moreBtn').click()\n",
    "time.sleep(5)\n",
    "totalCount = driver.find_element_by_css_selector('#totalAllCnt')\n",
    "print(\"검색 결과:\", totalCount.text)\n",
    "totalCount = int(totalCount.text.replace(\",\",\"\"))\n",
    "totalPage =  (totalCount//10)+1\n",
    "totalPage"
   ]
  },
  {
   "cell_type": "code",
   "execution_count": 2,
   "metadata": {},
   "outputs": [],
   "source": [
    "# 상품 정보를 담는 클레스\n",
    "class TourInfo:\n",
    "    # 맴버변수 (실제 컬럼보다는 작게 세팅했음)\n",
    "    title = ''\n",
    "    price = ''\n",
    "    info  = ''\n",
    "    link  = ''\n",
    "    img   = ''\n",
    "    contents = ''\n",
    "    # 생성자\n",
    "    def __init__(self, title, price, info, link, img, contents=None ):\n",
    "        self.title = title\n",
    "        self.price = price\n",
    "        self.info  = info\n",
    "        self.link  = link\n",
    "        self.img   = img\n",
    "        self.contents = contents\n",
    "        \n",
    "# 상품 정보를 담는 리스트 (TourInfo 리스트)\n",
    "tour_list = []"
   ]
  },
  {
   "cell_type": "code",
   "execution_count": null,
   "metadata": {},
   "outputs": [],
   "source": [
    "for page in range(1, 3):\n",
    "    try:\n",
    "        # 자바스크립트 구동하기\n",
    "        driver.execute_script(\"searchModule.SetCategoryList(%s, '')\" % page)\n",
    "        time.sleep(2)\n",
    "        print(\"%s 페이지 이동\" % page)\n",
    "        \n",
    "        boxItems = driver.find_elements_by_css_selector('.oTravelBox>.boxList>li')\n",
    "        # 상품 하나 하나 접근\n",
    "        for li in boxItems:\n",
    "            img = li.find_element_by_css_selector('img').get_attribute('src') \n",
    "            link = li.find_element_by_css_selector('a').get_attribute('onclick')\n",
    "            title = li.find_element_by_css_selector('h5.proTit').text \n",
    "            comment = li.find_element_by_css_selector('.proSub').text \n",
    "            price =   li.find_element_by_css_selector('.proPrice').text \n",
    "            info = ''\n",
    "            for proinfo in li.find_elements_by_css_selector('.info-row .proInfo'):\n",
    "                info+=proinfo.text+\"\\n\"\n",
    "            \n",
    "            print(\"title:%s\\nlink:%s\\nimg:%s\\ncomment:%s\\nprice:%s\\ninfo:%s\" % (title, link, img, comment, price, info))\n",
    "            print('='*100)\n",
    "            obj = TourInfo(  \n",
    "                title,\n",
    "                price,\n",
    "                info,\n",
    "                link,\n",
    "                img\n",
    "            )\n",
    "            tour_list.append( obj )\n",
    "    except Exception as e1:\n",
    "        print( '오류', e1 )"
   ]
  },
  {
   "cell_type": "code",
   "execution_count": null,
   "metadata": {},
   "outputs": [],
   "source": [
    "print(len(tour_list) )"
   ]
  },
  {
   "cell_type": "code",
   "execution_count": null,
   "metadata": {},
   "outputs": [],
   "source": [
    "tour_list[0]"
   ]
  },
  {
   "cell_type": "code",
   "execution_count": null,
   "metadata": {},
   "outputs": [],
   "source": [
    "from selenium.webdriver.common.alert import Alert\n",
    "for tour in tour_list:\n",
    "    arr = tour.link.split(',')\n",
    "    if arr:\n",
    "        # 대체\n",
    "        link = arr[0].replace('searchModule.OnClickDetail(','')\n",
    "        # 슬라이싱 => 앞에 ', 뒤에 ' 제거\n",
    "        detail_url = link[1:-1]\n",
    "        try:\n",
    "            # 상세 페이지 이동 : URL 값이 완성된 형태인지 확인 (http~)\n",
    "            driver.get( detail_url )\n",
    "            time.sleep(2)\n",
    "            driver.execute_script(\"MovingPoint('CM')\")\n",
    "            time.sleep(2)\n",
    "\n",
    "            comment_count = driver.find_element_by_css_selector('#hddGoodsEvalCnt').get_attribute(\"value\")\n",
    "            print(comment_count)\n",
    "            comment_count = int(comment_count)\n",
    "           \n",
    "            tits = driver.find_elements_by_css_selector('div.article strong.tit')\n",
    "            grades = driver.find_elements_by_css_selector('div.article span.grade')\n",
    "            soup = BeautifulSoup( driver.page_source, 'html.parser')\n",
    "            txt = soup.select(\"div.article div.cont\")\n",
    "\n",
    "\n",
    "            for i in range(0, len(tits)):\n",
    "                ctitle = tits[i].text\n",
    "                cgrade = grades[i].text\n",
    "                ctxts = txt[i].select(\"p\")\n",
    "                ctx=\"\"\n",
    "                for i in range(0, len(ctxts)):\n",
    "                     ctx+=str(ctxts[i]).replace(\"<p>\",\"\").replace(\"</p>\",\"\")\n",
    "                print(\"title:%s\\nrank:%s\\nctxts:%s\" %(ctitle,cgrade,ctx))\n",
    "            \n",
    "            \n",
    "        except Exception as e:\n",
    "            print(e)\n",
    "            Alert(driver).accept()\n",
    "            timer.sleep(3)"
   ]
  }
 ],
 "metadata": {
  "kernelspec": {
   "display_name": "Python 3",
   "language": "python",
   "name": "python3"
  },
  "language_info": {
   "codemirror_mode": {
    "name": "ipython",
    "version": 3
   },
   "file_extension": ".py",
   "mimetype": "text/x-python",
   "name": "python",
   "nbconvert_exporter": "python",
   "pygments_lexer": "ipython3",
   "version": "3.5.6"
  }
 },
 "nbformat": 4,
 "nbformat_minor": 2
}
