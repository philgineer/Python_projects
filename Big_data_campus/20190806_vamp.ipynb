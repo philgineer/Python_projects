{
 "cells": [
  {
   "cell_type": "code",
   "execution_count": 1,
   "metadata": {},
   "outputs": [
    {
     "name": "stderr",
     "output_type": "stream",
     "text": [
      "usage: ipykernel_launcher.py [-h] [--smooth SMOOTH]\n",
      "                             [--minduration MINDURATION] [--jams]\n",
      "                             infile outfile bpm\n",
      "ipykernel_launcher.py: error: the following arguments are required: outfile, bpm\n"
     ]
    },
    {
     "ename": "SystemExit",
     "evalue": "2",
     "output_type": "error",
     "traceback": [
      "An exception has occurred, use %tb to see the full traceback.\n",
      "\u001b[1;31mSystemExit\u001b[0m\u001b[1;31m:\u001b[0m 2\n"
     ]
    },
    {
     "name": "stderr",
     "output_type": "stream",
     "text": [
      "C:\\ProgramData\\Anaconda3\\envs\\ml\\lib\\site-packages\\IPython\\core\\interactiveshell.py:3299: UserWarning: To exit: use 'exit', 'quit', or Ctrl-D.\n",
      "  warn(\"To exit: use 'exit', 'quit', or Ctrl-D.\", stacklevel=1)\n"
     ]
    }
   ],
   "source": [
    "# CREATED: 11/9/15 3:57 PM by Justin Salamon <justin.salamon@nyu.edu>\n",
    "\n",
    "import soundfile\n",
    "import resampy\n",
    "import vamp\n",
    "import argparse\n",
    "import os\n",
    "import numpy as np\n",
    "from midiutil.MidiFile import MIDIFile\n",
    "from scipy.signal import medfilt\n",
    "import jams\n",
    "import __init__\n",
    "\n",
    "'''\n",
    "Extract the melody from an audio file and convert it to MIDI.\n",
    "The script extracts the melody from an audio file using the Melodia algorithm,\n",
    "and then segments the continuous pitch sequence into a series of quantized\n",
    "notes, and exports to MIDI using the provided BPM. If the --jams option is\n",
    "specified the script will also save the output as a JAMS file. Note that the\n",
    "JAMS file uses the original note onset/offset times estimated by the algorithm\n",
    "and ignores the provided BPM value.\n",
    "Note: Melodia can work pretty well and is the result of several years of\n",
    "research. The note segmentation/quantization code was hacked in about 30\n",
    "minutes. Proceed at your own risk... :)\n",
    "usage: audio_to_midi_melodia.py [-h] [--smooth SMOOTH]\n",
    "                                [--minduration MINDURATION] [--jams]\n",
    "                                infile outfile bpm\n",
    "Examples:\n",
    "python audio_to_midi_melodia.py --smooth 0.25 --minduration 0.1 --jams\n",
    "                                ~/song.wav ~/song.mid 60\n",
    "'''\n",
    "\n",
    "\n",
    "def save_jams(jamsfile, notes, track_duration, orig_filename):\n",
    "\n",
    "    # Construct a new JAMS object and annotation records\n",
    "    jam = jams.JAMS()\n",
    "\n",
    "    # Store the track duration\n",
    "    jam.file_metadata.duration = track_duration\n",
    "    jam.file_metadata.title = orig_filename\n",
    "\n",
    "    midi_an = jams.Annotation(namespace='pitch_midi',\n",
    "                              duration=track_duration)\n",
    "    midi_an.annotation_metadata = \\\n",
    "        jams.AnnotationMetadata(\n",
    "            data_source='audio_to_midi_melodia.py v%s' % __init__.__version__,\n",
    "            annotation_tools='audio_to_midi_melodia.py (https://github.com/'\n",
    "                             'justinsalamon/audio_to_midi_melodia)')\n",
    "\n",
    "    # Add midi notes to the annotation record.\n",
    "    for n in notes:\n",
    "        midi_an.append(time=n[0], duration=n[1], value=n[2], confidence=0)\n",
    "\n",
    "    # Store the new annotation in the jam\n",
    "    jam.annotations.append(midi_an)\n",
    "\n",
    "    # Save to disk\n",
    "    jam.save(jamsfile)\n",
    "\n",
    "\n",
    "def save_midi(outfile, notes, tempo):\n",
    "\n",
    "    track = 0\n",
    "    time = 0\n",
    "    midifile = MIDIFile(1)\n",
    "\n",
    "    # Add track name and tempo.\n",
    "    midifile.addTrackName(track, time, \"MIDI TRACK\")\n",
    "    midifile.addTempo(track, time, tempo)\n",
    "\n",
    "    channel = 0\n",
    "    volume = 100\n",
    "\n",
    "    for note in notes:\n",
    "        onset = note[0] * (tempo/60.)\n",
    "        duration = note[1] * (tempo/60.)\n",
    "        # duration = 1\n",
    "        pitch = note[2]\n",
    "        midifile.addNote(track, channel, pitch, onset, duration, volume)\n",
    "\n",
    "    # And write it to disk.\n",
    "    binfile = open(outfile, 'wb')\n",
    "    midifile.writeFile(binfile)\n",
    "    binfile.close()\n",
    "\n",
    "\n",
    "def midi_to_notes(midi, fs, hop, smooth, minduration):\n",
    "\n",
    "    # smooth midi pitch sequence first\n",
    "    if (smooth > 0):\n",
    "        filter_duration = smooth  # in seconds\n",
    "        filter_size = int(filter_duration * fs / float(hop))\n",
    "        if filter_size % 2 == 0:\n",
    "            filter_size += 1\n",
    "        midi_filt = medfilt(midi, filter_size)\n",
    "    else:\n",
    "        midi_filt = midi\n",
    "    # print(len(midi),len(midi_filt))\n",
    "\n",
    "    notes = []\n",
    "    p_prev = None\n",
    "    duration = 0\n",
    "    onset = 0\n",
    "    for n, p in enumerate(midi_filt):\n",
    "        if p == p_prev:\n",
    "            duration += 1\n",
    "        else:\n",
    "            # treat 0 as silence\n",
    "            if p_prev > 0:\n",
    "                # add note\n",
    "                duration_sec = duration * hop / float(fs)\n",
    "                # only add notes that are long enough\n",
    "                if duration_sec >= minduration:\n",
    "                    onset_sec = onset * hop / float(fs)\n",
    "                    notes.append((onset_sec, duration_sec, p_prev))\n",
    "\n",
    "            # start new note\n",
    "            onset = n\n",
    "            duration = 1\n",
    "            p_prev = p\n",
    "\n",
    "    # add last note\n",
    "    if p_prev > 0:\n",
    "        # add note\n",
    "        duration_sec = duration * hop / float(fs)\n",
    "        onset_sec = onset * hop / float(fs)\n",
    "        notes.append((onset_sec, duration_sec, p_prev))\n",
    "\n",
    "    return notes\n",
    "\n",
    "\n",
    "def hz2midi(hz):\n",
    "\n",
    "    # convert from Hz to midi note\n",
    "    hz_nonneg = hz.copy()\n",
    "    idx = hz_nonneg <= 0\n",
    "    hz_nonneg[idx] = 1\n",
    "    midi = 69 + 12*np.log2(hz_nonneg/440.)\n",
    "    midi[idx] = 0\n",
    "\n",
    "    # round\n",
    "    midi = np.round(midi)\n",
    "\n",
    "    return midi\n",
    "\n",
    "\n",
    "def audio_to_midi_melodia(infile, outfile, bpm, smooth=0.25, minduration=0.1,\n",
    "                          savejams=False):\n",
    "\n",
    "    # define analysis parameters\n",
    "    fs = 44100\n",
    "    hop = 128\n",
    "\n",
    "    # load audio using librosa\n",
    "    print(\"Loading audio...\")\n",
    "    data, sr = soundfile.read(infile)\n",
    "    # mixdown to mono if needed\n",
    "    if len(data.shape) > 1 and data.shape[1] > 1:\n",
    "        data = data.mean(axis=1)\n",
    "    # resample to 44100 if needed\n",
    "    if sr != fs:\n",
    "        data = resampy.resample(data, sr, fs)\n",
    "        sr = fs\n",
    "\n",
    "    # extract melody using melodia vamp plugin\n",
    "    print(\"Extracting melody f0 with MELODIA...\")\n",
    "    melody = vamp.collect(data, sr, \"mtg-melodia:melodia\",\n",
    "                          parameters={\"voicing\": 0.2})\n",
    "\n",
    "    # hop = melody['vector'][0]\n",
    "    pitch = melody['vector'][1]\n",
    "\n",
    "    # impute missing 0's to compensate for starting timestamp\n",
    "    pitch = np.insert(pitch, 0, [0]*8)\n",
    "\n",
    "    # debug\n",
    "    # np.asarray(pitch).dump('f0.npy')\n",
    "    # print(len(pitch))\n",
    "\n",
    "    # convert f0 to midi notes\n",
    "    print(\"Converting Hz to MIDI notes...\")\n",
    "    midi_pitch = hz2midi(pitch)\n",
    "\n",
    "    # segment sequence into individual midi notes\n",
    "    notes = midi_to_notes(midi_pitch, fs, hop, smooth, minduration)\n",
    "\n",
    "    # save note sequence to a midi file\n",
    "    print(\"Saving MIDI to disk...\")\n",
    "    save_midi(outfile, notes, bpm)\n",
    "\n",
    "    if savejams:\n",
    "        print(\"Saving JAMS to disk...\")\n",
    "        jamsfile = os.path.splitext(outfile)[0] + \".jams\"\n",
    "        track_duration = len(data) / float(fs)\n",
    "        save_jams(jamsfile, notes, track_duration, os.path.basename(infile))\n",
    "\n",
    "    print(\"Conversion complete.\")\n",
    "\n",
    "\n",
    "if __name__ == \"__main__\":\n",
    "\n",
    "    parser = argparse.ArgumentParser()\n",
    "    parser.add_argument(\"infile\", help=\"Path to input audio file.\")\n",
    "    parser.add_argument(\"outfile\", help=\"Path for saving output MIDI file.\")\n",
    "    parser.add_argument(\"bpm\", type=int, help=\"Tempo of the track in BPM.\")\n",
    "    parser.add_argument(\"--smooth\", type=float, default=0.25,\n",
    "                        help=\"Smooth the pitch sequence with a median filter \"\n",
    "                             \"of the provided duration (in seconds).\")\n",
    "    parser.add_argument(\"--minduration\", type=float, default=0.1,\n",
    "                        help=\"Minimum allowed duration for note (in seconds). \"\n",
    "                             \"Shorter notes will be removed.\")\n",
    "    parser.add_argument(\"--jams\", action=\"store_const\", const=True,\n",
    "                        default=False, help=\"Also save output in JAMS format.\")\n",
    "\n",
    "    args = parser.parse_args()\n",
    "\n",
    "    audio_to_midi_melodia(args.infile, args.outfile, args.bpm,\n",
    "                          smooth=args.smooth, minduration=args.minduration,\n",
    "                          savejams=args.jams)"
   ]
  },
  {
   "cell_type": "code",
   "execution_count": 4,
   "metadata": {},
   "outputs": [],
   "source": [
    "import git\n",
    "from git import Repo"
   ]
  },
  {
   "cell_type": "code",
   "execution_count": 9,
   "metadata": {},
   "outputs": [
    {
     "ename": "SyntaxError",
     "evalue": "(unicode error) 'unicodeescape' codec can't decode bytes in position 2-3: truncated \\UXXXXXXXX escape (<ipython-input-9-5f3afdae4692>, line 1)",
     "output_type": "error",
     "traceback": [
      "\u001b[1;36m  File \u001b[1;32m\"<ipython-input-9-5f3afdae4692>\"\u001b[1;36m, line \u001b[1;32m1\u001b[0m\n\u001b[1;33m    Repo.clone_from('https://github.com/justinsalamon/audio_to_midi_melodia.py', 'C:\\Users\\Junho')\u001b[0m\n\u001b[1;37m                                                                                ^\u001b[0m\n\u001b[1;31mSyntaxError\u001b[0m\u001b[1;31m:\u001b[0m (unicode error) 'unicodeescape' codec can't decode bytes in position 2-3: truncated \\UXXXXXXXX escape\n"
     ]
    }
   ],
   "source": [
    "Repo.clone_from('https://github.com/justinsalamon/audio_to_midi_melodia.py', 'C:\\Users\\Junho')"
   ]
  },
  {
   "cell_type": "code",
   "execution_count": 2,
   "metadata": {},
   "outputs": [
    {
     "name": "stdout",
     "output_type": "stream",
     "text": [
      "Loading audio...\n",
      "Extracting melody f0 with MELODIA...\n"
     ]
    },
    {
     "ename": "TypeError",
     "evalue": "Failed to load plugin: mtg-melodia:melodia",
     "output_type": "error",
     "traceback": [
      "\u001b[1;31m---------------------------------------------------------------------------\u001b[0m",
      "\u001b[1;31mTypeError\u001b[0m                                 Traceback (most recent call last)",
      "\u001b[1;32m<ipython-input-2-d223353bc095>\u001b[0m in \u001b[0;36m<module>\u001b[1;34m\u001b[0m\n\u001b[0;32m      1\u001b[0m audio_to_midi_melodia('chopin.wav', 'chopin.midi', 80, smooth=0.25, minduration=0.1,\n\u001b[1;32m----> 2\u001b[1;33m                           savejams=True)\n\u001b[0m",
      "\u001b[1;32m<ipython-input-1-c2fc4c475d1d>\u001b[0m in \u001b[0;36maudio_to_midi_melodia\u001b[1;34m(infile, outfile, bpm, smooth, minduration, savejams)\u001b[0m\n\u001b[0;32m    167\u001b[0m     \u001b[0mprint\u001b[0m\u001b[1;33m(\u001b[0m\u001b[1;34m\"Extracting melody f0 with MELODIA...\"\u001b[0m\u001b[1;33m)\u001b[0m\u001b[1;33m\u001b[0m\u001b[1;33m\u001b[0m\u001b[0m\n\u001b[0;32m    168\u001b[0m     melody = vamp.collect(data, sr, \"mtg-melodia:melodia\",\n\u001b[1;32m--> 169\u001b[1;33m                           parameters={\"voicing\": 0.2})\n\u001b[0m\u001b[0;32m    170\u001b[0m \u001b[1;33m\u001b[0m\u001b[0m\n\u001b[0;32m    171\u001b[0m     \u001b[1;31m# hop = melody['vector'][0]\u001b[0m\u001b[1;33m\u001b[0m\u001b[1;33m\u001b[0m\u001b[1;33m\u001b[0m\u001b[0m\n",
      "\u001b[1;32mC:\\ProgramData\\Anaconda3\\envs\\ml\\lib\\site-packages\\vamp\\collect.py\u001b[0m in \u001b[0;36mcollect\u001b[1;34m(data, sample_rate, plugin_key, output, parameters, **kwargs)\u001b[0m\n\u001b[0;32m    164\u001b[0m     \"\"\"\n\u001b[0;32m    165\u001b[0m \u001b[1;33m\u001b[0m\u001b[0m\n\u001b[1;32m--> 166\u001b[1;33m     \u001b[0mplugin\u001b[0m\u001b[1;33m,\u001b[0m \u001b[0mstep_size\u001b[0m\u001b[1;33m,\u001b[0m \u001b[0mblock_size\u001b[0m \u001b[1;33m=\u001b[0m \u001b[0mvamp\u001b[0m\u001b[1;33m.\u001b[0m\u001b[0mload\u001b[0m\u001b[1;33m.\u001b[0m\u001b[0mload_and_configure\u001b[0m\u001b[1;33m(\u001b[0m\u001b[0mdata\u001b[0m\u001b[1;33m,\u001b[0m \u001b[0msample_rate\u001b[0m\u001b[1;33m,\u001b[0m \u001b[0mplugin_key\u001b[0m\u001b[1;33m,\u001b[0m \u001b[0mparameters\u001b[0m\u001b[1;33m,\u001b[0m \u001b[1;33m**\u001b[0m\u001b[0mkwargs\u001b[0m\u001b[1;33m)\u001b[0m\u001b[1;33m\u001b[0m\u001b[1;33m\u001b[0m\u001b[0m\n\u001b[0m\u001b[0;32m    167\u001b[0m \u001b[1;33m\u001b[0m\u001b[0m\n\u001b[0;32m    168\u001b[0m     \u001b[1;32mif\u001b[0m \u001b[0moutput\u001b[0m \u001b[1;33m==\u001b[0m \u001b[1;34m\"\"\u001b[0m\u001b[1;33m:\u001b[0m\u001b[1;33m\u001b[0m\u001b[1;33m\u001b[0m\u001b[0m\n",
      "\u001b[1;32mC:\\ProgramData\\Anaconda3\\envs\\ml\\lib\\site-packages\\vamp\\load.py\u001b[0m in \u001b[0;36mload_and_configure\u001b[1;34m(data, sample_rate, plugin_key, parameters, **kwargs)\u001b[0m\n\u001b[0;32m     81\u001b[0m     plug = vampyhost.load_plugin(plugin_key, sample_rate,\n\u001b[0;32m     82\u001b[0m                                  \u001b[0mvampyhost\u001b[0m\u001b[1;33m.\u001b[0m\u001b[0mADAPT_INPUT_DOMAIN\u001b[0m \u001b[1;33m+\u001b[0m\u001b[1;33m\u001b[0m\u001b[1;33m\u001b[0m\u001b[0m\n\u001b[1;32m---> 83\u001b[1;33m                                  vampyhost.ADAPT_CHANNEL_COUNT)\n\u001b[0m\u001b[0;32m     84\u001b[0m \u001b[1;33m\u001b[0m\u001b[0m\n\u001b[0;32m     85\u001b[0m     \u001b[1;32mif\u001b[0m \u001b[1;34m\"process_timestamp_method\"\u001b[0m \u001b[1;32min\u001b[0m \u001b[0mkwargs\u001b[0m\u001b[1;33m:\u001b[0m\u001b[1;33m\u001b[0m\u001b[1;33m\u001b[0m\u001b[0m\n",
      "\u001b[1;31mTypeError\u001b[0m: Failed to load plugin: mtg-melodia:melodia"
     ]
    }
   ],
   "source": [
    "audio_to_midi_melodia('chopin.wav', 'chopin.midi', 80, smooth=0.25, minduration=0.1,\n",
    "                          savejams=True)"
   ]
  },
  {
   "cell_type": "code",
   "execution_count": 4,
   "metadata": {},
   "outputs": [],
   "source": [
    "data, sr = soundfile.read('./chopin.wav')"
   ]
  },
  {
   "cell_type": "code",
   "execution_count": 5,
   "metadata": {},
   "outputs": [
    {
     "data": {
      "text/plain": [
       "array([[ 0.00000000e+00,  0.00000000e+00],\n",
       "       [ 0.00000000e+00,  0.00000000e+00],\n",
       "       [ 0.00000000e+00,  3.05175781e-05],\n",
       "       ...,\n",
       "       [-3.05175781e-05,  0.00000000e+00],\n",
       "       [-3.05175781e-05, -3.05175781e-05],\n",
       "       [ 0.00000000e+00, -3.05175781e-05]])"
      ]
     },
     "execution_count": 5,
     "metadata": {},
     "output_type": "execute_result"
    }
   ],
   "source": [
    "data"
   ]
  },
  {
   "cell_type": "code",
   "execution_count": 6,
   "metadata": {},
   "outputs": [
    {
     "data": {
      "text/plain": [
       "44100"
      ]
     },
     "execution_count": 6,
     "metadata": {},
     "output_type": "execute_result"
    }
   ],
   "source": [
    "sr"
   ]
  },
  {
   "cell_type": "code",
   "execution_count": 7,
   "metadata": {},
   "outputs": [],
   "source": [
    "fs = 44100\n",
    "hop = 128"
   ]
  },
  {
   "cell_type": "code",
   "execution_count": 8,
   "metadata": {},
   "outputs": [],
   "source": [
    "if len(data.shape) > 1 and data.shape[1] > 1:\n",
    "    data = data.mean(axis=1)\n",
    "# resample to 44100 if needed\n",
    "if sr != fs:\n",
    "    data = resampy.resample(data, sr, fs)\n",
    "    sr = fs"
   ]
  },
  {
   "cell_type": "code",
   "execution_count": 10,
   "metadata": {
    "scrolled": true
   },
   "outputs": [
    {
     "ename": "TypeError",
     "evalue": "Failed to load plugin: mtg-melodia:melodia",
     "output_type": "error",
     "traceback": [
      "\u001b[1;31m---------------------------------------------------------------------------\u001b[0m",
      "\u001b[1;31mTypeError\u001b[0m                                 Traceback (most recent call last)",
      "\u001b[1;32m<ipython-input-10-c086df86965d>\u001b[0m in \u001b[0;36m<module>\u001b[1;34m\u001b[0m\n\u001b[0;32m      1\u001b[0m melody = vamp.collect(data, sr, \"mtg-melodia:melodia\",\n\u001b[1;32m----> 2\u001b[1;33m                       parameters={\"voicing\": 0.2})\n\u001b[0m",
      "\u001b[1;32mC:\\ProgramData\\Anaconda3\\envs\\ml\\lib\\site-packages\\vamp\\collect.py\u001b[0m in \u001b[0;36mcollect\u001b[1;34m(data, sample_rate, plugin_key, output, parameters, **kwargs)\u001b[0m\n\u001b[0;32m    164\u001b[0m     \"\"\"\n\u001b[0;32m    165\u001b[0m \u001b[1;33m\u001b[0m\u001b[0m\n\u001b[1;32m--> 166\u001b[1;33m     \u001b[0mplugin\u001b[0m\u001b[1;33m,\u001b[0m \u001b[0mstep_size\u001b[0m\u001b[1;33m,\u001b[0m \u001b[0mblock_size\u001b[0m \u001b[1;33m=\u001b[0m \u001b[0mvamp\u001b[0m\u001b[1;33m.\u001b[0m\u001b[0mload\u001b[0m\u001b[1;33m.\u001b[0m\u001b[0mload_and_configure\u001b[0m\u001b[1;33m(\u001b[0m\u001b[0mdata\u001b[0m\u001b[1;33m,\u001b[0m \u001b[0msample_rate\u001b[0m\u001b[1;33m,\u001b[0m \u001b[0mplugin_key\u001b[0m\u001b[1;33m,\u001b[0m \u001b[0mparameters\u001b[0m\u001b[1;33m,\u001b[0m \u001b[1;33m**\u001b[0m\u001b[0mkwargs\u001b[0m\u001b[1;33m)\u001b[0m\u001b[1;33m\u001b[0m\u001b[1;33m\u001b[0m\u001b[0m\n\u001b[0m\u001b[0;32m    167\u001b[0m \u001b[1;33m\u001b[0m\u001b[0m\n\u001b[0;32m    168\u001b[0m     \u001b[1;32mif\u001b[0m \u001b[0moutput\u001b[0m \u001b[1;33m==\u001b[0m \u001b[1;34m\"\"\u001b[0m\u001b[1;33m:\u001b[0m\u001b[1;33m\u001b[0m\u001b[1;33m\u001b[0m\u001b[0m\n",
      "\u001b[1;32mC:\\ProgramData\\Anaconda3\\envs\\ml\\lib\\site-packages\\vamp\\load.py\u001b[0m in \u001b[0;36mload_and_configure\u001b[1;34m(data, sample_rate, plugin_key, parameters, **kwargs)\u001b[0m\n\u001b[0;32m     81\u001b[0m     plug = vampyhost.load_plugin(plugin_key, sample_rate,\n\u001b[0;32m     82\u001b[0m                                  \u001b[0mvampyhost\u001b[0m\u001b[1;33m.\u001b[0m\u001b[0mADAPT_INPUT_DOMAIN\u001b[0m \u001b[1;33m+\u001b[0m\u001b[1;33m\u001b[0m\u001b[1;33m\u001b[0m\u001b[0m\n\u001b[1;32m---> 83\u001b[1;33m                                  vampyhost.ADAPT_CHANNEL_COUNT)\n\u001b[0m\u001b[0;32m     84\u001b[0m \u001b[1;33m\u001b[0m\u001b[0m\n\u001b[0;32m     85\u001b[0m     \u001b[1;32mif\u001b[0m \u001b[1;34m\"process_timestamp_method\"\u001b[0m \u001b[1;32min\u001b[0m \u001b[0mkwargs\u001b[0m\u001b[1;33m:\u001b[0m\u001b[1;33m\u001b[0m\u001b[1;33m\u001b[0m\u001b[0m\n",
      "\u001b[1;31mTypeError\u001b[0m: Failed to load plugin: mtg-melodia:melodia"
     ]
    }
   ],
   "source": [
    "melody = vamp.collect(data, sr, \"mtg-melodia:melodia\",\n",
    "                      parameters={\"voicing\": 0.2})"
   ]
  },
  {
   "cell_type": "code",
   "execution_count": null,
   "metadata": {},
   "outputs": [],
   "source": []
  },
  {
   "cell_type": "code",
   "execution_count": null,
   "metadata": {},
   "outputs": [],
   "source": []
  }
 ],
 "metadata": {
  "kernelspec": {
   "display_name": "Python 3",
   "language": "python",
   "name": "python3"
  },
  "language_info": {
   "codemirror_mode": {
    "name": "ipython",
    "version": 3
   },
   "file_extension": ".py",
   "mimetype": "text/x-python",
   "name": "python",
   "nbconvert_exporter": "python",
   "pygments_lexer": "ipython3",
   "version": "3.6.8"
  }
 },
 "nbformat": 4,
 "nbformat_minor": 2
}
