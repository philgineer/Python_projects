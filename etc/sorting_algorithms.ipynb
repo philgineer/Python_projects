{
 "metadata": {
  "language_info": {
   "codemirror_mode": {
    "name": "ipython",
    "version": 3
   },
   "file_extension": ".py",
   "mimetype": "text/x-python",
   "name": "python",
   "nbconvert_exporter": "python",
   "pygments_lexer": "ipython3",
   "version": "3.8.5"
  },
  "orig_nbformat": 4,
  "kernelspec": {
   "name": "python3",
   "display_name": "Python 3.8.5 64-bit ('boostcamp': conda)"
  },
  "interpreter": {
   "hash": "3832cb38c4fd99123b40ec84fe6dee7058b1e683c1de6c2b61107f81703454ed"
  }
 },
 "nbformat": 4,
 "nbformat_minor": 2,
 "cells": [
  {
   "cell_type": "code",
   "execution_count": 2,
   "metadata": {},
   "outputs": [
    {
     "output_type": "stream",
     "name": "stdout",
     "text": [
      "[0, 1, 2, 3, 4, 5, 6, 7, 8, 9]\n"
     ]
    }
   ],
   "source": [
    "# 선택 정렬 (selection sort)\n",
    "\"\"\"\n",
    "O(N**2)\n",
    "\"\"\"\n",
    "arr = [7, 5, 9, 0, 3, 1, 6, 2, 4, 8]\n",
    "\n",
    "for i in range(len(arr)):\n",
    "    min_idx = i\n",
    "    for j in range(i + 1, len(arr)):\n",
    "        if arr[j] < arr[min_idx]:\n",
    "            min_idx = j\n",
    "    arr[i], arr[min_idx] = arr[min_idx], arr[i]\n",
    "\n",
    "print(arr)"
   ]
  },
  {
   "cell_type": "code",
   "execution_count": 8,
   "metadata": {},
   "outputs": [
    {
     "output_type": "stream",
     "name": "stdout",
     "text": [
      "[0, 1, 2, 3, 4, 5, 6, 7, 8, 9]\n"
     ]
    }
   ],
   "source": [
    "# 삽입 정렬 (insertion sort)\n",
    "\"\"\"\n",
    "O(N) ~ O(N**2)\n",
    "이미 정렬되어 있을수록 O(N)에 가까움\n",
    "\"\"\"\n",
    "arr = [7, 5, 9, 0, 3, 1, 6, 2, 4, 8]\n",
    "\n",
    "for i in range(1, len(arr)):\n",
    "    for j in range(i, 0, -1):\n",
    "        if arr[j] < arr[j-1]:\n",
    "            arr[j], arr[j-1] = arr[j-1], arr[j]\n",
    "        else:\n",
    "            break\n",
    "\n",
    "print(arr)"
   ]
  },
  {
   "cell_type": "code",
   "execution_count": 4,
   "metadata": {},
   "outputs": [
    {
     "output_type": "stream",
     "name": "stdout",
     "text": [
      "[0, 1, 2, 3, 4, 5, 6, 7, 8, 9]\n"
     ]
    }
   ],
   "source": [
    "# 삽입 정렬 ver.2\n",
    "import bisect\n",
    "\n",
    "arr = [7, 5, 9, 0, 3, 1, 6, 2, 4, 8]\n",
    "\n",
    "l = []\n",
    "for a in arr:\n",
    "    bisect.insort(l, a)\n",
    "\n",
    "print(l)"
   ]
  },
  {
   "cell_type": "code",
   "execution_count": 19,
   "metadata": {},
   "outputs": [
    {
     "output_type": "stream",
     "name": "stdout",
     "text": [
      "pivot: 5   arr: [5, 7, 9, 0, 3, 1, 6, 2, 4]\npivot: 5   arr: [5, 4, 9, 0, 3, 1, 6]\npivot: 5   arr: [5, 4, 2, 0, 3, 1]\npivot: 1   arr: [1, 4, 2, 0]\npivot: 1   arr: [1, 0]\npivot: 1   arr: [1, 2, 4]\npivot: 2   arr: [2, 4]\npivot: 4   arr: [4]\npivot: 1   arr: [1, 2, 3, 4, 5, 6]\npivot: 2   arr: [2, 3, 4, 5, 6]\npivot: 3   arr: [3, 4, 5, 6]\npivot: 4   arr: [4, 5, 6]\npivot: 5   arr: [5, 6]\npivot: 6   arr: [6]\npivot: 1   arr: [1, 2, 3, 4, 5, 6, 9, 7]\npivot: 2   arr: [2, 3, 4, 5, 6, 9, 7]\npivot: 3   arr: [3, 4, 5, 6, 9, 7]\npivot: 4   arr: [4, 5, 6, 9, 7]\npivot: 5   arr: [5, 6, 9, 7]\npivot: 6   arr: [6, 9, 7]\npivot: 9   arr: [9, 7]\npivot: 8   arr: [8]\n[0, 1, 2, 3, 4, 5, 6, 7, 8, 9]\n"
     ]
    }
   ],
   "source": [
    "# 퀵 정렬 (quick sort)\n",
    "\"\"\"\n",
    "평균적으로 O(NlogN)\n",
    "이미 정렬된 경우 O(N**2) -> 실제 라이브러리에서는 추가적인 로직으로 NlogN 보장\n",
    "\"\"\"\n",
    "arr = [5, 7, 9, 0, 3, 1, 6, 2, 4, 8]\n",
    "\n",
    "def quick_sort(array, start, end):\n",
    "    if start >= end: # 원소가 1개인 경우 종료\n",
    "        return\n",
    "    pivot = start\n",
    "    left = start + 1\n",
    "    right = end\n",
    "    print('pivot:', arr[pivot], '  arr:',array[start:end])\n",
    "    while left <= right:\n",
    "        while left <= end and array[left] <= arr[pivot]:\n",
    "            left += 1\n",
    "        while right > start and array[right] >= array[pivot]:\n",
    "            right -= 1\n",
    "        if left > right:\n",
    "            array[right], array[pivot] = array[pivot], array[right]\n",
    "        else:\n",
    "            array[left], array[right] = array[right], array[left]\n",
    "        quick_sort(array, start, right - 1)\n",
    "        quick_sort(array, right + 1, end)\n",
    "\n",
    "\n",
    "quick_sort(arr, 0, len(arr) - 1)\n",
    "print(arr)"
   ]
  },
  {
   "cell_type": "code",
   "execution_count": 23,
   "metadata": {},
   "outputs": [
    {
     "output_type": "stream",
     "name": "stdout",
     "text": [
      "pivot: 5   arr: [5, 7, 9, 0, 3, 1, 6, 2, 4, 8]\npivot: 0   arr: [0, 3, 1, 2, 4]\npivot: 3   arr: [3, 1, 2, 4]\npivot: 1   arr: [1, 2]\npivot: 7   arr: [7, 9, 6, 8]\npivot: 9   arr: [9, 8]\n[0, 1, 2, 3, 4, 5, 6, 7, 8, 9]\n"
     ]
    }
   ],
   "source": [
    "# 퀵 정렬 ver.2\n",
    "arr = [5, 7, 9, 0, 3, 1, 6, 2, 4, 8]\n",
    "\n",
    "def quick_sort(array):\n",
    "    if len(array) <= 1:\n",
    "        return array\n",
    "\n",
    "    pivot = array[0]\n",
    "    tail = array[1:]\n",
    "\n",
    "    print('pivot:', pivot, '  arr:', array)\n",
    "\n",
    "    left = [x for x in tail if x <= pivot]\n",
    "    right = [x for x in tail if x > pivot]\n",
    "\n",
    "    return quick_sort(left) + [pivot] + quick_sort(right)\n",
    "\n",
    "\n",
    "print(quick_sort(arr))"
   ]
  },
  {
   "cell_type": "code",
   "execution_count": 1,
   "metadata": {},
   "outputs": [
    {
     "output_type": "stream",
     "name": "stdout",
     "text": [
      "0 0 1 1 2 2 3 4 5 5 6 7 8 9 9 "
     ]
    }
   ],
   "source": [
    "# 계수 정렬 (count sort)\n",
    "\"\"\"\n",
    "데이터 크기 범위가 제한되어 정수 형태로 표현할 수 있을 때 사용 가능. (최댓값 K)\n",
    "O(N + K)\n",
    "\"\"\"\n",
    "\n",
    "arr = [7, 5, 9, 0, 3, 1, 6, 2, 9, 1, 4, 8, 0, 5, 2]\n",
    "count = [0] * (max(arr) + 1)\n",
    "\n",
    "for i in range(len(arr)):\n",
    "    count[arr[i]] += 1\n",
    "\n",
    "for i in range(len(count)):\n",
    "    for j in range(count[i]):\n",
    "        print(i, end=' ')"
   ]
  },
  {
   "cell_type": "code",
   "execution_count": null,
   "metadata": {},
   "outputs": [],
   "source": []
  }
 ]
}